{
 "cells": [
  {
   "cell_type": "markdown",
   "metadata": {},
   "source": [
    "\n",
    "\n",
    "# Telco_churn\n",
    "\n",
    "### Problem Statement\n",
    "With increase in number of telecommunication operators a customer is entitled with unlimited freedom to switch from one mobile operator to another, if he is not satisfied with the services or pricing their providers are providing. This trend is not good for operators as they lose their revenues because of customers switching from one provider to another in search of cheap affordable high-quality products and services [1]. The rate at which you are losing subscribers or customer is called 'churn rate'\n",
    "\n",
    "### Data Science Problem Statement\n",
    "Analyse customer-level data, build predictive models to identify customers at high risk of churn and identify the main indicators of churn. most telecom service providers lack personilized way of recommending products and services to the subscribers and most of them do not have tactics to reduce chun. Increase in churn rate will result in revenue shrinkage for the company.\n",
    "\n",
    "### Business Goals\n",
    "- Segment based on usage and identify the high value customers\n",
    "- if we can reduce churn of the high-value customers, we will be able to reduce significant revenue leakage.\n",
    "- business objective is to predict the churn in the last (i.e. the ninth) month using the data (features) from the first three months. To do this task well, understanding the typical customer behaviour during churn will be helpful.\n",
    "\n",
    "Before starting to work recommendations, Customer segmentation is very important.\n",
    "\n",
    "### About Data\n",
    "- As this data is mostly indian and southeast Asia,prepaid is the most common plan in used. Focus on prepaid customers.\n",
    "- Class imbalance \n",
    "- Churn definition used-- \"Usage-based churn: Customers who have not done any usage, either incoming or outgoing - in terms of calls, internet etc. over a period of time.\" In this project, we will use the usage-based definition to define churn.\n",
    "- In this project, you will define high-value customers based on a certain metric (mentioned later below) and predict churn only on high-value customers.\n",
    "- especially high-value customers go through  three phases of customer lifecycle: a. The ‘good’ phase, b. The ‘action’ phase, c. The ‘churn’ phase\n",
    "\n",
    "### Approach:\n",
    "For given unbalanced data build Telecom Churn Model:\n",
    "- Data Cleaning\n",
    "- Adding Derived Variable/Featire engineered variables and Identifing churn variable\n",
    "- Exploratory Data Analysis (univariate & Bivariate).\n",
    "- Segement High value customers based on usage\n",
    "- Treating categorical variable.\n",
    "- Perform SMOTE to address data imbalance\n",
    "- Dimentinality Reduction  and selecting good features using sklearn (scikit-learn)\n",
    "    - PCA (Pricipal Component Analsis), \n",
    "     \n",
    "- Machine Learning Model using sklearn (scikit-learn)\n",
    "    - Logistic Regression\n",
    "    RFE (Recursive Feature Elimination)\n",
    "    - Decission Tree\n",
    "    - Random Forest\n",
    "    - XGBoost\n",
    "    - SVM   \n",
    "- Model Accuracy comparision\n",
    "    -- Confusion Matrix\n",
    "    -- Model accuracy using \n",
    "    -- Recall/True positive rate\n",
    "\n",
    "### Customer Segmentation:\n",
    "There are four segmentation schemes of primary importance: \n",
    "- customer value segmentation (In this notebook Customer segmentation only on high value)\n",
    "- customer behaviour segmentation \n",
    "- customer lifecycle segmentation\n",
    "- customer migration segmentation\n",
    "\n",
    "### Evaluation Metric\n",
    "We will be using F1 score / Recall\n",
    "\n",
    "Recall is the most important business metric for the telecom churn problem. The company would like to identify most customers at risk of churning, even if there are many customers that are misclassified as churn. The cost to the company of churning is much higher than having a few false positives. Apart from Recall Interpretibility, Number of featurees, Test Accuracy, AUC and F1 are considered to choose best model"
   ]
  },
  {
   "cell_type": "markdown",
   "metadata": {},
   "source": [
    "#### Data Cleaning\n",
    "\n",
    "1. Understand the properties of loaded dataframe\n",
    "2. Idnetify Uniquness key\n",
    "3. Identify bad colums that has no information (all entries are null or same)\n",
    "4. Convert dates to meaningful number of days\n",
    "5. Remove columns with data that does not make much sense for our analysis\n",
    "6. Missing value treatment: replace with '0', mean or median; drop rows; drop columns\n",
    "7. Outlier Treatment\n",
    "8. Write data into a clean data file. This will be used to create master-df for analysis"
   ]
  },
  {
   "cell_type": "markdown",
   "metadata": {},
   "source": [
    "### Import libraries and load datafile"
   ]
  },
  {
   "cell_type": "code",
   "execution_count": 51,
   "metadata": {},
   "outputs": [
    {
     "name": "stderr",
     "output_type": "stream",
     "text": [
      "/home/roott/anaconda3/lib/python3.7/site-packages/dask/dataframe/utils.py:15: FutureWarning: pandas.util.testing is deprecated. Use the functions in the public API at pandas.testing instead.\n",
      "  import pandas.util.testing as tm\n"
     ]
    }
   ],
   "source": [
    "import pandas as pd, numpy as np, seaborn as sns\n",
    "import matplotlib.pyplot as plt\n",
    "import datetime as dt\n",
    "from sklearn.preprocessing import StandardScaler\n",
    "from sklearn.model_selection import train_test_split\n",
    "from sklearn.decomposition import PCA\n",
    "from sklearn.decomposition import IncrementalPCA\n",
    "from sklearn.linear_model import LogisticRegression\n",
    "from sklearn.tree import DecisionTreeClassifier\n",
    "from sklearn.metrics import accuracy_score, roc_auc_score, confusion_matrix, precision_score, recall_score, classification_report, f1_score\n",
    "from sklearn import model_selection\n",
    "from sklearn.model_selection import GridSearchCV\n",
    "import warnings\n",
    "from imblearn.over_sampling import SMOTE, ADASYN\n",
    "from collections import Counter\n",
    "from sklearn.ensemble import RandomForestClassifier\n",
    "from sklearn.svm import SVC\n",
    "from sklearn.linear_model import LogisticRegression\n",
    "from sklearn import metrics\n",
    "import xgboost as xgb\n",
    "\n",
    "warnings.filterwarnings(\"ignore\")\n",
    "pd.set_option('display.max_columns', None)\n",
    "\n",
    "# Until fuction: line seperator\n",
    "def print_ln():\n",
    "    print('-'*80, '\\n')\n",
    "    \n",
    "pd.options.display.float_format = '{:.2f}'.format\n",
    "\n",
    "telecom_train = pd.read_csv('telecom_churn_data.csv', low_memory=False)"
   ]
  },
  {
   "cell_type": "code",
   "execution_count": 2,
   "metadata": {},
   "outputs": [
    {
     "name": "stdout",
     "output_type": "stream",
     "text": [
      "Dataframe Shape:  (99999, 226)\n",
      "-------------------------------------------------------------------------------- \n",
      "\n",
      "Dataframe Info: \n",
      "\n",
      "<class 'pandas.core.frame.DataFrame'>\n",
      "RangeIndex: 99999 entries, 0 to 99998\n",
      "Columns: 226 entries, mobile_number to sep_vbc_3g\n",
      "dtypes: float64(179), int64(35), object(12)\n",
      "memory usage: 172.4+ MB\n",
      "-------------------------------------------------------------------------------- \n",
      "\n"
     ]
    },
    {
     "data": {
      "text/html": [
       "<div>\n",
       "<style scoped>\n",
       "    .dataframe tbody tr th:only-of-type {\n",
       "        vertical-align: middle;\n",
       "    }\n",
       "\n",
       "    .dataframe tbody tr th {\n",
       "        vertical-align: top;\n",
       "    }\n",
       "\n",
       "    .dataframe thead th {\n",
       "        text-align: right;\n",
       "    }\n",
       "</style>\n",
       "<table border=\"1\" class=\"dataframe\">\n",
       "  <thead>\n",
       "    <tr style=\"text-align: right;\">\n",
       "      <th></th>\n",
       "      <th>mobile_number</th>\n",
       "      <th>circle_id</th>\n",
       "      <th>loc_og_t2o_mou</th>\n",
       "      <th>std_og_t2o_mou</th>\n",
       "      <th>loc_ic_t2o_mou</th>\n",
       "      <th>last_date_of_month_6</th>\n",
       "      <th>last_date_of_month_7</th>\n",
       "      <th>last_date_of_month_8</th>\n",
       "      <th>last_date_of_month_9</th>\n",
       "      <th>arpu_6</th>\n",
       "      <th>...</th>\n",
       "      <th>sachet_3g_9</th>\n",
       "      <th>fb_user_6</th>\n",
       "      <th>fb_user_7</th>\n",
       "      <th>fb_user_8</th>\n",
       "      <th>fb_user_9</th>\n",
       "      <th>aon</th>\n",
       "      <th>aug_vbc_3g</th>\n",
       "      <th>jul_vbc_3g</th>\n",
       "      <th>jun_vbc_3g</th>\n",
       "      <th>sep_vbc_3g</th>\n",
       "    </tr>\n",
       "  </thead>\n",
       "  <tbody>\n",
       "    <tr>\n",
       "      <th>0</th>\n",
       "      <td>7000842753</td>\n",
       "      <td>109</td>\n",
       "      <td>0.00</td>\n",
       "      <td>0.00</td>\n",
       "      <td>0.00</td>\n",
       "      <td>6/30/2014</td>\n",
       "      <td>7/31/2014</td>\n",
       "      <td>8/31/2014</td>\n",
       "      <td>9/30/2014</td>\n",
       "      <td>197.38</td>\n",
       "      <td>...</td>\n",
       "      <td>0</td>\n",
       "      <td>1.00</td>\n",
       "      <td>1.00</td>\n",
       "      <td>1.00</td>\n",
       "      <td>nan</td>\n",
       "      <td>968</td>\n",
       "      <td>30.40</td>\n",
       "      <td>0.00</td>\n",
       "      <td>101.20</td>\n",
       "      <td>3.58</td>\n",
       "    </tr>\n",
       "    <tr>\n",
       "      <th>1</th>\n",
       "      <td>7001865778</td>\n",
       "      <td>109</td>\n",
       "      <td>0.00</td>\n",
       "      <td>0.00</td>\n",
       "      <td>0.00</td>\n",
       "      <td>6/30/2014</td>\n",
       "      <td>7/31/2014</td>\n",
       "      <td>8/31/2014</td>\n",
       "      <td>9/30/2014</td>\n",
       "      <td>34.05</td>\n",
       "      <td>...</td>\n",
       "      <td>0</td>\n",
       "      <td>nan</td>\n",
       "      <td>1.00</td>\n",
       "      <td>1.00</td>\n",
       "      <td>nan</td>\n",
       "      <td>1006</td>\n",
       "      <td>0.00</td>\n",
       "      <td>0.00</td>\n",
       "      <td>0.00</td>\n",
       "      <td>0.00</td>\n",
       "    </tr>\n",
       "    <tr>\n",
       "      <th>2</th>\n",
       "      <td>7001625959</td>\n",
       "      <td>109</td>\n",
       "      <td>0.00</td>\n",
       "      <td>0.00</td>\n",
       "      <td>0.00</td>\n",
       "      <td>6/30/2014</td>\n",
       "      <td>7/31/2014</td>\n",
       "      <td>8/31/2014</td>\n",
       "      <td>9/30/2014</td>\n",
       "      <td>167.69</td>\n",
       "      <td>...</td>\n",
       "      <td>0</td>\n",
       "      <td>nan</td>\n",
       "      <td>nan</td>\n",
       "      <td>nan</td>\n",
       "      <td>1.00</td>\n",
       "      <td>1103</td>\n",
       "      <td>0.00</td>\n",
       "      <td>0.00</td>\n",
       "      <td>4.17</td>\n",
       "      <td>0.00</td>\n",
       "    </tr>\n",
       "    <tr>\n",
       "      <th>3</th>\n",
       "      <td>7001204172</td>\n",
       "      <td>109</td>\n",
       "      <td>0.00</td>\n",
       "      <td>0.00</td>\n",
       "      <td>0.00</td>\n",
       "      <td>6/30/2014</td>\n",
       "      <td>7/31/2014</td>\n",
       "      <td>8/31/2014</td>\n",
       "      <td>9/30/2014</td>\n",
       "      <td>221.34</td>\n",
       "      <td>...</td>\n",
       "      <td>0</td>\n",
       "      <td>nan</td>\n",
       "      <td>nan</td>\n",
       "      <td>nan</td>\n",
       "      <td>nan</td>\n",
       "      <td>2491</td>\n",
       "      <td>0.00</td>\n",
       "      <td>0.00</td>\n",
       "      <td>0.00</td>\n",
       "      <td>0.00</td>\n",
       "    </tr>\n",
       "    <tr>\n",
       "      <th>4</th>\n",
       "      <td>7000142493</td>\n",
       "      <td>109</td>\n",
       "      <td>0.00</td>\n",
       "      <td>0.00</td>\n",
       "      <td>0.00</td>\n",
       "      <td>6/30/2014</td>\n",
       "      <td>7/31/2014</td>\n",
       "      <td>8/31/2014</td>\n",
       "      <td>9/30/2014</td>\n",
       "      <td>261.64</td>\n",
       "      <td>...</td>\n",
       "      <td>0</td>\n",
       "      <td>0.00</td>\n",
       "      <td>nan</td>\n",
       "      <td>nan</td>\n",
       "      <td>nan</td>\n",
       "      <td>1526</td>\n",
       "      <td>0.00</td>\n",
       "      <td>0.00</td>\n",
       "      <td>0.00</td>\n",
       "      <td>0.00</td>\n",
       "    </tr>\n",
       "  </tbody>\n",
       "</table>\n",
       "<p>5 rows × 226 columns</p>\n",
       "</div>"
      ],
      "text/plain": [
       "   mobile_number  circle_id  loc_og_t2o_mou  std_og_t2o_mou  loc_ic_t2o_mou  \\\n",
       "0     7000842753        109            0.00            0.00            0.00   \n",
       "1     7001865778        109            0.00            0.00            0.00   \n",
       "2     7001625959        109            0.00            0.00            0.00   \n",
       "3     7001204172        109            0.00            0.00            0.00   \n",
       "4     7000142493        109            0.00            0.00            0.00   \n",
       "\n",
       "  last_date_of_month_6 last_date_of_month_7 last_date_of_month_8  \\\n",
       "0            6/30/2014            7/31/2014            8/31/2014   \n",
       "1            6/30/2014            7/31/2014            8/31/2014   \n",
       "2            6/30/2014            7/31/2014            8/31/2014   \n",
       "3            6/30/2014            7/31/2014            8/31/2014   \n",
       "4            6/30/2014            7/31/2014            8/31/2014   \n",
       "\n",
       "  last_date_of_month_9  arpu_6  ...  sachet_3g_9  fb_user_6  fb_user_7  \\\n",
       "0            9/30/2014  197.38  ...            0       1.00       1.00   \n",
       "1            9/30/2014   34.05  ...            0        nan       1.00   \n",
       "2            9/30/2014  167.69  ...            0        nan        nan   \n",
       "3            9/30/2014  221.34  ...            0        nan        nan   \n",
       "4            9/30/2014  261.64  ...            0       0.00        nan   \n",
       "\n",
       "   fb_user_8  fb_user_9   aon  aug_vbc_3g  jul_vbc_3g  jun_vbc_3g  sep_vbc_3g  \n",
       "0       1.00        nan   968       30.40        0.00      101.20        3.58  \n",
       "1       1.00        nan  1006        0.00        0.00        0.00        0.00  \n",
       "2        nan       1.00  1103        0.00        0.00        4.17        0.00  \n",
       "3        nan        nan  2491        0.00        0.00        0.00        0.00  \n",
       "4        nan        nan  1526        0.00        0.00        0.00        0.00  \n",
       "\n",
       "[5 rows x 226 columns]"
      ]
     },
     "execution_count": 2,
     "metadata": {},
     "output_type": "execute_result"
    }
   ],
   "source": [
    "# Understand the properties of loaded dataframe\n",
    "telecom = telecom_train.copy()\n",
    "print('Dataframe Shape: ', telecom.shape); print_ln();\n",
    "print(\"Dataframe Info: \\n\"); telecom.info(); print_ln();\n",
    "telecom.head(5)"
   ]
  },
  {
   "cell_type": "code",
   "execution_count": 3,
   "metadata": {},
   "outputs": [
    {
     "data": {
      "text/plain": [
       "mobile_number       int64\n",
       "circle_id           int64\n",
       "loc_og_t2o_mou    float64\n",
       "std_og_t2o_mou    float64\n",
       "loc_ic_t2o_mou    float64\n",
       "                   ...   \n",
       "aon                 int64\n",
       "aug_vbc_3g        float64\n",
       "jul_vbc_3g        float64\n",
       "jun_vbc_3g        float64\n",
       "sep_vbc_3g        float64\n",
       "Length: 226, dtype: object"
      ]
     },
     "execution_count": 3,
     "metadata": {},
     "output_type": "execute_result"
    }
   ],
   "source": [
    "telecom.dtypes"
   ]
  },
  {
   "cell_type": "code",
   "execution_count": 4,
   "metadata": {},
   "outputs": [
    {
     "name": "stdout",
     "output_type": "stream",
     "text": [
      "mobile_number -  missing values: 0 and datatype is int64\n",
      "circle_id -  missing values: 0 and datatype is int64\n",
      "loc_og_t2o_mou -  missing values: 1018 and datatype is float64\n",
      "std_og_t2o_mou -  missing values: 1018 and datatype is float64\n",
      "loc_ic_t2o_mou -  missing values: 1018 and datatype is float64\n",
      "last_date_of_month_6 -  missing values: 0 and datatype is object\n",
      "last_date_of_month_7 -  missing values: 601 and datatype is object\n",
      "last_date_of_month_8 -  missing values: 1100 and datatype is object\n",
      "last_date_of_month_9 -  missing values: 1659 and datatype is object\n",
      "arpu_6 -  missing values: 0 and datatype is float64\n",
      "arpu_7 -  missing values: 0 and datatype is float64\n",
      "arpu_8 -  missing values: 0 and datatype is float64\n",
      "arpu_9 -  missing values: 0 and datatype is float64\n",
      "onnet_mou_6 -  missing values: 3937 and datatype is float64\n",
      "onnet_mou_7 -  missing values: 3859 and datatype is float64\n",
      "onnet_mou_8 -  missing values: 5378 and datatype is float64\n",
      "onnet_mou_9 -  missing values: 7745 and datatype is float64\n",
      "offnet_mou_6 -  missing values: 3937 and datatype is float64\n",
      "offnet_mou_7 -  missing values: 3859 and datatype is float64\n",
      "offnet_mou_8 -  missing values: 5378 and datatype is float64\n",
      "offnet_mou_9 -  missing values: 7745 and datatype is float64\n",
      "roam_ic_mou_6 -  missing values: 3937 and datatype is float64\n",
      "roam_ic_mou_7 -  missing values: 3859 and datatype is float64\n",
      "roam_ic_mou_8 -  missing values: 5378 and datatype is float64\n",
      "roam_ic_mou_9 -  missing values: 7745 and datatype is float64\n",
      "roam_og_mou_6 -  missing values: 3937 and datatype is float64\n",
      "roam_og_mou_7 -  missing values: 3859 and datatype is float64\n",
      "roam_og_mou_8 -  missing values: 5378 and datatype is float64\n",
      "roam_og_mou_9 -  missing values: 7745 and datatype is float64\n",
      "loc_og_t2t_mou_6 -  missing values: 3937 and datatype is float64\n",
      "loc_og_t2t_mou_7 -  missing values: 3859 and datatype is float64\n",
      "loc_og_t2t_mou_8 -  missing values: 5378 and datatype is float64\n",
      "loc_og_t2t_mou_9 -  missing values: 7745 and datatype is float64\n",
      "loc_og_t2m_mou_6 -  missing values: 3937 and datatype is float64\n",
      "loc_og_t2m_mou_7 -  missing values: 3859 and datatype is float64\n",
      "loc_og_t2m_mou_8 -  missing values: 5378 and datatype is float64\n",
      "loc_og_t2m_mou_9 -  missing values: 7745 and datatype is float64\n",
      "loc_og_t2f_mou_6 -  missing values: 3937 and datatype is float64\n",
      "loc_og_t2f_mou_7 -  missing values: 3859 and datatype is float64\n",
      "loc_og_t2f_mou_8 -  missing values: 5378 and datatype is float64\n",
      "loc_og_t2f_mou_9 -  missing values: 7745 and datatype is float64\n",
      "loc_og_t2c_mou_6 -  missing values: 3937 and datatype is float64\n",
      "loc_og_t2c_mou_7 -  missing values: 3859 and datatype is float64\n",
      "loc_og_t2c_mou_8 -  missing values: 5378 and datatype is float64\n",
      "loc_og_t2c_mou_9 -  missing values: 7745 and datatype is float64\n",
      "loc_og_mou_6 -  missing values: 3937 and datatype is float64\n",
      "loc_og_mou_7 -  missing values: 3859 and datatype is float64\n",
      "loc_og_mou_8 -  missing values: 5378 and datatype is float64\n",
      "loc_og_mou_9 -  missing values: 7745 and datatype is float64\n",
      "std_og_t2t_mou_6 -  missing values: 3937 and datatype is float64\n",
      "std_og_t2t_mou_7 -  missing values: 3859 and datatype is float64\n",
      "std_og_t2t_mou_8 -  missing values: 5378 and datatype is float64\n",
      "std_og_t2t_mou_9 -  missing values: 7745 and datatype is float64\n",
      "std_og_t2m_mou_6 -  missing values: 3937 and datatype is float64\n",
      "std_og_t2m_mou_7 -  missing values: 3859 and datatype is float64\n",
      "std_og_t2m_mou_8 -  missing values: 5378 and datatype is float64\n",
      "std_og_t2m_mou_9 -  missing values: 7745 and datatype is float64\n",
      "std_og_t2f_mou_6 -  missing values: 3937 and datatype is float64\n",
      "std_og_t2f_mou_7 -  missing values: 3859 and datatype is float64\n",
      "std_og_t2f_mou_8 -  missing values: 5378 and datatype is float64\n",
      "std_og_t2f_mou_9 -  missing values: 7745 and datatype is float64\n",
      "std_og_t2c_mou_6 -  missing values: 3937 and datatype is float64\n",
      "std_og_t2c_mou_7 -  missing values: 3859 and datatype is float64\n",
      "std_og_t2c_mou_8 -  missing values: 5378 and datatype is float64\n",
      "std_og_t2c_mou_9 -  missing values: 7745 and datatype is float64\n",
      "std_og_mou_6 -  missing values: 3937 and datatype is float64\n",
      "std_og_mou_7 -  missing values: 3859 and datatype is float64\n",
      "std_og_mou_8 -  missing values: 5378 and datatype is float64\n",
      "std_og_mou_9 -  missing values: 7745 and datatype is float64\n",
      "isd_og_mou_6 -  missing values: 3937 and datatype is float64\n",
      "isd_og_mou_7 -  missing values: 3859 and datatype is float64\n",
      "isd_og_mou_8 -  missing values: 5378 and datatype is float64\n",
      "isd_og_mou_9 -  missing values: 7745 and datatype is float64\n",
      "spl_og_mou_6 -  missing values: 3937 and datatype is float64\n",
      "spl_og_mou_7 -  missing values: 3859 and datatype is float64\n",
      "spl_og_mou_8 -  missing values: 5378 and datatype is float64\n",
      "spl_og_mou_9 -  missing values: 7745 and datatype is float64\n",
      "og_others_6 -  missing values: 3937 and datatype is float64\n",
      "og_others_7 -  missing values: 3859 and datatype is float64\n",
      "og_others_8 -  missing values: 5378 and datatype is float64\n",
      "og_others_9 -  missing values: 7745 and datatype is float64\n",
      "total_og_mou_6 -  missing values: 0 and datatype is float64\n",
      "total_og_mou_7 -  missing values: 0 and datatype is float64\n",
      "total_og_mou_8 -  missing values: 0 and datatype is float64\n",
      "total_og_mou_9 -  missing values: 0 and datatype is float64\n",
      "loc_ic_t2t_mou_6 -  missing values: 3937 and datatype is float64\n",
      "loc_ic_t2t_mou_7 -  missing values: 3859 and datatype is float64\n",
      "loc_ic_t2t_mou_8 -  missing values: 5378 and datatype is float64\n",
      "loc_ic_t2t_mou_9 -  missing values: 7745 and datatype is float64\n",
      "loc_ic_t2m_mou_6 -  missing values: 3937 and datatype is float64\n",
      "loc_ic_t2m_mou_7 -  missing values: 3859 and datatype is float64\n",
      "loc_ic_t2m_mou_8 -  missing values: 5378 and datatype is float64\n",
      "loc_ic_t2m_mou_9 -  missing values: 7745 and datatype is float64\n",
      "loc_ic_t2f_mou_6 -  missing values: 3937 and datatype is float64\n",
      "loc_ic_t2f_mou_7 -  missing values: 3859 and datatype is float64\n",
      "loc_ic_t2f_mou_8 -  missing values: 5378 and datatype is float64\n",
      "loc_ic_t2f_mou_9 -  missing values: 7745 and datatype is float64\n",
      "loc_ic_mou_6 -  missing values: 3937 and datatype is float64\n",
      "loc_ic_mou_7 -  missing values: 3859 and datatype is float64\n",
      "loc_ic_mou_8 -  missing values: 5378 and datatype is float64\n",
      "loc_ic_mou_9 -  missing values: 7745 and datatype is float64\n",
      "std_ic_t2t_mou_6 -  missing values: 3937 and datatype is float64\n",
      "std_ic_t2t_mou_7 -  missing values: 3859 and datatype is float64\n",
      "std_ic_t2t_mou_8 -  missing values: 5378 and datatype is float64\n",
      "std_ic_t2t_mou_9 -  missing values: 7745 and datatype is float64\n",
      "std_ic_t2m_mou_6 -  missing values: 3937 and datatype is float64\n",
      "std_ic_t2m_mou_7 -  missing values: 3859 and datatype is float64\n",
      "std_ic_t2m_mou_8 -  missing values: 5378 and datatype is float64\n",
      "std_ic_t2m_mou_9 -  missing values: 7745 and datatype is float64\n",
      "std_ic_t2f_mou_6 -  missing values: 3937 and datatype is float64\n",
      "std_ic_t2f_mou_7 -  missing values: 3859 and datatype is float64\n",
      "std_ic_t2f_mou_8 -  missing values: 5378 and datatype is float64\n",
      "std_ic_t2f_mou_9 -  missing values: 7745 and datatype is float64\n",
      "std_ic_t2o_mou_6 -  missing values: 3937 and datatype is float64\n",
      "std_ic_t2o_mou_7 -  missing values: 3859 and datatype is float64\n",
      "std_ic_t2o_mou_8 -  missing values: 5378 and datatype is float64\n",
      "std_ic_t2o_mou_9 -  missing values: 7745 and datatype is float64\n",
      "std_ic_mou_6 -  missing values: 3937 and datatype is float64\n",
      "std_ic_mou_7 -  missing values: 3859 and datatype is float64\n",
      "std_ic_mou_8 -  missing values: 5378 and datatype is float64\n",
      "std_ic_mou_9 -  missing values: 7745 and datatype is float64\n",
      "total_ic_mou_6 -  missing values: 0 and datatype is float64\n",
      "total_ic_mou_7 -  missing values: 0 and datatype is float64\n",
      "total_ic_mou_8 -  missing values: 0 and datatype is float64\n",
      "total_ic_mou_9 -  missing values: 0 and datatype is float64\n",
      "spl_ic_mou_6 -  missing values: 3937 and datatype is float64\n",
      "spl_ic_mou_7 -  missing values: 3859 and datatype is float64\n",
      "spl_ic_mou_8 -  missing values: 5378 and datatype is float64\n",
      "spl_ic_mou_9 -  missing values: 7745 and datatype is float64\n",
      "isd_ic_mou_6 -  missing values: 3937 and datatype is float64\n",
      "isd_ic_mou_7 -  missing values: 3859 and datatype is float64\n",
      "isd_ic_mou_8 -  missing values: 5378 and datatype is float64\n",
      "isd_ic_mou_9 -  missing values: 7745 and datatype is float64\n",
      "ic_others_6 -  missing values: 3937 and datatype is float64\n",
      "ic_others_7 -  missing values: 3859 and datatype is float64\n",
      "ic_others_8 -  missing values: 5378 and datatype is float64\n",
      "ic_others_9 -  missing values: 7745 and datatype is float64\n",
      "total_rech_num_6 -  missing values: 0 and datatype is int64\n",
      "total_rech_num_7 -  missing values: 0 and datatype is int64\n",
      "total_rech_num_8 -  missing values: 0 and datatype is int64\n",
      "total_rech_num_9 -  missing values: 0 and datatype is int64\n",
      "total_rech_amt_6 -  missing values: 0 and datatype is int64\n",
      "total_rech_amt_7 -  missing values: 0 and datatype is int64\n",
      "total_rech_amt_8 -  missing values: 0 and datatype is int64\n",
      "total_rech_amt_9 -  missing values: 0 and datatype is int64\n",
      "max_rech_amt_6 -  missing values: 0 and datatype is int64\n",
      "max_rech_amt_7 -  missing values: 0 and datatype is int64\n",
      "max_rech_amt_8 -  missing values: 0 and datatype is int64\n",
      "max_rech_amt_9 -  missing values: 0 and datatype is int64\n",
      "date_of_last_rech_6 -  missing values: 1607 and datatype is object\n",
      "date_of_last_rech_7 -  missing values: 1767 and datatype is object\n",
      "date_of_last_rech_8 -  missing values: 3622 and datatype is object\n",
      "date_of_last_rech_9 -  missing values: 4760 and datatype is object\n",
      "last_day_rch_amt_6 -  missing values: 0 and datatype is int64\n",
      "last_day_rch_amt_7 -  missing values: 0 and datatype is int64\n",
      "last_day_rch_amt_8 -  missing values: 0 and datatype is int64\n",
      "last_day_rch_amt_9 -  missing values: 0 and datatype is int64\n",
      "date_of_last_rech_data_6 -  missing values: 74846 and datatype is object\n",
      "date_of_last_rech_data_7 -  missing values: 74428 and datatype is object\n",
      "date_of_last_rech_data_8 -  missing values: 73660 and datatype is object\n",
      "date_of_last_rech_data_9 -  missing values: 74077 and datatype is object\n",
      "total_rech_data_6 -  missing values: 74846 and datatype is float64\n",
      "total_rech_data_7 -  missing values: 74428 and datatype is float64\n",
      "total_rech_data_8 -  missing values: 73660 and datatype is float64\n",
      "total_rech_data_9 -  missing values: 74077 and datatype is float64\n",
      "max_rech_data_6 -  missing values: 74846 and datatype is float64\n",
      "max_rech_data_7 -  missing values: 74428 and datatype is float64\n",
      "max_rech_data_8 -  missing values: 73660 and datatype is float64\n",
      "max_rech_data_9 -  missing values: 74077 and datatype is float64\n",
      "count_rech_2g_6 -  missing values: 74846 and datatype is float64\n",
      "count_rech_2g_7 -  missing values: 74428 and datatype is float64\n",
      "count_rech_2g_8 -  missing values: 73660 and datatype is float64\n",
      "count_rech_2g_9 -  missing values: 74077 and datatype is float64\n",
      "count_rech_3g_6 -  missing values: 74846 and datatype is float64\n",
      "count_rech_3g_7 -  missing values: 74428 and datatype is float64\n",
      "count_rech_3g_8 -  missing values: 73660 and datatype is float64\n",
      "count_rech_3g_9 -  missing values: 74077 and datatype is float64\n",
      "av_rech_amt_data_6 -  missing values: 74846 and datatype is float64\n",
      "av_rech_amt_data_7 -  missing values: 74428 and datatype is float64\n",
      "av_rech_amt_data_8 -  missing values: 73660 and datatype is float64\n",
      "av_rech_amt_data_9 -  missing values: 74077 and datatype is float64\n",
      "vol_2g_mb_6 -  missing values: 0 and datatype is float64\n",
      "vol_2g_mb_7 -  missing values: 0 and datatype is float64\n",
      "vol_2g_mb_8 -  missing values: 0 and datatype is float64\n",
      "vol_2g_mb_9 -  missing values: 0 and datatype is float64\n",
      "vol_3g_mb_6 -  missing values: 0 and datatype is float64\n",
      "vol_3g_mb_7 -  missing values: 0 and datatype is float64\n",
      "vol_3g_mb_8 -  missing values: 0 and datatype is float64\n",
      "vol_3g_mb_9 -  missing values: 0 and datatype is float64\n",
      "arpu_3g_6 -  missing values: 74846 and datatype is float64\n",
      "arpu_3g_7 -  missing values: 74428 and datatype is float64\n",
      "arpu_3g_8 -  missing values: 73660 and datatype is float64\n",
      "arpu_3g_9 -  missing values: 74077 and datatype is float64\n",
      "arpu_2g_6 -  missing values: 74846 and datatype is float64\n",
      "arpu_2g_7 -  missing values: 74428 and datatype is float64\n",
      "arpu_2g_8 -  missing values: 73660 and datatype is float64\n",
      "arpu_2g_9 -  missing values: 74077 and datatype is float64\n",
      "night_pck_user_6 -  missing values: 74846 and datatype is float64\n",
      "night_pck_user_7 -  missing values: 74428 and datatype is float64\n",
      "night_pck_user_8 -  missing values: 73660 and datatype is float64\n",
      "night_pck_user_9 -  missing values: 74077 and datatype is float64\n",
      "monthly_2g_6 -  missing values: 0 and datatype is int64\n",
      "monthly_2g_7 -  missing values: 0 and datatype is int64\n",
      "monthly_2g_8 -  missing values: 0 and datatype is int64\n",
      "monthly_2g_9 -  missing values: 0 and datatype is int64\n",
      "sachet_2g_6 -  missing values: 0 and datatype is int64\n",
      "sachet_2g_7 -  missing values: 0 and datatype is int64\n",
      "sachet_2g_8 -  missing values: 0 and datatype is int64\n",
      "sachet_2g_9 -  missing values: 0 and datatype is int64\n",
      "monthly_3g_6 -  missing values: 0 and datatype is int64\n",
      "monthly_3g_7 -  missing values: 0 and datatype is int64\n",
      "monthly_3g_8 -  missing values: 0 and datatype is int64\n",
      "monthly_3g_9 -  missing values: 0 and datatype is int64\n",
      "sachet_3g_6 -  missing values: 0 and datatype is int64\n",
      "sachet_3g_7 -  missing values: 0 and datatype is int64\n",
      "sachet_3g_8 -  missing values: 0 and datatype is int64\n",
      "sachet_3g_9 -  missing values: 0 and datatype is int64\n",
      "fb_user_6 -  missing values: 74846 and datatype is float64\n",
      "fb_user_7 -  missing values: 74428 and datatype is float64\n",
      "fb_user_8 -  missing values: 73660 and datatype is float64\n",
      "fb_user_9 -  missing values: 74077 and datatype is float64\n",
      "aon -  missing values: 0 and datatype is int64\n",
      "aug_vbc_3g -  missing values: 0 and datatype is float64\n",
      "jul_vbc_3g -  missing values: 0 and datatype is float64\n",
      "jun_vbc_3g -  missing values: 0 and datatype is float64\n",
      "sep_vbc_3g -  missing values: 0 and datatype is float64\n"
     ]
    }
   ],
   "source": [
    "for col in telecom.columns:\n",
    "    print('{} -  missing values: {} and datatype is {}'.format(col, telecom[col].isnull().sum(), telecom[col].dtype))"
   ]
  },
  {
   "cell_type": "code",
   "execution_count": 5,
   "metadata": {},
   "outputs": [
    {
     "data": {
      "text/plain": [
       "date_of_last_rech_data_6   74.85\n",
       "date_of_last_rech_data_7   74.43\n",
       "date_of_last_rech_data_8   73.66\n",
       "date_of_last_rech_data_9   74.08\n",
       "total_rech_data_6          74.85\n",
       "total_rech_data_7          74.43\n",
       "total_rech_data_8          73.66\n",
       "total_rech_data_9          74.08\n",
       "max_rech_data_6            74.85\n",
       "max_rech_data_7            74.43\n",
       "max_rech_data_8            73.66\n",
       "max_rech_data_9            74.08\n",
       "count_rech_2g_6            74.85\n",
       "count_rech_2g_7            74.43\n",
       "count_rech_2g_8            73.66\n",
       "count_rech_2g_9            74.08\n",
       "count_rech_3g_6            74.85\n",
       "count_rech_3g_7            74.43\n",
       "count_rech_3g_8            73.66\n",
       "count_rech_3g_9            74.08\n",
       "av_rech_amt_data_6         74.85\n",
       "av_rech_amt_data_7         74.43\n",
       "av_rech_amt_data_8         73.66\n",
       "av_rech_amt_data_9         74.08\n",
       "arpu_3g_6                  74.85\n",
       "arpu_3g_7                  74.43\n",
       "arpu_3g_8                  73.66\n",
       "arpu_3g_9                  74.08\n",
       "arpu_2g_6                  74.85\n",
       "arpu_2g_7                  74.43\n",
       "arpu_2g_8                  73.66\n",
       "arpu_2g_9                  74.08\n",
       "night_pck_user_6           74.85\n",
       "night_pck_user_7           74.43\n",
       "night_pck_user_8           73.66\n",
       "night_pck_user_9           74.08\n",
       "fb_user_6                  74.85\n",
       "fb_user_7                  74.43\n",
       "fb_user_8                  73.66\n",
       "fb_user_9                  74.08\n",
       "dtype: float64"
      ]
     },
     "execution_count": 5,
     "metadata": {},
     "output_type": "execute_result"
    }
   ],
   "source": [
    "# Columns with more than 70% missing values\n",
    "colmns_missing_data = round(100*(telecom.isnull().sum()/len(telecom.index)), 2)\n",
    "colmns_missing_data[colmns_missing_data >= 70]"
   ]
  },
  {
   "cell_type": "markdown",
   "metadata": {},
   "source": [
    "#### High Value Customers\n",
    "Before cleaning data create new columns which helps to identify 'High Value Customers', this should be done before clean up because the high value customer identification should not be impacted by any cleanup. \n",
    "Additionally since the problem we are solving is related to high value customers (hvc) we do not to deal with missing values in the non-high value customers.\n",
    "\n",
    "Those who have recharged with an amount more than or equal to X, here we are considering threshhold percent is 70th percentile of the average recharge amount in the first two months (the good phase)."
   ]
  },
  {
   "cell_type": "code",
   "execution_count": 6,
   "metadata": {},
   "outputs": [
    {
     "data": {
      "text/plain": [
       "'29953 of records in High value customers dataset'"
      ]
     },
     "execution_count": 6,
     "metadata": {},
     "output_type": "execute_result"
    }
   ],
   "source": [
    "telecom['total_rech_data_amt_6'] = telecom['av_rech_amt_data_6'] * telecom['total_rech_data_6']\n",
    "telecom['total_rech_data_amt_7'] = telecom['av_rech_amt_data_7'] * telecom['total_rech_data_7']\n",
    "telecom['total_rech_data_amt_8'] = telecom['av_rech_amt_data_8'] * telecom['total_rech_data_8']\n",
    "telecom['total_rech_data_amt_9'] = telecom['av_rech_amt_data_9'] * telecom['total_rech_data_9']\n",
    "\n",
    "telecom[\"total_recharge_good_phase\"] = (telecom[[\"total_rech_data_amt_6\", \"total_rech_data_amt_7\", \"total_rech_amt_6\", \"total_rech_amt_7\"]].fillna(0).sum(axis=1))/2\n",
    "hvc_cuttoff = np.percentile(telecom[\"total_recharge_good_phase\"], 70)\n",
    "\n",
    "#filtering data\n",
    "telecom_hvc = telecom[telecom.total_recharge_good_phase > hvc_cuttoff]\n",
    "\n",
    "# there should be approx 29.9k records\n",
    "\"{0} of records in High value customers dataset\".format(telecom_hvc.shape[0])"
   ]
  },
  {
   "cell_type": "markdown",
   "metadata": {},
   "source": [
    "### Labelling Churners\n",
    "Labelling churners from high value customers range so that we can remove the attributes of the churn phase.\n",
    "Strategy Those who have not made any calls (either incoming or outgoing) AND have not used mobile internet even once in the churn phase\n",
    "The sum of below is zero means - churned, churn = 1\n",
    "total_ic_mou_9\n",
    "total_og_mou_9\n",
    "vol_2g_mb_9\n",
    "vol_3g_mb_9"
   ]
  },
  {
   "cell_type": "code",
   "execution_count": 7,
   "metadata": {},
   "outputs": [
    {
     "name": "stdout",
     "output_type": "stream",
     "text": [
      "High-value Churn Percentage : 8.12%\n"
     ]
    },
    {
     "name": "stderr",
     "output_type": "stream",
     "text": [
      "/home/roott/.local/lib/python3.7/site-packages/ipykernel_launcher.py:1: SettingWithCopyWarning: \n",
      "A value is trying to be set on a copy of a slice from a DataFrame.\n",
      "Try using .loc[row_indexer,col_indexer] = value instead\n",
      "\n",
      "See the caveats in the documentation: https://pandas.pydata.org/pandas-docs/stable/user_guide/indexing.html#returning-a-view-versus-a-copy\n",
      "  \"\"\"Entry point for launching an IPython kernel.\n",
      "/home/roott/.local/lib/python3.7/site-packages/ipykernel_launcher.py:2: SettingWithCopyWarning: \n",
      "A value is trying to be set on a copy of a slice from a DataFrame.\n",
      "Try using .loc[row_indexer,col_indexer] = value instead\n",
      "\n",
      "See the caveats in the documentation: https://pandas.pydata.org/pandas-docs/stable/user_guide/indexing.html#returning-a-view-versus-a-copy\n",
      "  \n"
     ]
    }
   ],
   "source": [
    "telecom_hvc[\"total_usage_9\"] = telecom_hvc.loc[:,['total_ic_mou_9', 'total_og_mou_9', 'vol_2g_mb_9', 'vol_3g_mb_9']].sum(axis = 1)\n",
    "telecom_hvc[\"churn\"] = (telecom_hvc[\"total_usage_9\"]>0).map({True:0,False:1})\n",
    "print(\"High-value Churn Percentage : {}%\".format(round(len(telecom_hvc[telecom_hvc.churn == 1])/telecom_hvc.shape[0] *100,2)))"
   ]
  },
  {
   "cell_type": "markdown",
   "metadata": {},
   "source": [
    "This indicated an highly imbalanced data set where the churn cases are the minority(8%) as opposed to the non-churners who are the majority(92%)"
   ]
  },
  {
   "cell_type": "markdown",
   "metadata": {},
   "source": [
    "### Data Cleaning"
   ]
  },
  {
   "cell_type": "code",
   "execution_count": 8,
   "metadata": {},
   "outputs": [],
   "source": [
    "## Utility functions\n",
    "\n",
    "## Here I'm considering a higher cut off range not to loose much data.\n",
    "\n",
    "def get_iqr(ds, col):\n",
    "    return ds[col].quantile(0.98) - ds[col].quantile(0.02)\n",
    "\n",
    "def get_upperlimit(ds, col):\n",
    "    return ds[col].quantile(0.98) + (1.5 * (get_iqr(ds,col)))\n",
    "\n",
    "def get_upperlimit_extreme(ds, col):\n",
    "    return ds[col].quantile(0.98) + (3 * (get_iqr(ds,col)))\n",
    "\n",
    "def get_lowerlimit(ds, col):\n",
    "    return ds[col].quantile(0.02) - (1.5 * (get_iqr(ds,col)))\n",
    "\n",
    "def get_lowerlimit_extreme(ds, col):\n",
    "    return ds[col].quantile(0.02) - (3 * (get_iqr(ds,col)))\n",
    "\n",
    "def get_percentage_of_upper(ds, col):\n",
    "    total = len(ds)\n",
    "    upper_limit = get_upperlimit(ds,col)\n",
    "    return round(ds[ds[col] > upper_limit].shape[0]/total * 100,2)\n",
    "    \n",
    "def get_percentage_of_upper_extreme(ds, col):\n",
    "    total = len(ds)\n",
    "    upper_limit_extreme = get_upperlimit_extreme(ds,col)\n",
    "    return round(ds[ds[col] > upper_limit_extreme].shape[0]/total * 100,2)\n",
    "\n",
    "def get_percentage(x):\n",
    "    return round(100*x,2)"
   ]
  },
  {
   "cell_type": "code",
   "execution_count": 50,
   "metadata": {},
   "outputs": [
    {
     "data": {
      "text/html": [
       "<div>\n",
       "<style scoped>\n",
       "    .dataframe tbody tr th:only-of-type {\n",
       "        vertical-align: middle;\n",
       "    }\n",
       "\n",
       "    .dataframe tbody tr th {\n",
       "        vertical-align: top;\n",
       "    }\n",
       "\n",
       "    .dataframe thead th {\n",
       "        text-align: right;\n",
       "    }\n",
       "</style>\n",
       "<table border=\"1\" class=\"dataframe\">\n",
       "  <thead>\n",
       "    <tr style=\"text-align: right;\">\n",
       "      <th></th>\n",
       "      <th>index</th>\n",
       "      <th>0</th>\n",
       "    </tr>\n",
       "  </thead>\n",
       "  <tbody>\n",
       "    <tr>\n",
       "      <th>0</th>\n",
       "      <td>max_rech_data_9</td>\n",
       "      <td>49.25</td>\n",
       "    </tr>\n",
       "    <tr>\n",
       "      <th>1</th>\n",
       "      <td>arpu_3g_9</td>\n",
       "      <td>49.25</td>\n",
       "    </tr>\n",
       "    <tr>\n",
       "      <th>2</th>\n",
       "      <td>av_rech_amt_data_9</td>\n",
       "      <td>49.25</td>\n",
       "    </tr>\n",
       "    <tr>\n",
       "      <th>3</th>\n",
       "      <td>total_rech_data_amt_9</td>\n",
       "      <td>49.25</td>\n",
       "    </tr>\n",
       "    <tr>\n",
       "      <th>4</th>\n",
       "      <td>total_rech_data_9</td>\n",
       "      <td>49.25</td>\n",
       "    </tr>\n",
       "    <tr>\n",
       "      <th>...</th>\n",
       "      <td>...</td>\n",
       "      <td>...</td>\n",
       "    </tr>\n",
       "    <tr>\n",
       "      <th>228</th>\n",
       "      <td>last_day_rch_amt_7</td>\n",
       "      <td>0.00</td>\n",
       "    </tr>\n",
       "    <tr>\n",
       "      <th>229</th>\n",
       "      <td>last_day_rch_amt_8</td>\n",
       "      <td>0.00</td>\n",
       "    </tr>\n",
       "    <tr>\n",
       "      <th>230</th>\n",
       "      <td>last_day_rch_amt_9</td>\n",
       "      <td>0.00</td>\n",
       "    </tr>\n",
       "    <tr>\n",
       "      <th>231</th>\n",
       "      <td>vol_2g_mb_6</td>\n",
       "      <td>0.00</td>\n",
       "    </tr>\n",
       "    <tr>\n",
       "      <th>232</th>\n",
       "      <td>mobile_number</td>\n",
       "      <td>0.00</td>\n",
       "    </tr>\n",
       "  </tbody>\n",
       "</table>\n",
       "<p>233 rows × 2 columns</p>\n",
       "</div>"
      ],
      "text/plain": [
       "                     index     0\n",
       "0          max_rech_data_9 49.25\n",
       "1                arpu_3g_9 49.25\n",
       "2       av_rech_amt_data_9 49.25\n",
       "3    total_rech_data_amt_9 49.25\n",
       "4        total_rech_data_9 49.25\n",
       "..                     ...   ...\n",
       "228     last_day_rch_amt_7  0.00\n",
       "229     last_day_rch_amt_8  0.00\n",
       "230     last_day_rch_amt_9  0.00\n",
       "231            vol_2g_mb_6  0.00\n",
       "232          mobile_number  0.00\n",
       "\n",
       "[233 rows x 2 columns]"
      ]
     },
     "execution_count": 50,
     "metadata": {},
     "output_type": "execute_result"
    }
   ],
   "source": [
    "# missing percentage\n",
    "df_nas = pd.DataFrame(round(100*telecom_hvc.isnull().sum().sort_values(ascending=False)/len(telecom_hvc),2)).reset_index()\n",
    "df_nas"
   ]
  },
  {
   "cell_type": "code",
   "execution_count": 9,
   "metadata": {},
   "outputs": [
    {
     "name": "stderr",
     "output_type": "stream",
     "text": [
      "/home/roott/.local/lib/python3.7/site-packages/pandas/core/frame.py:4308: SettingWithCopyWarning: \n",
      "A value is trying to be set on a copy of a slice from a DataFrame\n",
      "\n",
      "See the caveats in the documentation: https://pandas.pydata.org/pandas-docs/stable/user_guide/indexing.html#returning-a-view-versus-a-copy\n",
      "  errors=errors,\n"
     ]
    }
   ],
   "source": [
    "# renaming columns,\n",
    "#'jun_vbc_3g' : 'vbc_3g_6'\n",
    "#'jul_vbc_3g' : 'vbc_3g_7'\n",
    "#'aug_vbc_3g' : 'vbc_3g_8'\n",
    "#'sep_vbc_3g' : 'vbc_3g_9'\n",
    "telecom_hvc.rename(columns={'jun_vbc_3g' : 'vbc_3g_6', 'jul_vbc_3g' : 'vbc_3g_7', 'aug_vbc_3g' : 'vbc_3g_8',\n",
    "                      'sep_vbc_3g' : 'vbc_3g_9'}, inplace=True)"
   ]
  },
  {
   "cell_type": "code",
   "execution_count": 10,
   "metadata": {},
   "outputs": [
    {
     "ename": "NameError",
     "evalue": "name 'df_nas' is not defined",
     "output_type": "error",
     "traceback": [
      "\u001b[0;31m---------------------------------------------------------------------------\u001b[0m",
      "\u001b[0;31mNameError\u001b[0m                                 Traceback (most recent call last)",
      "\u001b[0;32m<ipython-input-10-7660c18e55f2>\u001b[0m in \u001b[0;36m<module>\u001b[0;34m\u001b[0m\n\u001b[1;32m      1\u001b[0m \u001b[0;31m# plot the columns with na\u001b[0m\u001b[0;34m\u001b[0m\u001b[0;34m\u001b[0m\u001b[0;34m\u001b[0m\u001b[0m\n\u001b[1;32m      2\u001b[0m \u001b[0mplt\u001b[0m\u001b[0;34m.\u001b[0m\u001b[0mfigure\u001b[0m\u001b[0;34m(\u001b[0m\u001b[0mfigsize\u001b[0m\u001b[0;34m=\u001b[0m\u001b[0;34m(\u001b[0m\u001b[0;36m40\u001b[0m\u001b[0;34m,\u001b[0m\u001b[0;36m10\u001b[0m\u001b[0;34m)\u001b[0m\u001b[0;34m)\u001b[0m\u001b[0;34m\u001b[0m\u001b[0;34m\u001b[0m\u001b[0m\n\u001b[0;32m----> 3\u001b[0;31m \u001b[0msns\u001b[0m\u001b[0;34m.\u001b[0m\u001b[0mbarplot\u001b[0m\u001b[0;34m(\u001b[0m\u001b[0mx\u001b[0m\u001b[0;34m=\u001b[0m\u001b[0mdf_nas\u001b[0m\u001b[0;34m[\u001b[0m\u001b[0;34m\"index\"\u001b[0m\u001b[0;34m]\u001b[0m\u001b[0;34m.\u001b[0m\u001b[0mvalues\u001b[0m\u001b[0;34m,\u001b[0m \u001b[0my\u001b[0m\u001b[0;34m=\u001b[0m\u001b[0mdf_nas\u001b[0m\u001b[0;34m[\u001b[0m\u001b[0;36m0\u001b[0m\u001b[0;34m]\u001b[0m\u001b[0;34m.\u001b[0m\u001b[0mvalues\u001b[0m\u001b[0;34m,\u001b[0m \u001b[0mpalette\u001b[0m\u001b[0;34m=\u001b[0m\u001b[0;34m\"Reds_r\"\u001b[0m\u001b[0;34m)\u001b[0m\u001b[0;34m;\u001b[0m\u001b[0;34m\u001b[0m\u001b[0;34m\u001b[0m\u001b[0m\n\u001b[0m\u001b[1;32m      4\u001b[0m \u001b[0mplt\u001b[0m\u001b[0;34m.\u001b[0m\u001b[0mtitle\u001b[0m\u001b[0;34m(\u001b[0m\u001b[0;34m\"Percentage of missing values in train & test\"\u001b[0m\u001b[0;34m)\u001b[0m\u001b[0;34m;\u001b[0m\u001b[0;34m\u001b[0m\u001b[0;34m\u001b[0m\u001b[0m\n\u001b[1;32m      5\u001b[0m \u001b[0mplt\u001b[0m\u001b[0;34m.\u001b[0m\u001b[0mylabel\u001b[0m\u001b[0;34m(\u001b[0m\u001b[0;34m\"%\"\u001b[0m\u001b[0;34m)\u001b[0m\u001b[0;34m;\u001b[0m\u001b[0;34m\u001b[0m\u001b[0;34m\u001b[0m\u001b[0m\n",
      "\u001b[0;31mNameError\u001b[0m: name 'df_nas' is not defined"
     ]
    },
    {
     "data": {
      "text/plain": [
       "<Figure size 2880x720 with 0 Axes>"
      ]
     },
     "metadata": {},
     "output_type": "display_data"
    }
   ],
   "source": [
    "# plot the columns with na \n",
    "plt.figure(figsize=(40,10))\n",
    "sns.barplot(x=df_nas[\"index\"].values, y=df_nas[0].values, palette=\"Reds_r\");\n",
    "plt.title(\"Percentage of missing values in train & test\");\n",
    "plt.ylabel(\"%\");\n",
    "plt.xticks(rotation=90);"
   ]
  },
  {
   "cell_type": "code",
   "execution_count": 11,
   "metadata": {},
   "outputs": [
    {
     "name": "stderr",
     "output_type": "stream",
     "text": [
      "/home/roott/.local/lib/python3.7/site-packages/pandas/core/frame.py:4174: SettingWithCopyWarning: \n",
      "A value is trying to be set on a copy of a slice from a DataFrame\n",
      "\n",
      "See the caveats in the documentation: https://pandas.pydata.org/pandas-docs/stable/user_guide/indexing.html#returning-a-view-versus-a-copy\n",
      "  errors=errors,\n"
     ]
    }
   ],
   "source": [
    "# The following data is not required for analysis\n",
    "telecom_hvc.drop([\"mobile_number\"], axis=1, inplace=True)"
   ]
  },
  {
   "cell_type": "code",
   "execution_count": 12,
   "metadata": {},
   "outputs": [
    {
     "name": "stderr",
     "output_type": "stream",
     "text": [
      "/home/roott/.local/lib/python3.7/site-packages/ipykernel_launcher.py:4: SettingWithCopyWarning: \n",
      "A value is trying to be set on a copy of a slice from a DataFrame.\n",
      "Try using .loc[row_indexer,col_indexer] = value instead\n",
      "\n",
      "See the caveats in the documentation: https://pandas.pydata.org/pandas-docs/stable/user_guide/indexing.html#returning-a-view-versus-a-copy\n",
      "  after removing the cwd from sys.path.\n"
     ]
    },
    {
     "data": {
      "text/html": [
       "<div>\n",
       "<style scoped>\n",
       "    .dataframe tbody tr th:only-of-type {\n",
       "        vertical-align: middle;\n",
       "    }\n",
       "\n",
       "    .dataframe tbody tr th {\n",
       "        vertical-align: top;\n",
       "    }\n",
       "\n",
       "    .dataframe thead th {\n",
       "        text-align: right;\n",
       "    }\n",
       "</style>\n",
       "<table border=\"1\" class=\"dataframe\">\n",
       "  <thead>\n",
       "    <tr style=\"text-align: right;\">\n",
       "      <th></th>\n",
       "      <th>circle_id</th>\n",
       "      <th>loc_og_t2o_mou</th>\n",
       "      <th>std_og_t2o_mou</th>\n",
       "      <th>loc_ic_t2o_mou</th>\n",
       "      <th>last_date_of_month_6</th>\n",
       "      <th>last_date_of_month_7</th>\n",
       "      <th>last_date_of_month_8</th>\n",
       "      <th>last_date_of_month_9</th>\n",
       "      <th>arpu_6</th>\n",
       "      <th>arpu_7</th>\n",
       "      <th>...</th>\n",
       "      <th>vbc_3g_7</th>\n",
       "      <th>vbc_3g_6</th>\n",
       "      <th>vbc_3g_9</th>\n",
       "      <th>total_rech_data_amt_6</th>\n",
       "      <th>total_rech_data_amt_7</th>\n",
       "      <th>total_rech_data_amt_8</th>\n",
       "      <th>total_rech_data_amt_9</th>\n",
       "      <th>total_recharge_good_phase</th>\n",
       "      <th>total_usage_9</th>\n",
       "      <th>churn</th>\n",
       "    </tr>\n",
       "  </thead>\n",
       "  <tbody>\n",
       "    <tr>\n",
       "      <th>0</th>\n",
       "      <td>109</td>\n",
       "      <td>0.00</td>\n",
       "      <td>0.00</td>\n",
       "      <td>0.00</td>\n",
       "      <td>2014-06-30</td>\n",
       "      <td>2014-07-31</td>\n",
       "      <td>2014-08-31</td>\n",
       "      <td>2014-09-30</td>\n",
       "      <td>197.38</td>\n",
       "      <td>214.82</td>\n",
       "      <td>...</td>\n",
       "      <td>0.00</td>\n",
       "      <td>101.20</td>\n",
       "      <td>3.58</td>\n",
       "      <td>252.00</td>\n",
       "      <td>252.00</td>\n",
       "      <td>252.00</td>\n",
       "      <td>nan</td>\n",
       "      <td>559.00</td>\n",
       "      <td>0.00</td>\n",
       "      <td>1</td>\n",
       "    </tr>\n",
       "    <tr>\n",
       "      <th>7</th>\n",
       "      <td>109</td>\n",
       "      <td>0.00</td>\n",
       "      <td>0.00</td>\n",
       "      <td>0.00</td>\n",
       "      <td>2014-06-30</td>\n",
       "      <td>2014-07-31</td>\n",
       "      <td>2014-08-31</td>\n",
       "      <td>2014-09-30</td>\n",
       "      <td>1069.18</td>\n",
       "      <td>1349.85</td>\n",
       "      <td>...</td>\n",
       "      <td>19.38</td>\n",
       "      <td>18.74</td>\n",
       "      <td>0.00</td>\n",
       "      <td>nan</td>\n",
       "      <td>nan</td>\n",
       "      <td>nan</td>\n",
       "      <td>nan</td>\n",
       "      <td>1185.00</td>\n",
       "      <td>0.00</td>\n",
       "      <td>1</td>\n",
       "    </tr>\n",
       "    <tr>\n",
       "      <th>8</th>\n",
       "      <td>109</td>\n",
       "      <td>0.00</td>\n",
       "      <td>0.00</td>\n",
       "      <td>0.00</td>\n",
       "      <td>2014-06-30</td>\n",
       "      <td>2014-07-31</td>\n",
       "      <td>2014-08-31</td>\n",
       "      <td>2014-09-30</td>\n",
       "      <td>378.72</td>\n",
       "      <td>492.22</td>\n",
       "      <td>...</td>\n",
       "      <td>910.65</td>\n",
       "      <td>122.16</td>\n",
       "      <td>0.00</td>\n",
       "      <td>nan</td>\n",
       "      <td>354.00</td>\n",
       "      <td>207.00</td>\n",
       "      <td>nan</td>\n",
       "      <td>696.00</td>\n",
       "      <td>177.09</td>\n",
       "      <td>0</td>\n",
       "    </tr>\n",
       "    <tr>\n",
       "      <th>21</th>\n",
       "      <td>109</td>\n",
       "      <td>0.00</td>\n",
       "      <td>0.00</td>\n",
       "      <td>0.00</td>\n",
       "      <td>2014-06-30</td>\n",
       "      <td>2014-07-31</td>\n",
       "      <td>2014-08-31</td>\n",
       "      <td>2014-09-30</td>\n",
       "      <td>514.45</td>\n",
       "      <td>597.75</td>\n",
       "      <td>...</td>\n",
       "      <td>0.00</td>\n",
       "      <td>0.00</td>\n",
       "      <td>0.00</td>\n",
       "      <td>nan</td>\n",
       "      <td>nan</td>\n",
       "      <td>nan</td>\n",
       "      <td>nan</td>\n",
       "      <td>640.00</td>\n",
       "      <td>1284.14</td>\n",
       "      <td>0</td>\n",
       "    </tr>\n",
       "    <tr>\n",
       "      <th>23</th>\n",
       "      <td>109</td>\n",
       "      <td>0.00</td>\n",
       "      <td>0.00</td>\n",
       "      <td>0.00</td>\n",
       "      <td>2014-06-30</td>\n",
       "      <td>2014-07-31</td>\n",
       "      <td>2014-08-31</td>\n",
       "      <td>2014-09-30</td>\n",
       "      <td>74.35</td>\n",
       "      <td>193.90</td>\n",
       "      <td>...</td>\n",
       "      <td>51.86</td>\n",
       "      <td>0.00</td>\n",
       "      <td>0.00</td>\n",
       "      <td>nan</td>\n",
       "      <td>712.00</td>\n",
       "      <td>540.00</td>\n",
       "      <td>252.00</td>\n",
       "      <td>583.00</td>\n",
       "      <td>583.78</td>\n",
       "      <td>0</td>\n",
       "    </tr>\n",
       "  </tbody>\n",
       "</table>\n",
       "<p>5 rows × 232 columns</p>\n",
       "</div>"
      ],
      "text/plain": [
       "    circle_id  loc_og_t2o_mou  std_og_t2o_mou  loc_ic_t2o_mou  \\\n",
       "0         109            0.00            0.00            0.00   \n",
       "7         109            0.00            0.00            0.00   \n",
       "8         109            0.00            0.00            0.00   \n",
       "21        109            0.00            0.00            0.00   \n",
       "23        109            0.00            0.00            0.00   \n",
       "\n",
       "   last_date_of_month_6 last_date_of_month_7 last_date_of_month_8  \\\n",
       "0            2014-06-30           2014-07-31           2014-08-31   \n",
       "7            2014-06-30           2014-07-31           2014-08-31   \n",
       "8            2014-06-30           2014-07-31           2014-08-31   \n",
       "21           2014-06-30           2014-07-31           2014-08-31   \n",
       "23           2014-06-30           2014-07-31           2014-08-31   \n",
       "\n",
       "   last_date_of_month_9  arpu_6  arpu_7  ...  vbc_3g_7  vbc_3g_6  vbc_3g_9  \\\n",
       "0            2014-09-30  197.38  214.82  ...      0.00    101.20      3.58   \n",
       "7            2014-09-30 1069.18 1349.85  ...     19.38     18.74      0.00   \n",
       "8            2014-09-30  378.72  492.22  ...    910.65    122.16      0.00   \n",
       "21           2014-09-30  514.45  597.75  ...      0.00      0.00      0.00   \n",
       "23           2014-09-30   74.35  193.90  ...     51.86      0.00      0.00   \n",
       "\n",
       "    total_rech_data_amt_6  total_rech_data_amt_7  total_rech_data_amt_8  \\\n",
       "0                  252.00                 252.00                 252.00   \n",
       "7                     nan                    nan                    nan   \n",
       "8                     nan                 354.00                 207.00   \n",
       "21                    nan                    nan                    nan   \n",
       "23                    nan                 712.00                 540.00   \n",
       "\n",
       "    total_rech_data_amt_9  total_recharge_good_phase  total_usage_9  churn  \n",
       "0                     nan                     559.00           0.00      1  \n",
       "7                     nan                    1185.00           0.00      1  \n",
       "8                     nan                     696.00         177.09      0  \n",
       "21                    nan                     640.00        1284.14      0  \n",
       "23                 252.00                     583.00         583.78      0  \n",
       "\n",
       "[5 rows x 232 columns]"
      ]
     },
     "execution_count": 12,
     "metadata": {},
     "output_type": "execute_result"
    }
   ],
   "source": [
    "# Correcting data type of date types\n",
    "for col in telecom_hvc.columns:\n",
    "    if telecom_hvc[col].dtype == object:\n",
    "            telecom_hvc[col] = pd.to_datetime(telecom_hvc[col])\n",
    "telecom_hvc.head()"
   ]
  },
  {
   "cell_type": "code",
   "execution_count": 13,
   "metadata": {},
   "outputs": [
    {
     "name": "stdout",
     "output_type": "stream",
     "text": [
      "Columns that have low variance and can be removed: ['circle_id', 'loc_og_t2o_mou', 'std_og_t2o_mou', 'loc_ic_t2o_mou', 'last_date_of_month_6', 'last_date_of_month_7', 'last_date_of_month_8', 'last_date_of_month_9', 'std_og_t2c_mou_6', 'std_og_t2c_mou_7', 'std_og_t2c_mou_8', 'std_og_t2c_mou_9', 'std_ic_t2o_mou_6', 'std_ic_t2o_mou_7', 'std_ic_t2o_mou_8', 'std_ic_t2o_mou_9']\n"
     ]
    },
    {
     "name": "stderr",
     "output_type": "stream",
     "text": [
      "/home/roott/.local/lib/python3.7/site-packages/pandas/core/frame.py:4174: SettingWithCopyWarning: \n",
      "A value is trying to be set on a copy of a slice from a DataFrame\n",
      "\n",
      "See the caveats in the documentation: https://pandas.pydata.org/pandas-docs/stable/user_guide/indexing.html#returning-a-view-versus-a-copy\n",
      "  errors=errors,\n"
     ]
    },
    {
     "data": {
      "text/plain": [
       "(29953, 216)"
      ]
     },
     "execution_count": 13,
     "metadata": {},
     "output_type": "execute_result"
    }
   ],
   "source": [
    "# There are still 125 columns let us check how much variance each column has.\n",
    "low_variance_columns = []\n",
    "for col in telecom_hvc.columns:\n",
    "    if telecom_hvc[col].nunique() == 1:\n",
    "        low_variance_columns.append(col)\n",
    "print(\"Columns that have low variance and can be removed: {0}\".format(low_variance_columns))\n",
    "telecom_hvc.drop(low_variance_columns, axis=1, inplace=True)\n",
    "telecom_hvc.shape"
   ]
  },
  {
   "cell_type": "code",
   "execution_count": 14,
   "metadata": {},
   "outputs": [
    {
     "name": "stderr",
     "output_type": "stream",
     "text": [
      "/home/roott/.local/lib/python3.7/site-packages/ipykernel_launcher.py:3: SettingWithCopyWarning: \n",
      "A value is trying to be set on a copy of a slice from a DataFrame.\n",
      "Try using .loc[row_indexer,col_indexer] = value instead\n",
      "\n",
      "See the caveats in the documentation: https://pandas.pydata.org/pandas-docs/stable/user_guide/indexing.html#returning-a-view-versus-a-copy\n",
      "  This is separate from the ipykernel package so we can avoid doing imports until\n"
     ]
    }
   ],
   "source": [
    "#Creating new feature: 'vol_data_mb_6', 'vol_data_mb_7', 'vol_data_mb_8', 'vol_data_mb_9' by adding 2g and 3g usage of 6,7,8,9 months\n",
    "for i in range(6,10):\n",
    "    telecom_hvc['vol_data_mb_'+str(i)] = (telecom_hvc['vol_2g_mb_'+str(i)]+telecom_hvc['vol_3g_mb_'+str(i)]).astype(int)"
   ]
  },
  {
   "cell_type": "code",
   "execution_count": 15,
   "metadata": {},
   "outputs": [
    {
     "name": "stderr",
     "output_type": "stream",
     "text": [
      "/home/roott/.local/lib/python3.7/site-packages/ipykernel_launcher.py:3: SettingWithCopyWarning: \n",
      "A value is trying to be set on a copy of a slice from a DataFrame.\n",
      "Try using .loc[row_indexer,col_indexer] = value instead\n",
      "\n",
      "See the caveats in the documentation: https://pandas.pydata.org/pandas-docs/stable/user_guide/indexing.html#returning-a-view-versus-a-copy\n",
      "  This is separate from the ipykernel package so we can avoid doing imports until\n"
     ]
    }
   ],
   "source": [
    "#Creating new feature: total_mon_rech_6,total_mon_rech_7,total_mon_rech_8,total_mon_rech_9\n",
    "for i in range(6,10):\n",
    "    telecom_hvc['total_month_rech_'+str(i)] = telecom_hvc['total_rech_amt_'+str(i)]+telecom_hvc['total_rech_data_amt_'+str(i)]"
   ]
  },
  {
   "cell_type": "code",
   "execution_count": 16,
   "metadata": {},
   "outputs": [],
   "source": [
    "# Cols with _9 in the name will not be used in the analysis \n",
    "for col in telecom_hvc.columns:\n",
    "    if (\"_9\" in col):\n",
    "        telecom_hvc.drop(col, inplace=True, axis=1)"
   ]
  },
  {
   "cell_type": "code",
   "execution_count": 17,
   "metadata": {},
   "outputs": [
    {
     "data": {
      "text/plain": [
       "(29953, 168)"
      ]
     },
     "execution_count": 17,
     "metadata": {},
     "output_type": "execute_result"
    }
   ],
   "source": [
    "telecom_hvc.shape"
   ]
  },
  {
   "cell_type": "code",
   "execution_count": 18,
   "metadata": {},
   "outputs": [
    {
     "name": "stdout",
     "output_type": "stream",
     "text": [
      "Removing column : date_of_last_rech_6\n",
      "Removing column : date_of_last_rech_7\n",
      "Removing column : date_of_last_rech_8\n",
      "Removing column : date_of_last_rech_data_6\n",
      "Removing column : date_of_last_rech_data_7\n",
      "Removing column : date_of_last_rech_data_8\n"
     ]
    }
   ],
   "source": [
    "# date based columns are not important hence removing. \n",
    "for col in telecom_hvc.columns:\n",
    "    if \"datetime64[ns]\"==telecom_hvc[col].dtype:\n",
    "        print(\"Removing column : {0}\".format(col))\n",
    "        telecom_hvc.drop(col, axis=1, inplace=True)"
   ]
  },
  {
   "cell_type": "code",
   "execution_count": 19,
   "metadata": {},
   "outputs": [
    {
     "data": {
      "text/plain": [
       "(29953, 162)"
      ]
     },
     "execution_count": 19,
     "metadata": {},
     "output_type": "execute_result"
    }
   ],
   "source": [
    "telecom_hvc = telecom_hvc.fillna(0)\n",
    "telecom_hvc.to_csv(\"telecom_churn_hvc_clean.csv\", index=False)\n",
    "data_hvc_clean = pd.read_csv(\"telecom_churn_hvc_clean.csv\")\n",
    "data_hvc_clean.shape"
   ]
  },
  {
   "cell_type": "code",
   "execution_count": 20,
   "metadata": {},
   "outputs": [],
   "source": [
    "# Utility Functions\n",
    "\n",
    "# create box plot for  6th, 7th and 8th month\n",
    "def plot_box_chart(attribute):\n",
    "    plt.figure(figsize=(20,16))\n",
    "    df = data_hvc_clean\n",
    "    plt.subplot(2,3,1)\n",
    "    sns.boxplot(data=df, y=attribute+\"_6\",x=\"churn\",hue=\"churn\",showfliers=False,palette=\"Set3\")\n",
    "    plt.subplot(2,3,2)\n",
    "    sns.boxplot(data=df, y=attribute+\"_7\",x=\"churn\",hue=\"churn\",\n",
    "                showfliers=False,palette=(\"Set3\"))\n",
    "    plt.subplot(2,3,3)\n",
    "    sns.boxplot(data=df, y=attribute+\"_8\",x=\"churn\",hue=\"churn\",\n",
    "                showfliers=False,palette=(\"Set3\"))\n",
    "    plt.show()\n",
    "    \n",
    "# Function to plot the histogram with labels\n",
    "# https://stackoverflow.com/questions/6352740/matplotlib-label-each-bin\n",
    "def plot_hist(dataset,col,binsize):\n",
    "    fig, ax = plt.subplots(figsize=(20,4))\n",
    "    counts, bins, patches = ax.hist(dataset[col],bins=range(0,dataset[col].max(),round(binsize)), facecolor='lightgreen', edgecolor='gray')\n",
    "    \n",
    "    # Set the ticks to be at the edges of the bins.\n",
    "    ax.set_xticks(bins)\n",
    "    bin_centers = 0.5 * np.diff(bins) + bins[:-1]\n",
    "    for count, x in zip(counts, bin_centers):\n",
    "        # Label the percentages\n",
    "        percent = '%0.0f%%' % (100 * float(count) / counts.sum())\n",
    "        ax.annotate(percent, xy=(x,0.2), xycoords=('data', 'axes fraction'),\n",
    "        xytext=(0, -32), textcoords='offset points', va='top', ha='center')\n",
    "    \n",
    "    ax.set_xlabel(col.upper())\n",
    "    ax.set_ylabel('Count')\n",
    "    # Give ourselves some more room at the bottom of the plot\n",
    "    #plt.subplots_adjust(bottom=0.15)\n",
    "    plt.show()\n",
    "    \n",
    "def plot_avgMonthlyCalls(pltType,data,calltype,colList):\n",
    "    # style\n",
    "    plt.style.use('seaborn-darkgrid')\n",
    "    # create a color palette\n",
    "    palette = plt.get_cmap('Set1')\n",
    "    \n",
    "    if pltType == 'multi':\n",
    "        #Create dataframe after grouping on AON with colList features\n",
    "        total_call_mou = pd.DataFrame(data.groupby('aon_bin',as_index=False)[colList].mean())\n",
    "        total_call_mou['aon_bin']=pd.to_numeric(total_call_mou['aon_bin'])\n",
    "        total_call_mou\n",
    "        # multiple line plot\n",
    "        num=0\n",
    "        fig, ax = plt.subplots(figsize=(15,8))\n",
    "        for column in total_call_mou.drop('aon_bin', axis=1):\n",
    "            num+=1\n",
    "            ax.plot(total_call_mou['aon_bin'] , total_call_mou[column], marker='', color=palette(num), linewidth=2, alpha=0.9, label=column)\n",
    "         \n",
    "        ## Add legend\n",
    "        plt.legend(loc=2, ncol=2)\n",
    "        ax.set_xticks(total_call_mou['aon_bin'])\n",
    "        \n",
    "        # Add titles\n",
    "        plt.title(\"Avg.Monthly \"+calltype+\" MOU  V/S AON\", loc='left', fontsize=12, fontweight=0, color='orange')\n",
    "        plt.xlabel(\"Aon (years)\")\n",
    "        plt.ylabel(\"Avg. Monthly \"+calltype+\" MOU\")\n",
    "    elif pltType == 'single':\n",
    "        fig, ax = plt.subplots(figsize=(8,4))\n",
    "        ax.plot(data[colList].mean())\n",
    "        ax.set_xticklabels(['Jun','Jul','Aug','Sep'])\n",
    "        \n",
    "        # Add titles\n",
    "        plt.title(\"Avg. \"+calltype+\" MOU  V/S Month\", loc='left', fontsize=12, fontweight=0, color='orange')\n",
    "        plt.xlabel(\"Month\")\n",
    "        plt.ylabel(\"Avg. \"+calltype+\" MOU\")\n",
    "        \n",
    "    plt.show()\n",
    "    \n",
    "def plot_byChurnMou(colList,calltype):\n",
    "    fig, ax = plt.subplots(figsize=(7,4))\n",
    "    df=data_hvc_clean.groupby(['churn'])[colList].mean().T\n",
    "    plt.plot(df)\n",
    "    ax.set_xticklabels(['Jun','Jul','Aug','Sep'])\n",
    "    ## Add legend\n",
    "    plt.legend(['Non-Churn', 'Churn'])\n",
    "    # Add titles\n",
    "    plt.title(\"Avg. \"+calltype+\" MOU  V/S Month\", loc='left', fontsize=12, fontweight=0, color='orange')\n",
    "    plt.xlabel(\"Month\")\n",
    "    plt.ylabel(\"Avg. \"+calltype+\" MOU\")\n",
    "    \n",
    "    \n",
    "def plot_byChurn(data,col):\n",
    "    # per month churn vs Non-Churn\n",
    "    fig, ax = plt.subplots(figsize=(7,4))\n",
    "    colList=list(data.filter(regex=(col)).columns)\n",
    "    colList = colList[:3]\n",
    "    plt.plot(data_hvc_clean.groupby('churn')[colList].mean().T)\n",
    "    ax.set_xticklabels(['Jun','Jul','Aug','Sep'])\n",
    "    ## Add legend\n",
    "    plt.legend(['Non-Churn', 'Churn'])\n",
    "    # Add titles\n",
    "    plt.title( str(col) +\" V/S Month\", loc='left', fontsize=12, fontweight=0, color='orange')\n",
    "    plt.xlabel(\"Month\")\n",
    "    plt.ylabel(col)\n",
    "    plt.show()\n",
    "    # Numeric stats for per month churn vs Non-Churn\n",
    "    return data_hvc_clean.groupby('churn')[colList].mean()"
   ]
  },
  {
   "cell_type": "code",
   "execution_count": 21,
   "metadata": {},
   "outputs": [
    {
     "data": {
      "text/plain": [
       "['arpu',\n",
       " 'onnet_mou',\n",
       " 'offnet_mou',\n",
       " 'roam_ic_mou',\n",
       " 'roam_og_mou',\n",
       " 'loc_og_t2t_mou',\n",
       " 'loc_og_t2m_mou',\n",
       " 'loc_og_t2f_mou',\n",
       " 'loc_og_t2c_mou',\n",
       " 'loc_og_mou',\n",
       " 'std_og_t2t_mou',\n",
       " 'std_og_t2m_mou',\n",
       " 'std_og_t2f_mou',\n",
       " 'std_og_mou',\n",
       " 'isd_og_mou',\n",
       " 'spl_og_mou',\n",
       " 'og_others',\n",
       " 'total_og_mou',\n",
       " 'loc_ic_t2t_mou',\n",
       " 'loc_ic_t2m_mou',\n",
       " 'loc_ic_t2f_mou',\n",
       " 'loc_ic_mou',\n",
       " 'std_ic_t2t_mou',\n",
       " 'std_ic_t2m_mou',\n",
       " 'std_ic_t2f_mou',\n",
       " 'std_ic_mou',\n",
       " 'total_ic_mou',\n",
       " 'spl_ic_mou',\n",
       " 'isd_ic_mou',\n",
       " 'ic_others',\n",
       " 'total_rech_num',\n",
       " 'total_rech_amt',\n",
       " 'max_rech_amt',\n",
       " 'last_day_rch_amt',\n",
       " 'total_rech_data',\n",
       " 'max_rech_data',\n",
       " 'count_rech_2g',\n",
       " 'count_rech_3g',\n",
       " 'av_rech_amt_data',\n",
       " 'vol_2g_mb',\n",
       " 'vol_3g_mb',\n",
       " 'arpu_3g',\n",
       " 'arpu_2g',\n",
       " 'night_pck_user',\n",
       " 'monthly_2g',\n",
       " 'sachet_2g',\n",
       " 'monthly_3g',\n",
       " 'sachet_3g',\n",
       " 'fb_user',\n",
       " 'vbc_3g',\n",
       " 'total_rech_data_amt',\n",
       " 'vol_data_mb',\n",
       " 'total_month_rech']"
      ]
     },
     "execution_count": 21,
     "metadata": {},
     "output_type": "execute_result"
    }
   ],
   "source": [
    "# Filtering the common monthly columns for each month\n",
    "comcol = data_hvc_clean.filter(regex ='_6').columns\n",
    "monthlycol = [item.strip('_6') for item in comcol]\n",
    "monthlycol"
   ]
  },
  {
   "cell_type": "code",
   "execution_count": 22,
   "metadata": {},
   "outputs": [
    {
     "name": "stdout",
     "output_type": "stream",
     "text": [
      "Total number of columns in data : 162\n",
      "Number of columns for each month :  53\n",
      "Total monthly columns among the orignal columns (53*4): 212\n",
      "Columns other than monthly columns : -50\n"
     ]
    }
   ],
   "source": [
    "# getting the number of monthly columns and profile columns\n",
    "print (\"Total number of columns in data :\", data_hvc_clean.shape[1] )\n",
    "print (\"Number of columns for each month : \",len(monthlycol))\n",
    "print (\"Total monthly columns among the orignal columns (%d*4): %d\"%(len(monthlycol), len(monthlycol) * 4))\n",
    "print (\"Columns other than monthly columns :\", data_hvc_clean.shape[1] - (len(monthlycol) * 4))"
   ]
  },
  {
   "cell_type": "code",
   "execution_count": 23,
   "metadata": {},
   "outputs": [
    {
     "name": "stdout",
     "output_type": "stream",
     "text": [
      "count   29953.00\n",
      "mean     1209.28\n",
      "std       957.45\n",
      "min       180.00\n",
      "25%       460.00\n",
      "50%       846.00\n",
      "75%      1756.00\n",
      "max      4321.00\n",
      "Name: aon, dtype: float64\n"
     ]
    },
    {
     "data": {
      "image/png": "[encoded data removed]",
      "text/plain": [
       "<Figure size 1440x288 with 1 Axes>"
      ]
     },
     "metadata": {
      "needs_background": "light"
     },
     "output_type": "display_data"
    }
   ],
   "source": [
    "# Customers distribution of the age on network\n",
    "print(data_hvc_clean.aon.describe())\n",
    "plot_hist(data_hvc_clean,'aon', 183)"
   ]
  },
  {
   "cell_type": "markdown",
   "metadata": {},
   "source": [
    "- Minimun Age on network is 180 days.\n",
    "- Average age on network for customers is 1200 days (3.2 years).\n",
    "- 46% of the HV users are in their 2nd year with the network.\n",
    "- Almost 71% users have Age on network less than 4 years.\n",
    "- 15% users are with the network from over 7 years."
   ]
  },
  {
   "cell_type": "code",
   "execution_count": 26,
   "metadata": {},
   "outputs": [],
   "source": [
    "#Create Derived categorical variable\n",
    "data_hvc_clean['aon_bin'] = pd.cut(data_hvc_clean['aon'], range(0,data_hvc_clean['aon'].max(),365), \n",
    "                                   labels=range(0,int(round(data_hvc_clean['aon'].max()/365))-1))"
   ]
  },
  {
   "cell_type": "code",
   "execution_count": 28,
   "metadata": {},
   "outputs": [
    {
     "data": {
      "text/plain": [
       "<AxesSubplot:xlabel='churn,aon_bin'>"
      ]
     },
     "execution_count": 28,
     "metadata": {},
     "output_type": "execute_result"
    },
    {
     "data": {
      "image/png": "[encoded data removed]",
      "text/plain": [
       "<Figure size 432x288 with 1 Axes>"
      ]
     },
     "metadata": {
      "needs_background": "light"
     },
     "output_type": "display_data"
    }
   ],
   "source": [
    "# How the AON bins are distributed by churn vs non churn customers\n",
    "data_hvc_clean.groupby(['churn'])['aon_bin'].value_counts().plot.bar()"
   ]
  },
  {
   "cell_type": "code",
   "execution_count": 29,
   "metadata": {},
   "outputs": [
    {
     "name": "stdout",
     "output_type": "stream",
     "text": [
      "count   2433.00\n",
      "mean     860.64\n",
      "std      746.71\n",
      "min      180.00\n",
      "25%      356.00\n",
      "50%      602.00\n",
      "75%     1035.00\n",
      "max     3670.00\n",
      "Name: aon, dtype: float64\n"
     ]
    },
    {
     "data": {
      "image/png": "[encoded data removed]",
      "text/plain": [
       "<Figure size 1440x288 with 1 Axes>"
      ]
     },
     "metadata": {
      "needs_background": "light"
     },
     "output_type": "display_data"
    }
   ],
   "source": [
    "data_hvc_clean_churnonly = data_hvc_clean[data_hvc_clean.churn==1]\n",
    "print(data_hvc_clean_churnonly.aon.describe())\n",
    "plot_hist(data_hvc_clean_churnonly,'aon',365)"
   ]
  },
  {
   "cell_type": "markdown",
   "metadata": {},
   "source": [
    "##### Insights\n",
    "\n",
    "- 77% of the users who churned are within 3 years, which means the customers who are loyal i.e > 3 years are less likely to churn.\n",
    "- The telecom company should look for options to increase the loyality factor for high value customers, who are with the network for 3 years or less. It can also look for 2 years or less if budget is a factor for providing any perks."
   ]
  },
  {
   "cell_type": "code",
   "execution_count": 31,
   "metadata": {},
   "outputs": [],
   "source": [
    "#Creating new feature: og_to_ic_mou_6, og_to_ic_mou_7, og_to_ic_mou_8\n",
    "# adding 1 to denominator to avoid dividing by 0 and getting nan values.\n",
    "for i in range(6,9):\n",
    "    data_hvc_clean['og_to_ic_mou_'+str(i)] = (data_hvc_clean['total_og_mou_'+str(i)])/(data_hvc_clean['total_ic_mou_'+str(i)]+1)"
   ]
  },
  {
   "cell_type": "code",
   "execution_count": 32,
   "metadata": {},
   "outputs": [
    {
     "name": "stderr",
     "output_type": "stream",
     "text": [
      "/home/roott/.local/lib/python3.7/site-packages/ipykernel_launcher.py:95: UserWarning: FixedFormatter should only be used together with FixedLocator\n"
     ]
    },
    {
     "data": {
      "image/png": "[encoded data removed]",
      "text/plain": [
       "<Figure size 504x288 with 1 Axes>"
      ]
     },
     "metadata": {
      "needs_background": "light"
     },
     "output_type": "display_data"
    },
    {
     "data": {
      "text/html": [
       "<div>\n",
       "<style scoped>\n",
       "    .dataframe tbody tr th:only-of-type {\n",
       "        vertical-align: middle;\n",
       "    }\n",
       "\n",
       "    .dataframe tbody tr th {\n",
       "        vertical-align: top;\n",
       "    }\n",
       "\n",
       "    .dataframe thead th {\n",
       "        text-align: right;\n",
       "    }\n",
       "</style>\n",
       "<table border=\"1\" class=\"dataframe\">\n",
       "  <thead>\n",
       "    <tr style=\"text-align: right;\">\n",
       "      <th></th>\n",
       "      <th>vol_data_mb_6</th>\n",
       "      <th>vol_data_mb_7</th>\n",
       "      <th>vol_data_mb_8</th>\n",
       "    </tr>\n",
       "    <tr>\n",
       "      <th>churn</th>\n",
       "      <th></th>\n",
       "      <th></th>\n",
       "      <th></th>\n",
       "    </tr>\n",
       "  </thead>\n",
       "  <tbody>\n",
       "    <tr>\n",
       "      <th>0</th>\n",
       "      <td>477.74</td>\n",
       "      <td>511.80</td>\n",
       "      <td>488.11</td>\n",
       "    </tr>\n",
       "    <tr>\n",
       "      <th>1</th>\n",
       "      <td>393.96</td>\n",
       "      <td>309.86</td>\n",
       "      <td>110.85</td>\n",
       "    </tr>\n",
       "  </tbody>\n",
       "</table>\n",
       "</div>"
      ],
      "text/plain": [
       "       vol_data_mb_6  vol_data_mb_7  vol_data_mb_8\n",
       "churn                                             \n",
       "0             477.74         511.80         488.11\n",
       "1             393.96         309.86         110.85"
      ]
     },
     "execution_count": 32,
     "metadata": {},
     "output_type": "execute_result"
    }
   ],
   "source": [
    "plot_byChurn(data_hvc_clean,'vol_data_mb')"
   ]
  },
  {
   "cell_type": "markdown",
   "metadata": {},
   "source": [
    "- data usage is reduced for thechurned customers"
   ]
  },
  {
   "cell_type": "code",
   "execution_count": 33,
   "metadata": {},
   "outputs": [
    {
     "name": "stderr",
     "output_type": "stream",
     "text": [
      "/home/roott/.local/lib/python3.7/site-packages/ipykernel_launcher.py:95: UserWarning: FixedFormatter should only be used together with FixedLocator\n"
     ]
    },
    {
     "data": {
      "image/png": "[encoded data removed]",
      "text/plain": [
       "<Figure size 504x288 with 1 Axes>"
      ]
     },
     "metadata": {
      "needs_background": "light"
     },
     "output_type": "display_data"
    },
    {
     "data": {
      "text/html": [
       "<div>\n",
       "<style scoped>\n",
       "    .dataframe tbody tr th:only-of-type {\n",
       "        vertical-align: middle;\n",
       "    }\n",
       "\n",
       "    .dataframe tbody tr th {\n",
       "        vertical-align: top;\n",
       "    }\n",
       "\n",
       "    .dataframe thead th {\n",
       "        text-align: right;\n",
       "    }\n",
       "</style>\n",
       "<table border=\"1\" class=\"dataframe\">\n",
       "  <thead>\n",
       "    <tr style=\"text-align: right;\">\n",
       "      <th></th>\n",
       "      <th>max_rech_amt_6</th>\n",
       "      <th>max_rech_amt_7</th>\n",
       "      <th>max_rech_amt_8</th>\n",
       "    </tr>\n",
       "    <tr>\n",
       "      <th>churn</th>\n",
       "      <th></th>\n",
       "      <th></th>\n",
       "      <th></th>\n",
       "    </tr>\n",
       "  </thead>\n",
       "  <tbody>\n",
       "    <tr>\n",
       "      <th>0</th>\n",
       "      <td>169.10</td>\n",
       "      <td>173.40</td>\n",
       "      <td>166.83</td>\n",
       "    </tr>\n",
       "    <tr>\n",
       "      <th>1</th>\n",
       "      <td>172.18</td>\n",
       "      <td>159.66</td>\n",
       "      <td>85.54</td>\n",
       "    </tr>\n",
       "  </tbody>\n",
       "</table>\n",
       "</div>"
      ],
      "text/plain": [
       "       max_rech_amt_6  max_rech_amt_7  max_rech_amt_8\n",
       "churn                                                \n",
       "0              169.10          173.40          166.83\n",
       "1              172.18          159.66           85.54"
      ]
     },
     "execution_count": 33,
     "metadata": {},
     "output_type": "execute_result"
    }
   ],
   "source": [
    "plot_byChurn(data_hvc_clean,'max_rech_amt')"
   ]
  },
  {
   "cell_type": "markdown",
   "metadata": {},
   "source": [
    "- recharge amount also dropped for churned customers"
   ]
  },
  {
   "cell_type": "code",
   "execution_count": 34,
   "metadata": {},
   "outputs": [
    {
     "name": "stderr",
     "output_type": "stream",
     "text": [
      "/home/roott/.local/lib/python3.7/site-packages/ipykernel_launcher.py:95: UserWarning: FixedFormatter should only be used together with FixedLocator\n"
     ]
    },
    {
     "data": {
      "image/png": "[encoded data removed]",
      "text/plain": [
       "<Figure size 504x288 with 1 Axes>"
      ]
     },
     "metadata": {
      "needs_background": "light"
     },
     "output_type": "display_data"
    },
    {
     "data": {
      "text/html": [
       "<div>\n",
       "<style scoped>\n",
       "    .dataframe tbody tr th:only-of-type {\n",
       "        vertical-align: middle;\n",
       "    }\n",
       "\n",
       "    .dataframe tbody tr th {\n",
       "        vertical-align: top;\n",
       "    }\n",
       "\n",
       "    .dataframe thead th {\n",
       "        text-align: right;\n",
       "    }\n",
       "</style>\n",
       "<table border=\"1\" class=\"dataframe\">\n",
       "  <thead>\n",
       "    <tr style=\"text-align: right;\">\n",
       "      <th></th>\n",
       "      <th>arpu_6</th>\n",
       "      <th>arpu_7</th>\n",
       "      <th>arpu_8</th>\n",
       "    </tr>\n",
       "    <tr>\n",
       "      <th>churn</th>\n",
       "      <th></th>\n",
       "      <th></th>\n",
       "      <th></th>\n",
       "    </tr>\n",
       "  </thead>\n",
       "  <tbody>\n",
       "    <tr>\n",
       "      <th>0</th>\n",
       "      <td>549.55</td>\n",
       "      <td>562.93</td>\n",
       "      <td>532.87</td>\n",
       "    </tr>\n",
       "    <tr>\n",
       "      <th>1</th>\n",
       "      <td>663.71</td>\n",
       "      <td>541.15</td>\n",
       "      <td>237.66</td>\n",
       "    </tr>\n",
       "  </tbody>\n",
       "</table>\n",
       "</div>"
      ],
      "text/plain": [
       "       arpu_6  arpu_7  arpu_8\n",
       "churn                        \n",
       "0      549.55  562.93  532.87\n",
       "1      663.71  541.15  237.66"
      ]
     },
     "execution_count": 34,
     "metadata": {},
     "output_type": "execute_result"
    }
   ],
   "source": [
    "plot_byChurn(data_hvc_clean,'arpu')"
   ]
  },
  {
   "cell_type": "markdown",
   "metadata": {},
   "source": [
    "- arpu drops significantly for churned cutomers"
   ]
  },
  {
   "cell_type": "code",
   "execution_count": 35,
   "metadata": {},
   "outputs": [],
   "source": [
    "#Create new feature: Total_loc_mou_6,Total_loc_mou_7,lTotal_loc_mou_8\n",
    "for i in range(6,9):\n",
    "    data_hvc_clean['Total_loc_mou_'+str(i)] = (data_hvc_clean['loc_og_mou_'+str(i)])+(data_hvc_clean['loc_ic_mou_'+str(i)])"
   ]
  },
  {
   "cell_type": "code",
   "execution_count": 36,
   "metadata": {},
   "outputs": [
    {
     "name": "stderr",
     "output_type": "stream",
     "text": [
      "/home/roott/.local/lib/python3.7/site-packages/ipykernel_launcher.py:95: UserWarning: FixedFormatter should only be used together with FixedLocator\n"
     ]
    },
    {
     "data": {
      "image/png": "[encoded data removed]",
      "text/plain": [
       "<Figure size 504x288 with 1 Axes>"
      ]
     },
     "metadata": {
      "needs_background": "light"
     },
     "output_type": "display_data"
    },
    {
     "data": {
      "text/html": [
       "<div>\n",
       "<style scoped>\n",
       "    .dataframe tbody tr th:only-of-type {\n",
       "        vertical-align: middle;\n",
       "    }\n",
       "\n",
       "    .dataframe tbody tr th {\n",
       "        vertical-align: top;\n",
       "    }\n",
       "\n",
       "    .dataframe thead th {\n",
       "        text-align: right;\n",
       "    }\n",
       "</style>\n",
       "<table border=\"1\" class=\"dataframe\">\n",
       "  <thead>\n",
       "    <tr style=\"text-align: right;\">\n",
       "      <th></th>\n",
       "      <th>Total_loc_mou_6</th>\n",
       "      <th>Total_loc_mou_7</th>\n",
       "      <th>Total_loc_mou_8</th>\n",
       "    </tr>\n",
       "    <tr>\n",
       "      <th>churn</th>\n",
       "      <th></th>\n",
       "      <th></th>\n",
       "      <th></th>\n",
       "    </tr>\n",
       "  </thead>\n",
       "  <tbody>\n",
       "    <tr>\n",
       "      <th>0</th>\n",
       "      <td>498.29</td>\n",
       "      <td>509.61</td>\n",
       "      <td>491.52</td>\n",
       "    </tr>\n",
       "    <tr>\n",
       "      <th>1</th>\n",
       "      <td>341.08</td>\n",
       "      <td>264.97</td>\n",
       "      <td>94.27</td>\n",
       "    </tr>\n",
       "  </tbody>\n",
       "</table>\n",
       "</div>"
      ],
      "text/plain": [
       "       Total_loc_mou_6  Total_loc_mou_7  Total_loc_mou_8\n",
       "churn                                                   \n",
       "0               498.29           509.61           491.52\n",
       "1               341.08           264.97            94.27"
      ]
     },
     "execution_count": 36,
     "metadata": {},
     "output_type": "execute_result"
    }
   ],
   "source": [
    "plot_byChurn(data_hvc_clean,'Total_loc_mou_')"
   ]
  },
  {
   "cell_type": "markdown",
   "metadata": {},
   "source": [
    "insights:\n",
    "- The Total local call mou is generally low for churners right from the begining of the good phase.\n",
    "- local mou pattern for the non-churners remains almost constant through out the 3 months.\n",
    "- The churners genrally show a low total loc mou but it drops dramatically after the 2nd month.\n",
    "- This might suggest that people who are not making/reciving much local calls during their tenure are more likely to churn."
   ]
  },
  {
   "cell_type": "code",
   "execution_count": 37,
   "metadata": {},
   "outputs": [
    {
     "name": "stderr",
     "output_type": "stream",
     "text": [
      "/home/roott/.local/lib/python3.7/site-packages/ipykernel_launcher.py:95: UserWarning: FixedFormatter should only be used together with FixedLocator\n"
     ]
    },
    {
     "data": {
      "image/png": "[encoded data removed]",
      "text/plain": [
       "<Figure size 504x288 with 1 Axes>"
      ]
     },
     "metadata": {
      "needs_background": "light"
     },
     "output_type": "display_data"
    },
    {
     "data": {
      "text/html": [
       "<div>\n",
       "<style scoped>\n",
       "    .dataframe tbody tr th:only-of-type {\n",
       "        vertical-align: middle;\n",
       "    }\n",
       "\n",
       "    .dataframe tbody tr th {\n",
       "        vertical-align: top;\n",
       "    }\n",
       "\n",
       "    .dataframe thead th {\n",
       "        text-align: right;\n",
       "    }\n",
       "</style>\n",
       "<table border=\"1\" class=\"dataframe\">\n",
       "  <thead>\n",
       "    <tr style=\"text-align: right;\">\n",
       "      <th></th>\n",
       "      <th>fb_user_6</th>\n",
       "      <th>fb_user_7</th>\n",
       "      <th>fb_user_8</th>\n",
       "    </tr>\n",
       "    <tr>\n",
       "      <th>churn</th>\n",
       "      <th></th>\n",
       "      <th></th>\n",
       "      <th></th>\n",
       "    </tr>\n",
       "  </thead>\n",
       "  <tbody>\n",
       "    <tr>\n",
       "      <th>0</th>\n",
       "      <td>0.53</td>\n",
       "      <td>0.54</td>\n",
       "      <td>0.51</td>\n",
       "    </tr>\n",
       "    <tr>\n",
       "      <th>1</th>\n",
       "      <td>0.43</td>\n",
       "      <td>0.36</td>\n",
       "      <td>0.14</td>\n",
       "    </tr>\n",
       "  </tbody>\n",
       "</table>\n",
       "</div>"
      ],
      "text/plain": [
       "       fb_user_6  fb_user_7  fb_user_8\n",
       "churn                                 \n",
       "0           0.53       0.54       0.51\n",
       "1           0.43       0.36       0.14"
      ]
     },
     "execution_count": 37,
     "metadata": {},
     "output_type": "execute_result"
    }
   ],
   "source": [
    "plot_byChurn(data_hvc_clean,'fb_user')"
   ]
  },
  {
   "cell_type": "markdown",
   "metadata": {},
   "source": [
    "- fb usage was also low for churned customers"
   ]
  },
  {
   "cell_type": "code",
   "execution_count": 38,
   "metadata": {},
   "outputs": [],
   "source": [
    "#Create new feature: Total_roam_mou_6,Total_roam_mou_7,Total_roam_mou_8\n",
    "for i in range(6,9):\n",
    "    data_hvc_clean['Total_roam_mou_'+str(i)] = (data_hvc_clean['roam_ic_mou_'+str(i)])+(data_hvc_clean['roam_og_mou_'+str(i)])"
   ]
  },
  {
   "cell_type": "code",
   "execution_count": 39,
   "metadata": {},
   "outputs": [
    {
     "name": "stderr",
     "output_type": "stream",
     "text": [
      "/home/roott/.local/lib/python3.7/site-packages/ipykernel_launcher.py:95: UserWarning: FixedFormatter should only be used together with FixedLocator\n"
     ]
    },
    {
     "data": {
      "image/png": "[encoded data removed]",
      "text/plain": [
       "<Figure size 504x288 with 1 Axes>"
      ]
     },
     "metadata": {
      "needs_background": "light"
     },
     "output_type": "display_data"
    },
    {
     "data": {
      "text/html": [
       "<div>\n",
       "<style scoped>\n",
       "    .dataframe tbody tr th:only-of-type {\n",
       "        vertical-align: middle;\n",
       "    }\n",
       "\n",
       "    .dataframe tbody tr th {\n",
       "        vertical-align: top;\n",
       "    }\n",
       "\n",
       "    .dataframe thead th {\n",
       "        text-align: right;\n",
       "    }\n",
       "</style>\n",
       "<table border=\"1\" class=\"dataframe\">\n",
       "  <thead>\n",
       "    <tr style=\"text-align: right;\">\n",
       "      <th></th>\n",
       "      <th>Total_roam_mou_6</th>\n",
       "      <th>Total_roam_mou_7</th>\n",
       "      <th>Total_roam_mou_8</th>\n",
       "    </tr>\n",
       "    <tr>\n",
       "      <th>churn</th>\n",
       "      <th></th>\n",
       "      <th></th>\n",
       "      <th></th>\n",
       "    </tr>\n",
       "  </thead>\n",
       "  <tbody>\n",
       "    <tr>\n",
       "      <th>0</th>\n",
       "      <td>39.34</td>\n",
       "      <td>28.61</td>\n",
       "      <td>28.99</td>\n",
       "    </tr>\n",
       "    <tr>\n",
       "      <th>1</th>\n",
       "      <td>81.00</td>\n",
       "      <td>80.16</td>\n",
       "      <td>71.01</td>\n",
       "    </tr>\n",
       "  </tbody>\n",
       "</table>\n",
       "</div>"
      ],
      "text/plain": [
       "       Total_roam_mou_6  Total_roam_mou_7  Total_roam_mou_8\n",
       "churn                                                      \n",
       "0                 39.34             28.61             28.99\n",
       "1                 81.00             80.16             71.01"
      ]
     },
     "execution_count": 39,
     "metadata": {},
     "output_type": "execute_result"
    }
   ],
   "source": [
    "plot_byChurn(data_hvc_clean,'Total_roam_mou')"
   ]
  },
  {
   "cell_type": "markdown",
   "metadata": {},
   "source": [
    "- roaming usage is more for churned  customers.\n"
   ]
  },
  {
   "cell_type": "code",
   "execution_count": 40,
   "metadata": {},
   "outputs": [],
   "source": [
    "#removing categorical column which is not needed for analysis\n",
    "data_hvc_clean.drop(\"aon_bin\", axis=1, inplace=True)"
   ]
  },
  {
   "cell_type": "code",
   "execution_count": 41,
   "metadata": {},
   "outputs": [],
   "source": [
    "# clubbing columns related to good phase\n",
    "for col in data_hvc_clean.filter(regex=\"_6|_7\").columns.unique():\n",
    "    avg_col_name = \"avgof67_\" + col[:-2]\n",
    "    data_hvc_clean[avg_col_name] = (data_hvc_clean[col] + data_hvc_clean[col[:-1]+\"7\"])/2"
   ]
  },
  {
   "cell_type": "code",
   "execution_count": 43,
   "metadata": {},
   "outputs": [
    {
     "data": {
      "text/plain": [
       "(26276, 227)"
      ]
     },
     "execution_count": 43,
     "metadata": {},
     "output_type": "execute_result"
    }
   ],
   "source": [
    "# Statistically treating outliers, here we are removed the outliers greater than 98th percentile + 3times IQR \n",
    "for col in data_hvc_clean.columns:\n",
    "    if get_upperlimit_extreme(data_hvc_clean,col) > 0:\n",
    "        data_hvc_clean = data_hvc_clean[~(data_hvc_clean[col] >= get_upperlimit_extreme(data_hvc_clean,col))]\n",
    "        \n",
    "data_hvc_clean.shape"
   ]
  },
  {
   "cell_type": "code",
   "execution_count": 45,
   "metadata": {},
   "outputs": [
    {
     "data": {
      "text/plain": [
       "0.8772410109171035"
      ]
     },
     "execution_count": 45,
     "metadata": {},
     "output_type": "execute_result"
    }
   ],
   "source": [
    "# % of data after outlier treatment\n",
    "data_hvc_clean.shape[0]/telecom_hvc.shape[0]"
   ]
  },
  {
   "cell_type": "code",
   "execution_count": 46,
   "metadata": {},
   "outputs": [
    {
     "data": {
      "text/html": [
       "<div>\n",
       "<style scoped>\n",
       "    .dataframe tbody tr th:only-of-type {\n",
       "        vertical-align: middle;\n",
       "    }\n",
       "\n",
       "    .dataframe tbody tr th {\n",
       "        vertical-align: top;\n",
       "    }\n",
       "\n",
       "    .dataframe thead th {\n",
       "        text-align: right;\n",
       "    }\n",
       "</style>\n",
       "<table border=\"1\" class=\"dataframe\">\n",
       "  <thead>\n",
       "    <tr style=\"text-align: right;\">\n",
       "      <th></th>\n",
       "      <th>arpu_8</th>\n",
       "      <th>onnet_mou_8</th>\n",
       "      <th>offnet_mou_8</th>\n",
       "      <th>roam_ic_mou_8</th>\n",
       "      <th>roam_og_mou_8</th>\n",
       "      <th>loc_og_t2t_mou_8</th>\n",
       "      <th>loc_og_t2m_mou_8</th>\n",
       "      <th>loc_og_t2f_mou_8</th>\n",
       "      <th>loc_og_t2c_mou_8</th>\n",
       "      <th>loc_og_mou_8</th>\n",
       "      <th>...</th>\n",
       "      <th>avgof67_monthly_3g</th>\n",
       "      <th>avgof67_sachet_3g</th>\n",
       "      <th>avgof67_fb_user</th>\n",
       "      <th>avgof67_vbc_3g</th>\n",
       "      <th>avgof67_total_rech_data_amt</th>\n",
       "      <th>avgof67_vol_data_mb</th>\n",
       "      <th>avgof67_total_month_rech</th>\n",
       "      <th>avgof67_og_to_ic_mou</th>\n",
       "      <th>avgof67_Total_loc_mou</th>\n",
       "      <th>avgof67_Total_roam_mou</th>\n",
       "    </tr>\n",
       "  </thead>\n",
       "  <tbody>\n",
       "    <tr>\n",
       "      <th>0</th>\n",
       "      <td>213.80</td>\n",
       "      <td>0.00</td>\n",
       "      <td>0.00</td>\n",
       "      <td>0.00</td>\n",
       "      <td>0.00</td>\n",
       "      <td>0.00</td>\n",
       "      <td>0.00</td>\n",
       "      <td>0.00</td>\n",
       "      <td>0.00</td>\n",
       "      <td>0.00</td>\n",
       "      <td>...</td>\n",
       "      <td>1.00</td>\n",
       "      <td>0.00</td>\n",
       "      <td>1.00</td>\n",
       "      <td>50.60</td>\n",
       "      <td>252.00</td>\n",
       "      <td>152.00</td>\n",
       "      <td>504.00</td>\n",
       "      <td>0.00</td>\n",
       "      <td>0.00</td>\n",
       "      <td>0.00</td>\n",
       "    </tr>\n",
       "    <tr>\n",
       "      <th>2</th>\n",
       "      <td>137.36</td>\n",
       "      <td>35.08</td>\n",
       "      <td>136.48</td>\n",
       "      <td>0.00</td>\n",
       "      <td>0.00</td>\n",
       "      <td>12.49</td>\n",
       "      <td>50.54</td>\n",
       "      <td>0.00</td>\n",
       "      <td>7.15</td>\n",
       "      <td>63.04</td>\n",
       "      <td>...</td>\n",
       "      <td>0.00</td>\n",
       "      <td>0.00</td>\n",
       "      <td>1.00</td>\n",
       "      <td>516.40</td>\n",
       "      <td>354.00</td>\n",
       "      <td>1106.00</td>\n",
       "      <td>955.00</td>\n",
       "      <td>14.64</td>\n",
       "      <td>312.01</td>\n",
       "      <td>0.00</td>\n",
       "    </tr>\n",
       "    <tr>\n",
       "      <th>3</th>\n",
       "      <td>637.76</td>\n",
       "      <td>85.14</td>\n",
       "      <td>983.39</td>\n",
       "      <td>0.00</td>\n",
       "      <td>0.00</td>\n",
       "      <td>23.34</td>\n",
       "      <td>104.81</td>\n",
       "      <td>1.58</td>\n",
       "      <td>0.00</td>\n",
       "      <td>129.74</td>\n",
       "      <td>...</td>\n",
       "      <td>0.00</td>\n",
       "      <td>0.00</td>\n",
       "      <td>0.00</td>\n",
       "      <td>0.00</td>\n",
       "      <td>0.00</td>\n",
       "      <td>0.00</td>\n",
       "      <td>0.00</td>\n",
       "      <td>7.74</td>\n",
       "      <td>181.77</td>\n",
       "      <td>0.00</td>\n",
       "    </tr>\n",
       "    <tr>\n",
       "      <th>4</th>\n",
       "      <td>366.97</td>\n",
       "      <td>33.58</td>\n",
       "      <td>205.89</td>\n",
       "      <td>0.00</td>\n",
       "      <td>0.00</td>\n",
       "      <td>33.58</td>\n",
       "      <td>148.56</td>\n",
       "      <td>0.00</td>\n",
       "      <td>17.71</td>\n",
       "      <td>182.14</td>\n",
       "      <td>...</td>\n",
       "      <td>2.00</td>\n",
       "      <td>0.00</td>\n",
       "      <td>1.00</td>\n",
       "      <td>25.93</td>\n",
       "      <td>712.00</td>\n",
       "      <td>599.00</td>\n",
       "      <td>1166.00</td>\n",
       "      <td>0.63</td>\n",
       "      <td>308.09</td>\n",
       "      <td>0.00</td>\n",
       "    </tr>\n",
       "    <tr>\n",
       "      <th>6</th>\n",
       "      <td>393.91</td>\n",
       "      <td>666.38</td>\n",
       "      <td>97.81</td>\n",
       "      <td>0.00</td>\n",
       "      <td>0.00</td>\n",
       "      <td>9.48</td>\n",
       "      <td>18.96</td>\n",
       "      <td>0.00</td>\n",
       "      <td>0.00</td>\n",
       "      <td>28.44</td>\n",
       "      <td>...</td>\n",
       "      <td>0.00</td>\n",
       "      <td>0.00</td>\n",
       "      <td>0.00</td>\n",
       "      <td>0.00</td>\n",
       "      <td>0.00</td>\n",
       "      <td>0.00</td>\n",
       "      <td>0.00</td>\n",
       "      <td>9.73</td>\n",
       "      <td>62.06</td>\n",
       "      <td>0.00</td>\n",
       "    </tr>\n",
       "  </tbody>\n",
       "</table>\n",
       "<p>5 rows × 115 columns</p>\n",
       "</div>"
      ],
      "text/plain": [
       "   arpu_8  onnet_mou_8  offnet_mou_8  roam_ic_mou_8  roam_og_mou_8  \\\n",
       "0  213.80         0.00          0.00           0.00           0.00   \n",
       "2  137.36        35.08        136.48           0.00           0.00   \n",
       "3  637.76        85.14        983.39           0.00           0.00   \n",
       "4  366.97        33.58        205.89           0.00           0.00   \n",
       "6  393.91       666.38         97.81           0.00           0.00   \n",
       "\n",
       "   loc_og_t2t_mou_8  loc_og_t2m_mou_8  loc_og_t2f_mou_8  loc_og_t2c_mou_8  \\\n",
       "0              0.00              0.00              0.00              0.00   \n",
       "2             12.49             50.54              0.00              7.15   \n",
       "3             23.34            104.81              1.58              0.00   \n",
       "4             33.58            148.56              0.00             17.71   \n",
       "6              9.48             18.96              0.00              0.00   \n",
       "\n",
       "   loc_og_mou_8  ...  avgof67_monthly_3g  avgof67_sachet_3g  avgof67_fb_user  \\\n",
       "0          0.00  ...                1.00               0.00             1.00   \n",
       "2         63.04  ...                0.00               0.00             1.00   \n",
       "3        129.74  ...                0.00               0.00             0.00   \n",
       "4        182.14  ...                2.00               0.00             1.00   \n",
       "6         28.44  ...                0.00               0.00             0.00   \n",
       "\n",
       "   avgof67_vbc_3g  avgof67_total_rech_data_amt  avgof67_vol_data_mb  \\\n",
       "0           50.60                       252.00               152.00   \n",
       "2          516.40                       354.00              1106.00   \n",
       "3            0.00                         0.00                 0.00   \n",
       "4           25.93                       712.00               599.00   \n",
       "6            0.00                         0.00                 0.00   \n",
       "\n",
       "   avgof67_total_month_rech  avgof67_og_to_ic_mou  avgof67_Total_loc_mou  \\\n",
       "0                    504.00                  0.00                   0.00   \n",
       "2                    955.00                 14.64                 312.01   \n",
       "3                      0.00                  7.74                 181.77   \n",
       "4                   1166.00                  0.63                 308.09   \n",
       "6                      0.00                  9.73                  62.06   \n",
       "\n",
       "   avgof67_Total_roam_mou  \n",
       "0                    0.00  \n",
       "2                    0.00  \n",
       "3                    0.00  \n",
       "4                    0.00  \n",
       "6                    0.00  \n",
       "\n",
       "[5 rows x 115 columns]"
      ]
     },
     "execution_count": 46,
     "metadata": {},
     "output_type": "execute_result"
    }
   ],
   "source": [
    "#Some data clean up needed before PCA\n",
    "# dropping cols with _6 nad _7 in the names since we clubbed\n",
    "# also removed sep columns as it is the target month \n",
    "to_drop = data_hvc_clean.filter(regex='_6|_7|sep').columns\n",
    "data_hvc_clean.drop(to_drop, axis=1, inplace=True)\n",
    "data_hvc_clean.head()"
   ]
  },
  {
   "cell_type": "code",
   "execution_count": 47,
   "metadata": {},
   "outputs": [
    {
     "name": "stdout",
     "output_type": "stream",
     "text": [
      "['loc_og_mou_8', 'std_og_t2t_mou_8', 'std_og_t2m_mou_8', 'std_og_mou_8', 'total_og_mou_8', 'loc_ic_mou_8', 'std_ic_mou_8', 'total_ic_mou_8', 'total_rech_amt_8', 'count_rech_2g_8', 'av_rech_amt_data_8', 'vol_3g_mb_8', 'arpu_3g_8', 'arpu_2g_8', 'sachet_2g_8', 'monthly_3g_8', 'total_rech_data_amt_8', 'vol_data_mb_8', 'total_month_rech_8', 'Total_loc_mou_8', 'Total_roam_mou_8', 'avgof67_onnet_mou', 'avgof67_offnet_mou', 'avgof67_roam_og_mou', 'avgof67_loc_og_t2t_mou', 'avgof67_loc_og_t2m_mou', 'avgof67_loc_og_t2f_mou', 'avgof67_loc_og_mou', 'avgof67_std_og_t2t_mou', 'avgof67_std_og_t2m_mou', 'avgof67_std_og_mou', 'avgof67_total_og_mou', 'avgof67_loc_ic_t2t_mou', 'avgof67_loc_ic_t2m_mou', 'avgof67_loc_ic_t2f_mou', 'avgof67_loc_ic_mou', 'avgof67_std_ic_mou', 'avgof67_total_ic_mou', 'avgof67_total_rech_num', 'avgof67_total_rech_amt', 'avgof67_count_rech_2g', 'avgof67_av_rech_amt_data', 'avgof67_vol_3g_mb', 'avgof67_arpu_3g', 'avgof67_arpu_2g', 'avgof67_sachet_2g', 'avgof67_monthly_3g', 'avgof67_total_rech_data_amt', 'avgof67_vol_data_mb', 'avgof67_total_month_rech', 'avgof67_Total_loc_mou', 'avgof67_Total_roam_mou']\n"
     ]
    }
   ],
   "source": [
    "#lets check the correlation amongst the features, drop the highly correlated ones\n",
    "corr = data_hvc_clean.corr().abs()\n",
    "upper_tri = corr.where(np.triu(np.ones(corr.shape),k=1).astype(np.bool))\n",
    "to_drop = [column for column in upper_tri.columns if (any(upper_tri[column] > 0.75) and column != 'churn')]\n",
    "print(to_drop)\n",
    "data_hvc_clean.drop(to_drop, axis=1, inplace=True)"
   ]
  },
  {
   "cell_type": "code",
   "execution_count": 48,
   "metadata": {},
   "outputs": [
    {
     "data": {
      "text/plain": [
       "(26276, 63)"
      ]
     },
     "execution_count": 48,
     "metadata": {},
     "output_type": "execute_result"
    }
   ],
   "source": [
    "data_hvc_clean.shape\n"
   ]
  },
  {
   "cell_type": "markdown",
   "metadata": {},
   "source": [
    "### PCA\n",
    "to reduce dimentionality"
   ]
  },
  {
   "cell_type": "code",
   "execution_count": 49,
   "metadata": {},
   "outputs": [
    {
     "data": {
      "text/plain": [
       "[Text(0.5, 1.0, '% of churned high value customers')]"
      ]
     },
     "execution_count": 49,
     "metadata": {},
     "output_type": "execute_result"
    },
    {
     "data": {
      "image/png": "[encoded data removed]",
      "text/plain": [
       "<Figure size 432x288 with 1 Axes>"
      ]
     },
     "metadata": {
      "needs_background": "light"
     },
     "output_type": "display_data"
    }
   ],
   "source": [
    "# Let us once look at % of churn rate\n",
    "ax = sns.barplot(x=\"churn\", y=\"churn\", data=data_hvc_clean, estimator=lambda x: len(x) / len(data_hvc_clean) * 100)\n",
    "ax.set(ylabel=\"Percent\")\n",
    "ax.set(title=\"% of churned high value customers\")"
   ]
  },
  {
   "cell_type": "code",
   "execution_count": 53,
   "metadata": {},
   "outputs": [],
   "source": [
    "\n",
    "# train test split\n",
    "y = data_hvc_clean.pop(\"churn\")\n",
    "X = data_hvc_clean\n",
    "X_train, X_test, y_train, y_test = train_test_split(X,y, train_size=0.7,test_size=0.3,random_state=1)"
   ]
  },
  {
   "cell_type": "code",
   "execution_count": 54,
   "metadata": {},
   "outputs": [
    {
     "data": {
      "text/plain": [
       "((18393, 62), (7883, 62), (18393,), (7883,))"
      ]
     },
     "execution_count": 54,
     "metadata": {},
     "output_type": "execute_result"
    }
   ],
   "source": [
    "X_train.shape, X_test.shape, y_train.shape, y_test.shape"
   ]
  },
  {
   "cell_type": "markdown",
   "metadata": {},
   "source": [
    "##### Handling class imbalance.\n",
    "Standard classifier algorithms like Decision Tree and Logistic Regression have a bias towards classes which have number of instances. They tend to only predict the majority class data. The features of the minority class are treated as noise and are often ignored. Thus, there is a high probability of misclassification of the minority class as compared to the majority class.\n",
    "\n",
    "Informed Over Sampling: Synthetic Minority Over-sampling Technique\n",
    "\n",
    "This technique is followed to avoid overfitting which occurs when exact replicas of minority instances are added to the main dataset. A subset of data is taken from the minority class as an example and then new synthetic similar instances are created. These synthetic instances are then added to the original dataset. The new dataset is used as a sample to train the classification models.\n",
    "\n",
    "##### Advantages\n",
    "\n",
    "Mitigates the problem of overfitting caused by random oversampling as synthetic examples are generated rather than replication of instances\n",
    "No loss of useful information"
   ]
  },
  {
   "cell_type": "code",
   "execution_count": 55,
   "metadata": {},
   "outputs": [],
   "source": [
    "# oversampling the train dataset using SMOTE\n",
    "smt = SMOTE(random_state=100)\n",
    "X_train, y_train = smt.fit_resample(X_train, y_train)\n",
    "counter = Counter(y_train)"
   ]
  },
  {
   "cell_type": "code",
   "execution_count": 56,
   "metadata": {},
   "outputs": [
    {
     "data": {
      "text/plain": [
       "(   arpu_8  onnet_mou_8  offnet_mou_8  roam_ic_mou_8  roam_og_mou_8  \\\n",
       " 0   -0.42        -0.37         -0.46          -0.27          -0.30   \n",
       " 1    1.35         2.55          0.91          -0.27          -0.30   \n",
       " 2    0.41         0.15          0.40          -0.27          -0.30   \n",
       " 3    0.20        -0.32         -0.37          -0.27          -0.30   \n",
       " 4    0.37        -0.36         -0.23          -0.27          -0.30   \n",
       " \n",
       "    loc_og_t2t_mou_8  loc_og_t2m_mou_8  loc_og_t2f_mou_8  loc_og_t2c_mou_8  \\\n",
       " 0             -0.09             -0.27              0.09             -0.27   \n",
       " 1              0.49              0.07             -0.29             -0.27   \n",
       " 2              1.37              1.48             -0.29             -0.27   \n",
       " 3              0.04             -0.06             -0.04             -0.27   \n",
       " 4             -0.14              0.05             -0.20             -0.27   \n",
       " \n",
       "    std_og_t2f_mou_8  isd_og_mou_8  spl_og_mou_8  og_others_8  \\\n",
       " 0             -0.16         -0.11         -0.39        -0.02   \n",
       " 1             -0.16         -0.11         -0.39        -0.02   \n",
       " 2             -0.16         -0.11          1.17        -0.02   \n",
       " 3             -0.16         -0.11         -0.39        -0.02   \n",
       " 4              4.25         -0.11         -0.39        -0.02   \n",
       " \n",
       "    loc_ic_t2t_mou_8  loc_ic_t2m_mou_8  loc_ic_t2f_mou_8  std_ic_t2t_mou_8  \\\n",
       " 0              6.51             -0.35              2.87             -0.29   \n",
       " 1              0.06             -0.23             -0.31             -0.22   \n",
       " 2              1.30              0.82             -0.28              0.02   \n",
       " 3             -0.09              0.09             -0.18             -0.29   \n",
       " 4             -0.12              0.26              3.43             -0.16   \n",
       " \n",
       "    std_ic_t2m_mou_8  std_ic_t2f_mou_8  spl_ic_mou_8  isd_ic_mou_8  \\\n",
       " 0             -0.34             -0.20         -0.20         -0.20   \n",
       " 1             -0.19             -0.20         -0.20          5.37   \n",
       " 2             -0.34             -0.20         -0.20          1.03   \n",
       " 3             -0.34             -0.20         -0.20         -0.20   \n",
       " 4              0.06             -0.20         -0.20         -0.20   \n",
       " \n",
       "    ic_others_8  total_rech_num_8  max_rech_amt_8  last_day_rch_amt_8  \\\n",
       " 0        -0.19             -0.67            0.34                0.93   \n",
       " 1        -0.19              1.25           -0.35               -0.09   \n",
       " 2        -0.19             -0.16            0.34               -0.57   \n",
       " 3        -0.19              3.05           -0.47               -0.33   \n",
       " 4         0.04             -0.42            1.32                0.69   \n",
       " \n",
       "    total_rech_data_8  max_rech_data_8  count_rech_3g_8  vol_2g_mb_8  \\\n",
       " 0              -0.01             1.19            -0.34        -0.15   \n",
       " 1              -0.48            -0.52            -0.34        -0.29   \n",
       " 2              -0.01             1.19            -0.34        -0.20   \n",
       " 3               0.47            -0.24            -0.34        -0.29   \n",
       " 4              -0.48            -0.52            -0.34        -0.29   \n",
       " \n",
       "    night_pck_user_8  monthly_2g_8  sachet_3g_8  fb_user_8   aon  vbc_3g_8  \\\n",
       " 0             -0.08          2.99        -0.18       1.50 -0.51      0.05   \n",
       " 1             -0.08         -0.28        -0.18      -0.70 -0.21     -0.33   \n",
       " 2             -0.08          2.99        -0.18       1.50 -0.88      1.51   \n",
       " 3             -0.08         -0.28        -0.18       1.50 -0.32     -0.33   \n",
       " 4             -0.08         -0.28        -0.18      -0.70  1.72     -0.15   \n",
       " \n",
       "    total_recharge_good_phase  og_to_ic_mou_8  avgof67_arpu  \\\n",
       " 0                      -0.52           -0.42         -0.62   \n",
       " 1                      -0.41            0.66          0.14   \n",
       " 2                      -0.08           -0.25          0.06   \n",
       " 3                      -0.62           -0.32         -0.52   \n",
       " 4                      -0.19           -0.36         -0.23   \n",
       " \n",
       "    avgof67_roam_ic_mou  avgof67_loc_og_t2c_mou  avgof67_std_og_t2f_mou  \\\n",
       " 0                -0.27                   -0.33                   -0.20   \n",
       " 1                -0.27                   -0.33                   -0.20   \n",
       " 2                -0.27                   -0.33                   -0.20   \n",
       " 3                -0.27                   -0.33                   -0.20   \n",
       " 4                -0.27                   -0.33                    9.68   \n",
       " \n",
       "    avgof67_isd_og_mou  avgof67_spl_og_mou  avgof67_og_others  \\\n",
       " 0               -0.14               -0.50              -0.04   \n",
       " 1               -0.14               -0.50              -0.04   \n",
       " 2               -0.14               -0.50              -0.04   \n",
       " 3               -0.14               -0.50              -0.04   \n",
       " 4               -0.10               -0.50              -0.04   \n",
       " \n",
       "    avgof67_std_ic_t2t_mou  avgof67_std_ic_t2m_mou  avgof67_std_ic_t2f_mou  \\\n",
       " 0                   -0.37                   -0.27                   -0.23   \n",
       " 1                    0.09                   -0.33                   -0.23   \n",
       " 2                   -0.39                   -0.41                   -0.23   \n",
       " 3                   -0.39                   -0.44                   -0.23   \n",
       " 4                    0.11                    0.10                   -0.23   \n",
       " \n",
       "    avgof67_spl_ic_mou  avgof67_isd_ic_mou  avgof67_ic_others  \\\n",
       " 0               -0.22               -0.24              -0.24   \n",
       " 1               -0.22               -0.18              -0.24   \n",
       " 2               -0.22                1.98               1.49   \n",
       " 3               -0.22               -0.24              -0.24   \n",
       " 4               -0.22               -0.22              -0.24   \n",
       " \n",
       "    avgof67_max_rech_amt  avgof67_last_day_rch_amt  avgof67_total_rech_data  \\\n",
       " 0                  0.07                     -0.11                    -0.22   \n",
       " 1                 -0.56                     -0.13                    -0.62   \n",
       " 2                  0.07                      0.73                     0.17   \n",
       " 3                 -0.80                     -0.68                    -0.62   \n",
       " 4                  0.74                      1.67                    -0.22   \n",
       " \n",
       "    avgof67_max_rech_data  avgof67_count_rech_3g  avgof67_vol_2g_mb  \\\n",
       " 0                   0.90                  -0.43              -0.27   \n",
       " 1                  -0.63                  -0.43              -0.36   \n",
       " 2                   0.90                  -0.43              -0.32   \n",
       " 3                  -0.63                  -0.43              -0.36   \n",
       " 4                   0.90                  -0.43              -0.04   \n",
       " \n",
       "    avgof67_night_pck_user  avgof67_monthly_2g  avgof67_sachet_3g  \\\n",
       " 0                   -0.11                2.35              -0.28   \n",
       " 1                   -0.11               -0.35              -0.28   \n",
       " 2                   -0.11                5.05              -0.28   \n",
       " 3                   -0.11               -0.35              -0.28   \n",
       " 4                   -0.11                2.35              -0.28   \n",
       " \n",
       "    avgof67_fb_user  avgof67_vbc_3g  avgof67_og_to_ic_mou  \n",
       " 0             1.15           -0.03                 -0.56  \n",
       " 1            -0.93           -0.41                  0.24  \n",
       " 2             1.15            1.22                 -0.39  \n",
       " 3            -0.93           -0.28                 -0.45  \n",
       " 4             1.15           -0.41                 -0.45  ,\n",
       "        arpu_8  onnet_mou_8  offnet_mou_8  roam_ic_mou_8  roam_og_mou_8  \\\n",
       " 1648    -0.60        -0.46         -0.58          -0.27          -0.30   \n",
       " 15755    0.35        -0.08          0.85          -0.27          -0.30   \n",
       " 22784   -0.16        -0.28          0.47          -0.27          -0.30   \n",
       " 18386    0.58         0.08          1.01           0.47           3.35   \n",
       " 12806   -0.88        -0.46         -0.57          -0.27          -0.30   \n",
       " \n",
       "        loc_og_t2t_mou_8  loc_og_t2m_mou_8  loc_og_t2f_mou_8  loc_og_t2c_mou_8  \\\n",
       " 1648              -0.36             -0.50             -0.29             -0.27   \n",
       " 15755             -0.13              0.20              5.08             -0.27   \n",
       " 22784              0.07             -0.16             -0.29             -0.27   \n",
       " 18386             -0.27              0.13              0.28              6.25   \n",
       " 12806             -0.36             -0.48             -0.29             -0.27   \n",
       " \n",
       "        std_og_t2f_mou_8  isd_og_mou_8  spl_og_mou_8  og_others_8  \\\n",
       " 1648              -0.16         -0.11         -0.39        -0.02   \n",
       " 15755             -0.16         -0.11         -0.05        -0.02   \n",
       " 22784             -0.16         -0.11         -0.39        -0.02   \n",
       " 18386              0.02         -0.11          2.33        -0.02   \n",
       " 12806             -0.16         -0.11         -0.35        -0.02   \n",
       " \n",
       "        loc_ic_t2t_mou_8  loc_ic_t2m_mou_8  loc_ic_t2f_mou_8  std_ic_t2t_mou_8  \\\n",
       " 1648               0.73              0.94             -0.24             -0.24   \n",
       " 15755             -0.22              0.04              0.53              0.38   \n",
       " 22784              0.25             -0.03             -0.28             -0.29   \n",
       " 18386             -0.15              0.15              1.60             -0.29   \n",
       " 12806             -0.42             -0.54             -0.31             -0.29   \n",
       " \n",
       "        std_ic_t2m_mou_8  std_ic_t2f_mou_8  spl_ic_mou_8  isd_ic_mou_8  \\\n",
       " 1648               0.23             -0.20         -0.20         -0.20   \n",
       " 15755              2.74             -0.13         -0.20         -0.20   \n",
       " 22784              0.66             -0.20         -0.20         -0.20   \n",
       " 18386              0.06             -0.20         -0.20         -0.20   \n",
       " 12806             -0.34             -0.20         -0.20         -0.20   \n",
       " \n",
       "        ic_others_8  total_rech_num_8  max_rech_amt_8  last_day_rch_amt_8  \\\n",
       " 1648         -0.19              0.48           -0.66               -0.33   \n",
       " 15755        -0.19              1.38           -0.34               -0.57   \n",
       " 22784        -0.19             -0.03            0.31               -0.57   \n",
       " 18386         2.60              0.48            0.31                0.40   \n",
       " 12806        -0.19             -0.42           -0.66               -0.57   \n",
       " \n",
       "        total_rech_data_8  max_rech_data_8  count_rech_3g_8  vol_2g_mb_8  \\\n",
       " 1648                4.78            -0.24             1.18         0.22   \n",
       " 15755               1.91            -0.26            -0.34        -0.29   \n",
       " 22784              -0.48            -0.52            -0.34        -0.29   \n",
       " 18386              -0.01             0.03             1.18         0.92   \n",
       " 12806              -0.01            -0.24            -0.34        -0.27   \n",
       " \n",
       "        night_pck_user_8  monthly_2g_8  sachet_3g_8  fb_user_8   aon  vbc_3g_8  \\\n",
       " 1648              -0.08         -0.28         2.04       1.50 -0.57     -0.33   \n",
       " 15755             -0.08         -0.28        -0.18       1.50  0.62     -0.33   \n",
       " 22784             -0.08         -0.28        -0.18      -0.70 -0.36     -0.33   \n",
       " 18386             -0.08         -0.28         2.04       1.50  1.03     -0.33   \n",
       " 12806             -0.08         -0.28        -0.18       1.50 -0.88     -0.33   \n",
       " \n",
       "        total_recharge_good_phase  og_to_ic_mou_8  avgof67_arpu  \\\n",
       " 1648                        3.19           -0.43         -1.06   \n",
       " 15755                      -0.02           -0.14         -0.08   \n",
       " 22784                      -0.43           -0.13         -0.85   \n",
       " 18386                       0.66           -0.11          1.52   \n",
       " 12806                      -0.37           -0.25         -1.37   \n",
       " \n",
       "        avgof67_roam_ic_mou  avgof67_loc_og_t2c_mou  avgof67_std_og_t2f_mou  \\\n",
       " 1648                 -0.27                   -0.33                   -0.20   \n",
       " 15755                -0.27                   -0.17                   -0.20   \n",
       " 22784                -0.27                   -0.33                   -0.20   \n",
       " 18386                 2.41                    5.28                   -0.20   \n",
       " 12806                -0.27                   -0.33                   -0.20   \n",
       " \n",
       "        avgof67_isd_og_mou  avgof67_spl_og_mou  avgof67_og_others  \\\n",
       " 1648                -0.14               -0.50              -0.04   \n",
       " 15755               -0.14                0.42              -0.04   \n",
       " 22784               -0.14               -0.50              -0.04   \n",
       " 18386               -0.14                1.75              -0.04   \n",
       " 12806               -0.14               -0.50              -0.04   \n",
       " \n",
       "        avgof67_std_ic_t2t_mou  avgof67_std_ic_t2m_mou  avgof67_std_ic_t2f_mou  \\\n",
       " 1648                    -0.39                   -0.09                   -0.23   \n",
       " 15755                   -0.38                    0.83                   -0.22   \n",
       " 22784                   -0.39                    0.99                   -0.22   \n",
       " 18386                   -0.19                    0.90                   -0.23   \n",
       " 12806                   -0.39                   -0.44                   -0.23   \n",
       " \n",
       "        avgof67_spl_ic_mou  avgof67_isd_ic_mou  avgof67_ic_others  \\\n",
       " 1648                -0.22               -0.24              -0.24   \n",
       " 15755               -0.22               -0.01               0.37   \n",
       " 22784               -0.22               -0.24              -0.24   \n",
       " 18386               -0.22               -0.24               0.77   \n",
       " 12806               -0.22               -0.24              -0.24   \n",
       " \n",
       "        avgof67_max_rech_amt  avgof67_last_day_rch_amt  \\\n",
       " 1648                  -0.84                     -0.52   \n",
       " 15755                 -0.54                     -0.28   \n",
       " 22784                  0.04                      0.70   \n",
       " 18386                  0.91                      1.90   \n",
       " 12806                 -0.84                     -0.52   \n",
       " \n",
       "        avgof67_total_rech_data  avgof67_max_rech_data  avgof67_count_rech_3g  \\\n",
       " 1648                      4.13                  -0.38                  -0.43   \n",
       " 15755                     0.96                  -0.40                  -0.43   \n",
       " 22784                    -0.62                  -0.63                  -0.43   \n",
       " 18386                     0.96                   2.09                  -0.43   \n",
       " 12806                     0.17                  -0.38                  -0.43   \n",
       " \n",
       "        avgof67_vol_2g_mb  avgof67_night_pck_user  avgof67_monthly_2g  \\\n",
       " 1648                0.25                   -0.11               -0.35   \n",
       " 15755              -0.36                   -0.11               -0.35   \n",
       " 22784              -0.36                   -0.11               -0.35   \n",
       " 18386               0.52                   -0.11                2.35   \n",
       " 12806               0.74                   -0.11               -0.35   \n",
       " \n",
       "        avgof67_sachet_3g  avgof67_fb_user  avgof67_vbc_3g  \\\n",
       " 1648               -0.28             1.15           -0.41   \n",
       " 15755              -0.28            -0.93           -0.41   \n",
       " 22784              -0.28            -0.93           -0.41   \n",
       " 18386              -0.28             1.15           -0.41   \n",
       " 12806              -0.28             1.15           -0.34   \n",
       " \n",
       "        avgof67_og_to_ic_mou  \n",
       " 1648                  -0.57  \n",
       " 15755                 -0.22  \n",
       " 22784                 -0.22  \n",
       " 18386                 -0.22  \n",
       " 12806                 -0.57  )"
      ]
     },
     "execution_count": 56,
     "metadata": {},
     "output_type": "execute_result"
    }
   ],
   "source": [
    "X_train_ns = X_train.copy()\n",
    "X_test_ns = X_test.copy()\n",
    "# Scale data. \n",
    "scaler = StandardScaler()\n",
    "X_train = pd.DataFrame(scaler.fit_transform(X_train), index=X_train.index, columns=X_train.columns)\n",
    "X_test = pd.DataFrame(scaler.transform(X_test), index=X_test.index, columns=X_test.columns)"
   ]
  },
  {
   "cell_type": "code",
   "execution_count": 57,
   "metadata": {},
   "outputs": [
    {
     "data": {
      "text/plain": [
       "PCA(random_state=42, svd_solver='randomized')"
      ]
     },
     "execution_count": 57,
     "metadata": {},
     "output_type": "execute_result"
    }
   ],
   "source": [
    "pca = PCA(svd_solver='randomized', random_state=42)\n",
    "pca.fit(X_train)"
   ]
  },
  {
   "cell_type": "code",
   "execution_count": 58,
   "metadata": {},
   "outputs": [],
   "source": [
    "var_cumu = np.cumsum(np.round(pca.explained_variance_ratio_, decimals=4)*100)"
   ]
  },
  {
   "cell_type": "code",
   "execution_count": 59,
   "metadata": {},
   "outputs": [
    {
     "data": {
      "image/png": "[encoded data removed]",
      "text/plain": [
       "<Figure size 720x360 with 1 Axes>"
      ]
     },
     "metadata": {
      "needs_background": "light"
     },
     "output_type": "display_data"
    }
   ],
   "source": [
    "plt.figure(figsize=(10,5))\n",
    "plt.vlines(x=48, ymax=100, ymin=0, colors=\"r\", linestyles=\"--\")\n",
    "plt.hlines(y=95, xmax=50, xmin=0, colors=\"g\", linestyles=\"--\")\n",
    "plt.plot(var_cumu)\n",
    "plt.ylabel(\"Cumulative variance explained\")\n",
    "plt.show()"
   ]
  },
  {
   "cell_type": "code",
   "execution_count": 60,
   "metadata": {},
   "outputs": [
    {
     "data": {
      "text/plain": [
       "((33860, 48), (7883, 48))"
      ]
     },
     "execution_count": 60,
     "metadata": {},
     "output_type": "execute_result"
    }
   ],
   "source": [
    "# Picking 30 components here which hold at least 95\n",
    "pca_final = IncrementalPCA(n_components=48)\n",
    "X_train_pca = pd.DataFrame(pca_final.fit_transform(X_train))\n",
    "X_test_pca = pd.DataFrame(pca_final.transform(X_test))\n",
    "X_train_pca.shape, X_test_pca.shape"
   ]
  },
  {
   "cell_type": "code",
   "execution_count": 61,
   "metadata": {},
   "outputs": [
    {
     "data": {
      "text/plain": [
       "(48, 48)"
      ]
     },
     "execution_count": 61,
     "metadata": {},
     "output_type": "execute_result"
    }
   ],
   "source": [
    "corrmat = np.corrcoef(X_train_pca.transpose())\n",
    "corrmat.shape"
   ]
  },
  {
   "cell_type": "code",
   "execution_count": 62,
   "metadata": {},
   "outputs": [
    {
     "name": "stdout",
     "output_type": "stream",
     "text": [
      "max corr: 0.01602598274862164 , min corr:  -0.021972483754747606\n"
     ]
    }
   ],
   "source": [
    "#creating correlation matrix for the principal components\n",
    "corrmat = np.corrcoef(X_train_pca.transpose())\n",
    "# 1s -> 0s in diagonals\n",
    "corrmat_nodiag = corrmat - np.diagflat(corrmat.diagonal())\n",
    "print(\"max corr:\",corrmat_nodiag.max(), \", min corr: \", corrmat_nodiag.min(),)\n",
    "# we see that correlations are indeed very close to 0"
   ]
  },
  {
   "cell_type": "code",
   "execution_count": 63,
   "metadata": {},
   "outputs": [
    {
     "data": {
      "text/html": [
       "<div>\n",
       "<style scoped>\n",
       "    .dataframe tbody tr th:only-of-type {\n",
       "        vertical-align: middle;\n",
       "    }\n",
       "\n",
       "    .dataframe tbody tr th {\n",
       "        vertical-align: top;\n",
       "    }\n",
       "\n",
       "    .dataframe thead th {\n",
       "        text-align: right;\n",
       "    }\n",
       "</style>\n",
       "<table border=\"1\" class=\"dataframe\">\n",
       "  <thead>\n",
       "    <tr style=\"text-align: right;\">\n",
       "      <th></th>\n",
       "      <th>PC-1</th>\n",
       "      <th>PC-2</th>\n",
       "      <th>PC-3</th>\n",
       "      <th>Feature</th>\n",
       "    </tr>\n",
       "  </thead>\n",
       "  <tbody>\n",
       "    <tr>\n",
       "      <th>0</th>\n",
       "      <td>0.24</td>\n",
       "      <td>0.26</td>\n",
       "      <td>0.12</td>\n",
       "      <td>arpu_8</td>\n",
       "    </tr>\n",
       "    <tr>\n",
       "      <th>1</th>\n",
       "      <td>0.05</td>\n",
       "      <td>0.23</td>\n",
       "      <td>0.19</td>\n",
       "      <td>onnet_mou_8</td>\n",
       "    </tr>\n",
       "    <tr>\n",
       "      <th>2</th>\n",
       "      <td>0.12</td>\n",
       "      <td>0.26</td>\n",
       "      <td>0.14</td>\n",
       "      <td>offnet_mou_8</td>\n",
       "    </tr>\n",
       "    <tr>\n",
       "      <th>3</th>\n",
       "      <td>0.00</td>\n",
       "      <td>0.07</td>\n",
       "      <td>-0.06</td>\n",
       "      <td>roam_ic_mou_8</td>\n",
       "    </tr>\n",
       "    <tr>\n",
       "      <th>4</th>\n",
       "      <td>-0.01</td>\n",
       "      <td>0.10</td>\n",
       "      <td>-0.03</td>\n",
       "      <td>roam_og_mou_8</td>\n",
       "    </tr>\n",
       "    <tr>\n",
       "      <th>5</th>\n",
       "      <td>0.12</td>\n",
       "      <td>0.15</td>\n",
       "      <td>0.01</td>\n",
       "      <td>loc_og_t2t_mou_8</td>\n",
       "    </tr>\n",
       "    <tr>\n",
       "      <th>6</th>\n",
       "      <td>0.18</td>\n",
       "      <td>0.19</td>\n",
       "      <td>-0.01</td>\n",
       "      <td>loc_og_t2m_mou_8</td>\n",
       "    </tr>\n",
       "    <tr>\n",
       "      <th>7</th>\n",
       "      <td>0.14</td>\n",
       "      <td>0.11</td>\n",
       "      <td>-0.12</td>\n",
       "      <td>loc_og_t2f_mou_8</td>\n",
       "    </tr>\n",
       "    <tr>\n",
       "      <th>8</th>\n",
       "      <td>0.06</td>\n",
       "      <td>0.06</td>\n",
       "      <td>0.19</td>\n",
       "      <td>loc_og_t2c_mou_8</td>\n",
       "    </tr>\n",
       "    <tr>\n",
       "      <th>9</th>\n",
       "      <td>0.08</td>\n",
       "      <td>0.07</td>\n",
       "      <td>-0.09</td>\n",
       "      <td>std_og_t2f_mou_8</td>\n",
       "    </tr>\n",
       "  </tbody>\n",
       "</table>\n",
       "</div>"
      ],
      "text/plain": [
       "   PC-1  PC-2  PC-3           Feature\n",
       "0  0.24  0.26  0.12            arpu_8\n",
       "1  0.05  0.23  0.19       onnet_mou_8\n",
       "2  0.12  0.26  0.14      offnet_mou_8\n",
       "3  0.00  0.07 -0.06     roam_ic_mou_8\n",
       "4 -0.01  0.10 -0.03     roam_og_mou_8\n",
       "5  0.12  0.15  0.01  loc_og_t2t_mou_8\n",
       "6  0.18  0.19 -0.01  loc_og_t2m_mou_8\n",
       "7  0.14  0.11 -0.12  loc_og_t2f_mou_8\n",
       "8  0.06  0.06  0.19  loc_og_t2c_mou_8\n",
       "9  0.08  0.07 -0.09  std_og_t2f_mou_8"
      ]
     },
     "execution_count": 63,
     "metadata": {},
     "output_type": "execute_result"
    }
   ],
   "source": [
    "## Key Components\n",
    "col = list(X_train.columns)\n",
    "df_pca = pd.DataFrame({'PC-1':pca_final.components_[0],'PC-2':pca_final.components_[1], 'PC-3':pca_final.components_[2],'Feature':col})\n",
    "df_pca.head(10)"
   ]
  },
  {
   "cell_type": "markdown",
   "metadata": {},
   "source": [
    "#### Modeling\n",
    "The algorithms that we should be trying with hyperparameter tuning\n",
    "Logistic Regression\n",
    "Decision Tree\n",
    "Random Forest\n",
    "XGBoost\n",
    "\n",
    "Since it is important to identify a churn customer correctly than failing to identify non-churns - True Positive Rate / Recall should be used as a measure along with accuracy.\n",
    "In cases when default parameters did not provide satisfactory results, hyper parameter tuning is performed. It is done in such a way that if the parameters which are picked by the algorithm lies to extreme left or right the parameters are tuned and the model is re-trained."
   ]
  },
  {
   "cell_type": "code",
   "execution_count": 64,
   "metadata": {},
   "outputs": [],
   "source": [
    "## Re-usable functions\n",
    "model_metrics = [] \n",
    "def draw_roc( actual, probs ):\n",
    "    fpr, tpr, thresholds = metrics.roc_curve( actual, probs,\n",
    "                                              drop_intermediate = False )\n",
    "    auc_score = metrics.roc_auc_score( actual, probs )\n",
    "    plt.figure(figsize=(6, 6))\n",
    "    plt.plot( fpr, tpr, label='ROC curve (area = %0.2f)' % auc_score )\n",
    "    plt.plot([0, 1], [0, 1], 'k--')\n",
    "    plt.xlim([0.0, 1.0])\n",
    "    plt.ylim([0.0, 1.05])\n",
    "    plt.xlabel('False Positive Rate or [1 - True Negative Rate]')\n",
    "    plt.ylabel('True Positive Rate')\n",
    "    plt.title('Receiver operating characteristic example')\n",
    "    plt.legend(loc=\"lower right\")\n",
    "    plt.show()\n",
    "\n",
    "    return fpr, tpr, thresholds\n",
    "\n",
    "\n",
    "def findOptimalCutoff(df):\n",
    "    #Function to find the optimal cutoff for classifing as churn/non-churn\n",
    "    # Let's create columns with different probability cutoffs \n",
    "    numbers = [float(x)/10 for x in range(10)]\n",
    "    for i in numbers:\n",
    "        df[i] = df.churn_Prob.map( lambda x: 1 if x > i else 0)\n",
    "    \n",
    "    # Now let's calculate accuracy sensitivity and specificity for various probability cutoffs.\n",
    "    cutoff_df = pd.DataFrame( columns = ['prob','accuracy','sensi','speci'])\n",
    "    from sklearn.metrics import confusion_matrix\n",
    "    \n",
    "    num = [0.0,0.1,0.2,0.3,0.4,0.5,0.6,0.7,0.8,0.9]\n",
    "    for i in num:\n",
    "        cm1 = metrics.confusion_matrix(df.churn, df[i] )\n",
    "        total1=sum(sum(cm1))\n",
    "        accuracy = (cm1[0,0]+cm1[1,1])/total1\n",
    "        \n",
    "        speci = cm1[0,0]/(cm1[0,0]+cm1[0,1])\n",
    "        sensi = cm1[1,1]/(cm1[1,0]+cm1[1,1])\n",
    "        cutoff_df.loc[i] =[ i ,accuracy,sensi,speci]\n",
    "    print(cutoff_df)\n",
    "    # Let's plot accuracy sensitivity and specificity for various probabilities.\n",
    "    cutoff_df.plot.line(x='prob', y=['accuracy','sensi','speci'])\n",
    "    plt.show()\n",
    "    \n",
    "\n",
    "def get_model_metrics_using_predict(name, model, X_train, X_test, y_train, y_test):\n",
    "    acc_train = round(accuracy_score(y_train, model.predict(X_train)),2)\n",
    "    cm_train = confusion_matrix(y_train, model.predict(X_train))\n",
    "    acc_test = round(accuracy_score(y_test, model.predict(X_test)),2)\n",
    "    cm_test = confusion_matrix(y_test, model.predict(X_test))\n",
    "    auc = round(roc_auc_score(y_test, model.predict(X_test)),2)\n",
    "    pre = round(precision_score(y_test, model.predict(X_test)),2)\n",
    "    rec = round(recall_score(y_test, model.predict(X_test)),2)\n",
    "    f1 = round(f1_score(y_test, model.predict(X_test)),2)\n",
    "    print(\"-\"*50)\n",
    "    print(\"Train Accuracy :\", acc_train)\n",
    "    print(\"Train Confusion Matrix:\", cm_train)\n",
    "    print(cm_train)\n",
    "    print(\"-\"*50)\n",
    "    print(\"Test Accuracy :\", acc_test)\n",
    "    print(\"Test Confusion Matrix:\")\n",
    "    print(cm_test)\n",
    "    print(\"-\"*50)\n",
    "    print(\"AUC Score:\")\n",
    "    print(auc)\n",
    "    print(\"-\"*50)\n",
    "    print(\"Precision Score:\")\n",
    "    print(pre)\n",
    "    print(\"-\"*50)\n",
    "    print(\"Recall/Sensitivity Score:\")\n",
    "    print(rec)\n",
    "    print(\"-\"*50)\n",
    "    print(\"F1 Score:\")\n",
    "    print(f1)\n",
    "    print(\"-\"*50)\n",
    "    print(\"Classification Report:\")\n",
    "    print(classification_report(y_test, model.predict(X_test)))\n",
    "    draw_roc(y_test,  model.predict(X_test))\n",
    "    model_metrics.append({\"model_name\":name, \"train_accuracy\": acc_train, \"test_accuracy\" : acc_test, \n",
    "                              \"auc\":auc, \"precision\": pre, \"recall\" : rec, \"f1\": f1, \"model\": model}) \n",
    "\n",
    "\n",
    "def getModelMetrics(actual_churn=False,pred_churn=False):\n",
    "\n",
    "    confusion = metrics.confusion_matrix(actual_churn, pred_churn)\n",
    "\n",
    "    TP = confusion[1,1] # true positive \n",
    "    TN = confusion[0,0] # true negatives\n",
    "    FP = confusion[0,1] # false positives\n",
    "    FN = confusion[1,0] # false negatives\n",
    "\n",
    "    print(\"Roc_auc_score : {}\".format(metrics.roc_auc_score(actual_churn,pred_churn)))\n",
    "    # Let's see the sensitivity of our logistic regression model\n",
    "    print('Sensitivity/Recall : {}'.format(TP / float(TP+FN)))\n",
    "    # Let us calculate specificity\n",
    "    print('Specificity: {}'.format(TN / float(TN+FP)))\n",
    "    # Calculate false postive rate - predicting churn when customer does not have churned\n",
    "    print('False Positive Rate: {}'.format(FP/ float(TN+FP)))\n",
    "    # positive predictive value \n",
    "    print('Positive predictive value: {}'.format(TP / float(TP+FP)))\n",
    "    # Negative predictive value\n",
    "    print('Negative Predictive value: {}'.format(TN / float(TN+ FN)))\n",
    "    # sklearn precision score value \n",
    "    print('sklearn precision score value: {}'.format(metrics.precision_score(actual_churn, pred_churn )))\n",
    "    \n",
    "    \n",
    "def predictChurnWithProb(model,X,y,prob):\n",
    "    # Funtion to predict the churn using the input probability cut-off\n",
    "    # Input arguments: model instance, x and y to predict using model and cut-off probability\n",
    "    \n",
    "    # predict\n",
    "    pred_probs = model.predict_proba(X)[:,1]\n",
    "    \n",
    "    y_df= pd.DataFrame({'churn':y, 'churn_Prob':pred_probs})\n",
    "    # Creating new column 'predicted' with 1 if Churn_Prob>0.5 else 0\n",
    "    y_df['final_predicted'] = y_df.churn_Prob.map( lambda x: 1 if x > prob else 0)\n",
    "    # Let's see the head\n",
    "    getModelMetrics(y_df.churn,y_df.final_predicted)\n",
    "    return y_df\n"
   ]
  },
  {
   "cell_type": "markdown",
   "metadata": {},
   "source": [
    "### Logistic Regression"
   ]
  },
  {
   "cell_type": "code",
   "execution_count": 66,
   "metadata": {},
   "outputs": [
    {
     "name": "stdout",
     "output_type": "stream",
     "text": [
      "--------------------------------------------------\n",
      "Train Accuracy : 0.84\n",
      "Train Confusion Matrix: [[13950  2980]\n",
      " [ 2393 14537]]\n",
      "[[13950  2980]\n",
      " [ 2393 14537]]\n",
      "--------------------------------------------------\n",
      "Test Accuracy : 0.82\n",
      "Test Confusion Matrix:\n",
      "[[5989 1272]\n",
      " [ 109  513]]\n",
      "--------------------------------------------------\n",
      "AUC Score:\n",
      "0.82\n",
      "--------------------------------------------------\n",
      "Precision Score:\n",
      "0.29\n",
      "--------------------------------------------------\n",
      "Recall/Sensitivity Score:\n",
      "0.82\n",
      "--------------------------------------------------\n",
      "F1 Score:\n",
      "0.43\n",
      "--------------------------------------------------\n",
      "Classification Report:\n",
      "              precision    recall  f1-score   support\n",
      "\n",
      "           0       0.98      0.82      0.90      7261\n",
      "           1       0.29      0.82      0.43       622\n",
      "\n",
      "    accuracy                           0.82      7883\n",
      "   macro avg       0.63      0.82      0.66      7883\n",
      "weighted avg       0.93      0.82      0.86      7883\n",
      "\n"
     ]
    },
    {
     "data": {
      "image/png": "[encoded data removed]",
      "text/plain": [
       "<Figure size 432x432 with 1 Axes>"
      ]
     },
     "metadata": {
      "needs_background": "light"
     },
     "output_type": "display_data"
    },
    {
     "name": "stdout",
     "output_type": "stream",
     "text": [
      "--------------------------------------------------\n",
      "Train Metrics with probability: 0.5\n",
      "Roc_auc_score : 0.8413171884229179\n",
      "Sensitivity/Recall : 0.858653278204371\n",
      "Specificity: 0.8239810986414648\n",
      "False Positive Rate: 0.17601890135853515\n",
      "Positive predictive value: 0.8298795455842896\n",
      "Negative Predictive value: 0.8535764547512696\n",
      "sklearn precision score value: 0.8298795455842896\n",
      "      prob  accuracy  sensi  speci\n",
      "0.00  0.00      0.50   1.00   0.00\n",
      "0.10  0.10      0.72   0.98   0.47\n",
      "0.20  0.20      0.78   0.96   0.60\n",
      "0.30  0.30      0.81   0.93   0.69\n",
      "0.40  0.40      0.83   0.90   0.76\n",
      "0.50  0.50      0.84   0.86   0.82\n",
      "0.60  0.60      0.84   0.81   0.88\n",
      "0.70  0.70      0.83   0.75   0.91\n",
      "0.80  0.80      0.81   0.66   0.95\n",
      "0.90  0.90      0.67   0.35   0.98\n"
     ]
    },
    {
     "data": {
      "image/png": "[encoded data removed]",
      "text/plain": [
       "<Figure size 432x288 with 1 Axes>"
      ]
     },
     "metadata": {
      "needs_background": "light"
     },
     "output_type": "display_data"
    },
    {
     "name": "stdout",
     "output_type": "stream",
     "text": [
      "--------------------------------------------------\n",
      "Test Metrics with probability: 0.45\n",
      "Roc_auc_score : 0.8193075280835685\n",
      "Sensitivity/Recall : 0.842443729903537\n",
      "Specificity: 0.7961713262636001\n",
      "False Positive Rate: 0.20382867373639996\n",
      "Positive predictive value: 0.26147704590818366\n",
      "Negative Predictive value: 0.9833304983840789\n",
      "sklearn precision score value: 0.26147704590818366\n"
     ]
    },
    {
     "data": {
      "text/html": [
       "<div>\n",
       "<style scoped>\n",
       "    .dataframe tbody tr th:only-of-type {\n",
       "        vertical-align: middle;\n",
       "    }\n",
       "\n",
       "    .dataframe tbody tr th {\n",
       "        vertical-align: top;\n",
       "    }\n",
       "\n",
       "    .dataframe thead th {\n",
       "        text-align: right;\n",
       "    }\n",
       "</style>\n",
       "<table border=\"1\" class=\"dataframe\">\n",
       "  <thead>\n",
       "    <tr style=\"text-align: right;\">\n",
       "      <th></th>\n",
       "      <th>churn</th>\n",
       "      <th>churn_Prob</th>\n",
       "      <th>final_predicted</th>\n",
       "    </tr>\n",
       "  </thead>\n",
       "  <tbody>\n",
       "    <tr>\n",
       "      <th>1648</th>\n",
       "      <td>0</td>\n",
       "      <td>0.04</td>\n",
       "      <td>0</td>\n",
       "    </tr>\n",
       "    <tr>\n",
       "      <th>15755</th>\n",
       "      <td>0</td>\n",
       "      <td>0.03</td>\n",
       "      <td>0</td>\n",
       "    </tr>\n",
       "    <tr>\n",
       "      <th>22784</th>\n",
       "      <td>0</td>\n",
       "      <td>0.53</td>\n",
       "      <td>1</td>\n",
       "    </tr>\n",
       "    <tr>\n",
       "      <th>18386</th>\n",
       "      <td>0</td>\n",
       "      <td>0.07</td>\n",
       "      <td>0</td>\n",
       "    </tr>\n",
       "    <tr>\n",
       "      <th>12806</th>\n",
       "      <td>0</td>\n",
       "      <td>0.67</td>\n",
       "      <td>1</td>\n",
       "    </tr>\n",
       "    <tr>\n",
       "      <th>...</th>\n",
       "      <td>...</td>\n",
       "      <td>...</td>\n",
       "      <td>...</td>\n",
       "    </tr>\n",
       "    <tr>\n",
       "      <th>5291</th>\n",
       "      <td>0</td>\n",
       "      <td>0.00</td>\n",
       "      <td>0</td>\n",
       "    </tr>\n",
       "    <tr>\n",
       "      <th>17186</th>\n",
       "      <td>0</td>\n",
       "      <td>0.62</td>\n",
       "      <td>1</td>\n",
       "    </tr>\n",
       "    <tr>\n",
       "      <th>8762</th>\n",
       "      <td>0</td>\n",
       "      <td>0.04</td>\n",
       "      <td>0</td>\n",
       "    </tr>\n",
       "    <tr>\n",
       "      <th>20920</th>\n",
       "      <td>0</td>\n",
       "      <td>0.37</td>\n",
       "      <td>0</td>\n",
       "    </tr>\n",
       "    <tr>\n",
       "      <th>18632</th>\n",
       "      <td>0</td>\n",
       "      <td>0.34</td>\n",
       "      <td>0</td>\n",
       "    </tr>\n",
       "  </tbody>\n",
       "</table>\n",
       "<p>7883 rows × 3 columns</p>\n",
       "</div>"
      ],
      "text/plain": [
       "       churn  churn_Prob  final_predicted\n",
       "1648       0        0.04                0\n",
       "15755      0        0.03                0\n",
       "22784      0        0.53                1\n",
       "18386      0        0.07                0\n",
       "12806      0        0.67                1\n",
       "...      ...         ...              ...\n",
       "5291       0        0.00                0\n",
       "17186      0        0.62                1\n",
       "8762       0        0.04                0\n",
       "20920      0        0.37                0\n",
       "18632      0        0.34                0\n",
       "\n",
       "[7883 rows x 3 columns]"
      ]
     },
     "execution_count": 66,
     "metadata": {},
     "output_type": "execute_result"
    }
   ],
   "source": [
    "slr_pca = LogisticRegression()\n",
    "model_slr_pca = slr_pca.fit(X_train_pca, y_train)\n",
    "get_model_metrics_using_predict(\"Logistic Regression\", model_slr_pca, X_train_pca, X_test_pca, y_train, y_test)\n",
    "cut_off_prob=0.5\n",
    "print(\"-\"*50)\n",
    "print(\"Train Metrics with probability: {0}\".format(cut_off_prob))\n",
    "y_train_df = predictChurnWithProb(slr_pca,X_train_pca,y_train,cut_off_prob)\n",
    "findOptimalCutoff(y_train_df)\n",
    "cut_off_prob = 0.45\n",
    "print(\"-\"*50)\n",
    "print(\"Test Metrics with probability: {0}\".format(cut_off_prob))\n",
    "predictChurnWithProb(slr_pca,X_test_pca,y_test,cut_off_prob)"
   ]
  },
  {
   "cell_type": "markdown",
   "metadata": {},
   "source": [
    "#### Summary from Logistic Regression\n",
    "- Accuracy : The model shows a train accuracy 84% and test accuracy of 82%, which shows the model is good.\n",
    "- AUC : The AUC score is 82 which also proves the model is performing good.\n",
    "- Recall : 82% with default predictions , by reducing the cut off to 45% we can increase it by another 2%"
   ]
  },
  {
   "cell_type": "code",
   "execution_count": 67,
   "metadata": {},
   "outputs": [
    {
     "name": "stdout",
     "output_type": "stream",
     "text": [
      "tuned hpyerparameters :(best parameters)  {'C': 0.01, 'penalty': 'l2'}\n",
      "accuracy : 0.8406969875959834\n",
      "--------------------------------------------------\n",
      "Train Accuracy : 0.84\n",
      "Train Confusion Matrix: [[13939  2991]\n",
      " [ 2387 14543]]\n",
      "[[13939  2991]\n",
      " [ 2387 14543]]\n",
      "--------------------------------------------------\n",
      "Test Accuracy : 0.83\n",
      "Test Confusion Matrix:\n",
      "[[5990 1271]\n",
      " [ 108  514]]\n",
      "--------------------------------------------------\n",
      "AUC Score:\n",
      "0.83\n",
      "--------------------------------------------------\n",
      "Precision Score:\n",
      "0.29\n",
      "--------------------------------------------------\n",
      "Recall/Sensitivity Score:\n",
      "0.83\n",
      "--------------------------------------------------\n",
      "F1 Score:\n",
      "0.43\n",
      "--------------------------------------------------\n",
      "Classification Report:\n",
      "              precision    recall  f1-score   support\n",
      "\n",
      "           0       0.98      0.82      0.90      7261\n",
      "           1       0.29      0.83      0.43       622\n",
      "\n",
      "    accuracy                           0.83      7883\n",
      "   macro avg       0.64      0.83      0.66      7883\n",
      "weighted avg       0.93      0.83      0.86      7883\n",
      "\n"
     ]
    },
    {
     "data": {
      "image/png": "[encoded data removed]",
      "text/plain": [
       "<Figure size 432x432 with 1 Axes>"
      ]
     },
     "metadata": {
      "needs_background": "light"
     },
     "output_type": "display_data"
    },
    {
     "name": "stdout",
     "output_type": "stream",
     "text": [
      "--------------------------------------------------\n",
      "Train Metrics with probability: 0.5\n",
      "Roc_auc_score : 0.8411695215593621\n",
      "Sensitivity/Recall : 0.8590076786769049\n",
      "Specificity: 0.8233313644418192\n",
      "False Positive Rate: 0.17666863555818074\n",
      "Positive predictive value: 0.8294171324284247\n",
      "Negative Predictive value: 0.8537914982236923\n",
      "sklearn precision score value: 0.8294171324284247\n",
      "      prob  accuracy  sensi  speci\n",
      "0.00  0.00      0.50   1.00   0.00\n",
      "0.10  0.10      0.71   0.98   0.45\n",
      "0.20  0.20      0.78   0.96   0.59\n",
      "0.30  0.30      0.81   0.93   0.69\n",
      "0.40  0.40      0.83   0.90   0.76\n",
      "0.50  0.50      0.84   0.86   0.82\n",
      "0.60  0.60      0.84   0.81   0.88\n",
      "0.70  0.70      0.83   0.74   0.91\n",
      "0.80  0.80      0.80   0.66   0.95\n",
      "0.90  0.90      0.65   0.32   0.98\n"
     ]
    },
    {
     "data": {
      "image/png": "[encoded data removed]",
      "text/plain": [
       "<Figure size 432x288 with 1 Axes>"
      ]
     },
     "metadata": {
      "needs_background": "light"
     },
     "output_type": "display_data"
    },
    {
     "name": "stdout",
     "output_type": "stream",
     "text": [
      "--------------------------------------------------\n",
      "Test Metrics with probability: 0.5\n",
      "Roc_auc_score : 0.8256608999052772\n",
      "Sensitivity/Recall : 0.8263665594855305\n",
      "Specificity: 0.8249552403250241\n",
      "False Positive Rate: 0.1750447596749759\n",
      "Positive predictive value: 0.2879551820728291\n",
      "Negative Predictive value: 0.9822892751721876\n",
      "sklearn precision score value: 0.2879551820728291\n"
     ]
    },
    {
     "data": {
      "text/html": [
       "<div>\n",
       "<style scoped>\n",
       "    .dataframe tbody tr th:only-of-type {\n",
       "        vertical-align: middle;\n",
       "    }\n",
       "\n",
       "    .dataframe tbody tr th {\n",
       "        vertical-align: top;\n",
       "    }\n",
       "\n",
       "    .dataframe thead th {\n",
       "        text-align: right;\n",
       "    }\n",
       "</style>\n",
       "<table border=\"1\" class=\"dataframe\">\n",
       "  <thead>\n",
       "    <tr style=\"text-align: right;\">\n",
       "      <th></th>\n",
       "      <th>churn</th>\n",
       "      <th>churn_Prob</th>\n",
       "      <th>final_predicted</th>\n",
       "    </tr>\n",
       "  </thead>\n",
       "  <tbody>\n",
       "    <tr>\n",
       "      <th>1648</th>\n",
       "      <td>0</td>\n",
       "      <td>0.05</td>\n",
       "      <td>0</td>\n",
       "    </tr>\n",
       "    <tr>\n",
       "      <th>15755</th>\n",
       "      <td>0</td>\n",
       "      <td>0.03</td>\n",
       "      <td>0</td>\n",
       "    </tr>\n",
       "    <tr>\n",
       "      <th>22784</th>\n",
       "      <td>0</td>\n",
       "      <td>0.54</td>\n",
       "      <td>1</td>\n",
       "    </tr>\n",
       "    <tr>\n",
       "      <th>18386</th>\n",
       "      <td>0</td>\n",
       "      <td>0.07</td>\n",
       "      <td>0</td>\n",
       "    </tr>\n",
       "    <tr>\n",
       "      <th>12806</th>\n",
       "      <td>0</td>\n",
       "      <td>0.66</td>\n",
       "      <td>1</td>\n",
       "    </tr>\n",
       "    <tr>\n",
       "      <th>...</th>\n",
       "      <td>...</td>\n",
       "      <td>...</td>\n",
       "      <td>...</td>\n",
       "    </tr>\n",
       "    <tr>\n",
       "      <th>5291</th>\n",
       "      <td>0</td>\n",
       "      <td>0.00</td>\n",
       "      <td>0</td>\n",
       "    </tr>\n",
       "    <tr>\n",
       "      <th>17186</th>\n",
       "      <td>0</td>\n",
       "      <td>0.61</td>\n",
       "      <td>1</td>\n",
       "    </tr>\n",
       "    <tr>\n",
       "      <th>8762</th>\n",
       "      <td>0</td>\n",
       "      <td>0.04</td>\n",
       "      <td>0</td>\n",
       "    </tr>\n",
       "    <tr>\n",
       "      <th>20920</th>\n",
       "      <td>0</td>\n",
       "      <td>0.39</td>\n",
       "      <td>0</td>\n",
       "    </tr>\n",
       "    <tr>\n",
       "      <th>18632</th>\n",
       "      <td>0</td>\n",
       "      <td>0.33</td>\n",
       "      <td>0</td>\n",
       "    </tr>\n",
       "  </tbody>\n",
       "</table>\n",
       "<p>7883 rows × 3 columns</p>\n",
       "</div>"
      ],
      "text/plain": [
       "       churn  churn_Prob  final_predicted\n",
       "1648       0        0.05                0\n",
       "15755      0        0.03                0\n",
       "22784      0        0.54                1\n",
       "18386      0        0.07                0\n",
       "12806      0        0.66                1\n",
       "...      ...         ...              ...\n",
       "5291       0        0.00                0\n",
       "17186      0        0.61                1\n",
       "8762       0        0.04                0\n",
       "20920      0        0.39                0\n",
       "18632      0        0.33                0\n",
       "\n",
       "[7883 rows x 3 columns]"
      ]
     },
     "execution_count": 67,
     "metadata": {},
     "output_type": "execute_result"
    }
   ],
   "source": [
    "grid={\"C\":[0.0001,0.001,0.01,0.1,0.2,0.3,0.4,0.5], \"penalty\":[\"l2\"]}\n",
    "logreg=LogisticRegression()\n",
    "logreg_cv=GridSearchCV(logreg,grid,cv=5,n_jobs=-1)\n",
    "logreg_cv.fit(X_train_pca,y_train)\n",
    "\n",
    "print(\"tuned hpyerparameters :(best parameters) \",logreg_cv.best_params_)\n",
    "print(\"accuracy :\",logreg_cv.best_score_)\n",
    "\n",
    "lr_reg_pca = logreg_cv.best_estimator_\n",
    "model_lr_reg_pca = lr_reg_pca.fit(X_train_pca, y_train)\n",
    "get_model_metrics_using_predict(\"Logistic Regression - HyperParameters\", model_lr_reg_pca, X_train_pca, X_test_pca, y_train, y_test)\n",
    "\n",
    "cut_off_prob=0.5\n",
    "print(\"-\"*50)\n",
    "print(\"Train Metrics with probability: {0}\".format(cut_off_prob))\n",
    "y_train_df = predictChurnWithProb(model_lr_reg_pca,X_train_pca,y_train,cut_off_prob)\n",
    "findOptimalCutoff(y_train_df)\n",
    "cut_off_prob = 0.5\n",
    "print(\"-\"*50)\n",
    "print(\"Test Metrics with probability: {0}\".format(cut_off_prob))\n",
    "predictChurnWithProb(model_lr_reg_pca,X_test_pca,y_test,cut_off_prob)"
   ]
  },
  {
   "cell_type": "markdown",
   "metadata": {},
   "source": [
    "#### Summary of Logistic Regression with Hyperparameter.\n",
    "- Accuracy : The model shows a train accuracy 84% and test accuracy of 83% (observe 1% inc. due to regularization), which shows the model is good.\n",
    "- AUC : The AUC score is 83, inc of 1% due to regularization\n",
    "- Recall : 83% with default predictions, it can further be increased to 86% by reducing threshold to 0.45."
   ]
  },
  {
   "cell_type": "code",
   "execution_count": 68,
   "metadata": {},
   "outputs": [
    {
     "name": "stdout",
     "output_type": "stream",
     "text": [
      "--------------------------------------------------\n",
      "Train Accuracy : 0.84\n",
      "Train Confusion Matrix: [[13771  3159]\n",
      " [ 2275 14655]]\n",
      "[[13771  3159]\n",
      " [ 2275 14655]]\n",
      "--------------------------------------------------\n",
      "Test Accuracy : 0.81\n",
      "Test Confusion Matrix:\n",
      "[[5900 1361]\n",
      " [ 113  509]]\n",
      "--------------------------------------------------\n",
      "AUC Score:\n",
      "0.82\n",
      "--------------------------------------------------\n",
      "Precision Score:\n",
      "0.27\n",
      "--------------------------------------------------\n",
      "Recall/Sensitivity Score:\n",
      "0.82\n",
      "--------------------------------------------------\n",
      "F1 Score:\n",
      "0.41\n",
      "--------------------------------------------------\n",
      "Classification Report:\n",
      "              precision    recall  f1-score   support\n",
      "\n",
      "           0       0.98      0.81      0.89      7261\n",
      "           1       0.27      0.82      0.41       622\n",
      "\n",
      "    accuracy                           0.81      7883\n",
      "   macro avg       0.63      0.82      0.65      7883\n",
      "weighted avg       0.93      0.81      0.85      7883\n",
      "\n"
     ]
    },
    {
     "data": {
      "image/png": "[encoded data removed]",
      "text/plain": [
       "<Figure size 432x432 with 1 Axes>"
      ]
     },
     "metadata": {
      "needs_background": "light"
     },
     "output_type": "display_data"
    },
    {
     "name": "stdout",
     "output_type": "stream",
     "text": [
      "Roc_auc_score : 0.839515652687537\n",
      "Sensitivity/Recall : 0.8656231541642055\n",
      "Specificity: 0.8134081512108683\n",
      "False Positive Rate: 0.1865918487891317\n",
      "Positive predictive value: 0.8226675648366454\n",
      "Negative Predictive value: 0.8582201171631559\n",
      "sklearn precision score value: 0.8226675648366454\n",
      "      prob  accuracy  sensi  speci\n",
      "0.00  0.00      0.50   1.00   0.00\n",
      "0.10  0.10      0.73   0.98   0.48\n",
      "0.20  0.20      0.78   0.96   0.60\n",
      "0.30  0.30      0.81   0.93   0.69\n",
      "0.40  0.40      0.83   0.90   0.76\n",
      "0.50  0.50      0.84   0.87   0.81\n",
      "0.60  0.60      0.84   0.82   0.86\n",
      "0.70  0.70      0.83   0.75   0.91\n",
      "0.80  0.80      0.80   0.66   0.95\n",
      "0.90  0.90      0.64   0.30   0.99\n"
     ]
    },
    {
     "data": {
      "image/png": "[encoded data removed]",
      "text/plain": [
       "<Figure size 432x288 with 1 Axes>"
      ]
     },
     "metadata": {
      "needs_background": "light"
     },
     "output_type": "display_data"
    },
    {
     "name": "stdout",
     "output_type": "stream",
     "text": [
      "Train Metrics with probability: 0.5\n",
      "Roc_auc_score : 0.839515652687537\n",
      "Sensitivity/Recall : 0.8656231541642055\n",
      "Specificity: 0.8134081512108683\n",
      "False Positive Rate: 0.1865918487891317\n",
      "Positive predictive value: 0.8226675648366454\n",
      "Negative Predictive value: 0.8582201171631559\n",
      "sklearn precision score value: 0.8226675648366454\n",
      "--------------------------------------------------\n",
      "Test Metrics with probability: 0.45\n",
      "Roc_auc_score : 0.812030731950769\n",
      "Sensitivity/Recall : 0.8408360128617364\n",
      "Specificity: 0.7832254510398017\n",
      "False Positive Rate: 0.21677454896019832\n",
      "Positive predictive value: 0.24940391034811635\n",
      "Negative Predictive value: 0.9828897338403042\n",
      "sklearn precision score value: 0.24940391034811635\n"
     ]
    }
   ],
   "source": [
    "# Logistic Regression with RFE - Here I'm checking if there is improvement in metrics without PCA. \n",
    "\n",
    "from sklearn.feature_selection import RFE\n",
    "logit_rfe = LogisticRegression(random_state=100, C=0.1)\n",
    "rfe = RFE(logit_rfe, 20)\n",
    "rfe = rfe.fit(X_train, y_train)\n",
    "rfe_cols = X_train.columns[rfe.support_]\n",
    "X_train_rfe = X_train[rfe_cols]\n",
    "X_test_rfe = X_test[rfe_cols]\n",
    "model_rfe = logit_rfe.fit(X_train_rfe, y_train)\n",
    "get_model_metrics_using_predict(\"Logistic Regression - RFE\", model_rfe, X_train_rfe, X_test_rfe, y_train, y_test)\n",
    "cut_off_prob = 0.5\n",
    "y_train_df = predictChurnWithProb(model_rfe,X_train_rfe,y_train,cut_off_prob)\n",
    "# finding cut-off with the right balance of the metrices\n",
    "findOptimalCutoff(y_train_df)\n",
    "# predicting churn with cut-off 0.5\n",
    "cut_off_prob=0.5\n",
    "print(\"Train Metrics with probability: {0}\".format(cut_off_prob))\n",
    "y_train_df = predictChurnWithProb(model_rfe,X_train_rfe,y_train,cut_off_prob)\n",
    "cut_off_prob=0.45\n",
    "print(\"-\"*50)\n",
    "print(\"Test Metrics with probability: {0}\".format(cut_off_prob))\n",
    "y_test_df= predictChurnWithProb(model_rfe,X_test_rfe,y_test,cut_off_prob)"
   ]
  },
  {
   "cell_type": "markdown",
   "metadata": {},
   "source": [
    "#### Summary for Logistic Regression with RFE (Recursive Feature Elimination)\n",
    "Accuracy : The model shows a train accuracy 84% and test accuracy of 81%, which shows the model is good and shows no overfitting. But the accuracy scores are less than Decision Tree, but same as Logistic Regression with PCA.\n",
    "AUC : The AUC score is 82% which is almost same as Logistic Regression with PCA.\n",
    "Recall : The recall is 82% with default predictions.\n",
    "Overall Logistic Regression with RFE performs almost as same as of Logistic Regression with PCA (4% less in recall) but the number of features are just 20 which is a key improvement for this model"
   ]
  },
  {
   "cell_type": "markdown",
   "metadata": {},
   "source": [
    "### Decision Tree"
   ]
  },
  {
   "cell_type": "code",
   "execution_count": 70,
   "metadata": {},
   "outputs": [
    {
     "name": "stdout",
     "output_type": "stream",
     "text": [
      "--------------------------------------------------\n",
      "Train Accuracy : 0.79\n",
      "Train Confusion Matrix: [[13155  3775]\n",
      " [ 3294 13636]]\n",
      "[[13155  3775]\n",
      " [ 3294 13636]]\n",
      "--------------------------------------------------\n",
      "Test Accuracy : 0.78\n",
      "Test Confusion Matrix:\n",
      "[[5663 1598]\n",
      " [ 175  447]]\n",
      "--------------------------------------------------\n",
      "AUC Score:\n",
      "0.75\n",
      "--------------------------------------------------\n",
      "Precision Score:\n",
      "0.22\n",
      "--------------------------------------------------\n",
      "Recall/Sensitivity Score:\n",
      "0.72\n",
      "--------------------------------------------------\n",
      "F1 Score:\n",
      "0.34\n",
      "--------------------------------------------------\n",
      "Classification Report:\n",
      "              precision    recall  f1-score   support\n",
      "\n",
      "           0       0.97      0.78      0.86      7261\n",
      "           1       0.22      0.72      0.34       622\n",
      "\n",
      "    accuracy                           0.78      7883\n",
      "   macro avg       0.59      0.75      0.60      7883\n",
      "weighted avg       0.91      0.78      0.82      7883\n",
      "\n"
     ]
    },
    {
     "data": {
      "image/png": "[encoded data removed]",
      "text/plain": [
       "<Figure size 432x432 with 1 Axes>"
      ]
     },
     "metadata": {
      "needs_background": "light"
     },
     "output_type": "display_data"
    }
   ],
   "source": [
    "# Simple Decision Tree\n",
    "dt = DecisionTreeClassifier(class_weight='balanced',\n",
    "                             max_features='auto',\n",
    "                             max_depth=6,\n",
    "                             min_samples_split=100,\n",
    "                             min_samples_leaf=100)\n",
    "dt.fit(X_train_pca, y_train)\n",
    "get_model_metrics_using_predict(\"Decision Tree\", dt, X_train_pca, X_test_pca, y_train, y_test)"
   ]
  },
  {
   "cell_type": "code",
   "execution_count": 71,
   "metadata": {},
   "outputs": [
    {
     "name": "stdout",
     "output_type": "stream",
     "text": [
      "Fitting 3 folds for each of 96 candidates, totalling 288 fits\n"
     ]
    },
    {
     "name": "stderr",
     "output_type": "stream",
     "text": [
      "[Parallel(n_jobs=-1)]: Using backend LokyBackend with 8 concurrent workers.\n",
      "[Parallel(n_jobs=-1)]: Done  34 tasks      | elapsed:    5.0s\n",
      "[Parallel(n_jobs=-1)]: Done 184 tasks      | elapsed:   36.6s\n",
      "[Parallel(n_jobs=-1)]: Done 288 out of 288 | elapsed:  1.3min finished\n"
     ]
    },
    {
     "data": {
      "text/plain": [
       "GridSearchCV(cv=3,\n",
       "             estimator=DecisionTreeClassifier(class_weight='balanced',\n",
       "                                              random_state=10),\n",
       "             n_jobs=-1,\n",
       "             param_grid={'criterion': ['gini', 'entropy'],\n",
       "                         'max_depth': range(5, 15, 3),\n",
       "                         'min_samples_leaf': range(25, 175, 25),\n",
       "                         'min_samples_split': range(50, 150, 50)},\n",
       "             return_train_score=True, scoring='recall', verbose=1)"
      ]
     },
     "execution_count": 71,
     "metadata": {},
     "output_type": "execute_result"
    }
   ],
   "source": [
    "# Compute intensive\n",
    "\n",
    "# Decision Tree with Hyper Parameters\n",
    "\n",
    "# parameters to build the model on\n",
    "params = {\n",
    "    'max_depth': range(5, 15, 3),\n",
    "    'min_samples_leaf': range(25, 175, 25),\n",
    "    'min_samples_split': range(50, 150, 50),\n",
    "    'criterion': [\"gini\", \"entropy\"]\n",
    "}\n",
    "\n",
    "# instantiate the model\n",
    "dt = DecisionTreeClassifier(class_weight='balanced',random_state=10)\n",
    "grid_search_dt = GridSearchCV(dt, params, cv=3, n_jobs=-1, scoring=\"recall\", return_train_score=True,verbose=1)\n",
    "grid_search_dt.fit(X_train_pca, y_train)"
   ]
  },
  {
   "cell_type": "code",
   "execution_count": 72,
   "metadata": {},
   "outputs": [
    {
     "name": "stdout",
     "output_type": "stream",
     "text": [
      "DecisionTreeClassifier(class_weight='balanced', criterion='entropy',\n",
      "                       max_depth=14, min_samples_leaf=25, min_samples_split=50,\n",
      "                       random_state=10)\n"
     ]
    }
   ],
   "source": [
    "# grid search results\n",
    "score = grid_search_dt.cv_results_\n",
    "pd.DataFrame(score).nlargest(5,\"mean_test_score\")\n",
    "print(grid_search_dt.best_estimator_)"
   ]
  },
  {
   "cell_type": "code",
   "execution_count": 73,
   "metadata": {},
   "outputs": [
    {
     "data": {
      "text/plain": [
       "DecisionTreeClassifier(class_weight='balanced', criterion='entropy',\n",
       "                       max_depth=14, min_samples_leaf=25, min_samples_split=50,\n",
       "                       random_state=10)"
      ]
     },
     "execution_count": 73,
     "metadata": {},
     "output_type": "execute_result"
    }
   ],
   "source": [
    "# using the best fit parameters\n",
    "dt_best = DecisionTreeClassifier(class_weight='balanced', criterion='entropy',\n",
    "                                max_depth=14, min_samples_leaf=25,\n",
    "                                min_samples_split=50,random_state=10)\n",
    "dt_best.fit(X_train_pca, y_train)\n"
   ]
  },
  {
   "cell_type": "code",
   "execution_count": 74,
   "metadata": {},
   "outputs": [
    {
     "name": "stdout",
     "output_type": "stream",
     "text": [
      "--------------------------------------------------\n",
      "Train Accuracy : 0.91\n",
      "Train Confusion Matrix: [[15209  1721]\n",
      " [ 1360 15570]]\n",
      "[[15209  1721]\n",
      " [ 1360 15570]]\n",
      "--------------------------------------------------\n",
      "Test Accuracy : 0.84\n",
      "Test Confusion Matrix:\n",
      "[[6199 1062]\n",
      " [ 207  415]]\n",
      "--------------------------------------------------\n",
      "AUC Score:\n",
      "0.76\n",
      "--------------------------------------------------\n",
      "Precision Score:\n",
      "0.28\n",
      "--------------------------------------------------\n",
      "Recall/Sensitivity Score:\n",
      "0.67\n",
      "--------------------------------------------------\n",
      "F1 Score:\n",
      "0.4\n",
      "--------------------------------------------------\n",
      "Classification Report:\n",
      "              precision    recall  f1-score   support\n",
      "\n",
      "           0       0.97      0.85      0.91      7261\n",
      "           1       0.28      0.67      0.40       622\n",
      "\n",
      "    accuracy                           0.84      7883\n",
      "   macro avg       0.62      0.76      0.65      7883\n",
      "weighted avg       0.91      0.84      0.87      7883\n",
      "\n"
     ]
    },
    {
     "data": {
      "image/png": "[encoded data removed]",
      "text/plain": [
       "<Figure size 432x432 with 1 Axes>"
      ]
     },
     "metadata": {
      "needs_background": "light"
     },
     "output_type": "display_data"
    },
    {
     "name": "stdout",
     "output_type": "stream",
     "text": [
      "Roc_auc_score : 0.9090076786769049\n",
      "Sensitivity/Recall : 0.919669226225635\n",
      "Specificity: 0.8983461311281749\n",
      "False Positive Rate: 0.10165386887182516\n",
      "Positive predictive value: 0.9004684517957319\n",
      "Negative Predictive value: 0.9179190053714769\n",
      "sklearn precision score value: 0.9004684517957319\n",
      "      prob  accuracy  sensi  speci\n",
      "0.00  0.00      0.82   1.00   0.63\n",
      "0.10  0.10      0.86   1.00   0.72\n",
      "0.20  0.20      0.88   0.98   0.78\n",
      "0.30  0.30      0.90   0.97   0.82\n",
      "0.40  0.40      0.91   0.94   0.87\n",
      "0.50  0.50      0.91   0.92   0.90\n",
      "0.60  0.60      0.91   0.89   0.92\n",
      "0.70  0.70      0.89   0.84   0.95\n",
      "0.80  0.80      0.86   0.75   0.98\n",
      "0.90  0.90      0.82   0.65   0.99\n"
     ]
    },
    {
     "data": {
      "image/png": "[encoded data removed]",
      "text/plain": [
       "<Figure size 432x288 with 1 Axes>"
      ]
     },
     "metadata": {
      "needs_background": "light"
     },
     "output_type": "display_data"
    },
    {
     "name": "stdout",
     "output_type": "stream",
     "text": [
      "Train Metrics with probability: 0.5\n",
      "Roc_auc_score : 0.9090076786769049\n",
      "Sensitivity/Recall : 0.919669226225635\n",
      "Specificity: 0.8983461311281749\n",
      "False Positive Rate: 0.10165386887182516\n",
      "Positive predictive value: 0.9004684517957319\n",
      "Negative Predictive value: 0.9179190053714769\n",
      "sklearn precision score value: 0.9004684517957319\n",
      "--------------------------------------------------\n",
      "Test Metrics with probability: 0.45\n",
      "Roc_auc_score : 0.7609108211911321\n",
      "Sensitivity/Recall : 0.680064308681672\n",
      "Specificity: 0.8417573337005922\n",
      "False Positive Rate: 0.1582426662994078\n",
      "Positive predictive value: 0.26908396946564883\n",
      "Negative Predictive value: 0.9684677547139915\n",
      "sklearn precision score value: 0.26908396946564883\n"
     ]
    }
   ],
   "source": [
    "get_model_metrics_using_predict(\"Decision Tree - HyperParameters\", dt_best, X_train_pca, X_test_pca, y_train, y_test)\n",
    "cut_off_prob = 0.5\n",
    "y_train_df = predictChurnWithProb(dt_best,X_train_pca,y_train,cut_off_prob)\n",
    "# finding cut-off with the right balance of the metrices\n",
    "findOptimalCutoff(y_train_df)\n",
    "# predicting churn with cut-off 0.5\n",
    "cut_off_prob=0.5\n",
    "print(\"Train Metrics with probability: {0}\".format(cut_off_prob))\n",
    "y_train_df = predictChurnWithProb(dt_best,X_train_pca,y_train,cut_off_prob)\n",
    "print(\"-\"*50)\n",
    "cut_off_prob=0.45\n",
    "print(\"Test Metrics with probability: {0}\".format(cut_off_prob))\n",
    "y_test_df= predictChurnWithProb(dt_best,X_test_pca,y_test,cut_off_prob)"
   ]
  },
  {
   "cell_type": "markdown",
   "metadata": {},
   "source": [
    "#### Summary for Decision Tree\n",
    "Accuracy : The model shows a train accuracy 91% and test accuracy of 84%, which shows the model is good and shows no overfiting.\n",
    "AUC : The AUC score is 76% which is lesser than Logistic Regression\n",
    "Recall : The recall is 67% with default predictions, it stays at 68 with reduced threshold.\n",
    "Decision tree seems performing better than logistic regression in terms of test accuracy only but since recall is critical metric for this problem and there is a drop this model cannot be considered compared to logistic regression."
   ]
  },
  {
   "cell_type": "markdown",
   "metadata": {},
   "source": [
    "#### Random Forest"
   ]
  },
  {
   "cell_type": "code",
   "execution_count": 75,
   "metadata": {},
   "outputs": [
    {
     "name": "stdout",
     "output_type": "stream",
     "text": [
      "--------------------------------------------------\n",
      "Train Accuracy : 1.0\n",
      "Train Confusion Matrix: [[16930     0]\n",
      " [    0 16930]]\n",
      "[[16930     0]\n",
      " [    0 16930]]\n",
      "--------------------------------------------------\n",
      "Test Accuracy : 0.92\n",
      "Test Confusion Matrix:\n",
      "[[6870  391]\n",
      " [ 263  359]]\n",
      "--------------------------------------------------\n",
      "AUC Score:\n",
      "0.76\n",
      "--------------------------------------------------\n",
      "Precision Score:\n",
      "0.48\n",
      "--------------------------------------------------\n",
      "Recall/Sensitivity Score:\n",
      "0.58\n",
      "--------------------------------------------------\n",
      "F1 Score:\n",
      "0.52\n",
      "--------------------------------------------------\n",
      "Classification Report:\n",
      "              precision    recall  f1-score   support\n",
      "\n",
      "           0       0.96      0.95      0.95      7261\n",
      "           1       0.48      0.58      0.52       622\n",
      "\n",
      "    accuracy                           0.92      7883\n",
      "   macro avg       0.72      0.76      0.74      7883\n",
      "weighted avg       0.92      0.92      0.92      7883\n",
      "\n"
     ]
    },
    {
     "data": {
      "image/png": "[encoded data removed]",
      "text/plain": [
       "<Figure size 432x432 with 1 Axes>"
      ]
     },
     "metadata": {
      "needs_background": "light"
     },
     "output_type": "display_data"
    },
    {
     "name": "stdout",
     "output_type": "stream",
     "text": [
      "Roc_auc_score : 1.0\n",
      "Sensitivity/Recall : 1.0\n",
      "Specificity: 1.0\n",
      "False Positive Rate: 0.0\n",
      "Positive predictive value: 1.0\n",
      "Negative Predictive value: 1.0\n",
      "sklearn precision score value: 1.0\n",
      "      prob  accuracy  sensi  speci\n",
      "0.00  0.00      0.55   1.00   0.09\n",
      "0.10  0.10      0.92   1.00   0.84\n",
      "0.20  0.20      0.98   1.00   0.95\n",
      "0.30  0.30      0.99   1.00   0.99\n",
      "0.40  0.40      1.00   1.00   1.00\n",
      "0.50  0.50      1.00   1.00   1.00\n",
      "0.60  0.60      1.00   1.00   1.00\n",
      "0.70  0.70      1.00   1.00   1.00\n",
      "0.80  0.80      0.99   0.97   1.00\n",
      "0.90  0.90      0.93   0.85   1.00\n"
     ]
    },
    {
     "data": {
      "image/png": "[encoded data removed]",
      "text/plain": [
       "<Figure size 432x288 with 1 Axes>"
      ]
     },
     "metadata": {
      "needs_background": "light"
     },
     "output_type": "display_data"
    },
    {
     "name": "stdout",
     "output_type": "stream",
     "text": [
      "Train Metrics with probability: 0.5\n",
      "Roc_auc_score : 1.0\n",
      "Sensitivity/Recall : 1.0\n",
      "Specificity: 1.0\n",
      "False Positive Rate: 0.0\n",
      "Positive predictive value: 1.0\n",
      "Negative Predictive value: 1.0\n",
      "sklearn precision score value: 1.0\n",
      "--------------------------------------------------\n",
      "Test Metrics with probability: 0.58\n",
      "Roc_auc_score : 0.7400897673382574\n",
      "Sensitivity/Recall : 0.5192926045016077\n",
      "Specificity: 0.960886930174907\n",
      "False Positive Rate: 0.03911306982509296\n",
      "Positive predictive value: 0.5321252059308073\n",
      "Negative Predictive value: 0.9589059923034634\n",
      "sklearn precision score value: 0.5321252059308073\n"
     ]
    }
   ],
   "source": [
    "rf = RandomForestClassifier(random_state=42, max_depth=40, bootstrap=True, n_jobs = -1)\n",
    "rf.fit(X_train_pca, y_train)\n",
    "get_model_metrics_using_predict(\"Random Forest\", rf, X_train_pca, X_test_pca, y_train, y_test)\n",
    "cut_off_prob = 0.5\n",
    "y_train_df = predictChurnWithProb(rf,X_train_pca,y_train,cut_off_prob)\n",
    "# finding cut-off with the right balance of the metrices\n",
    "findOptimalCutoff(y_train_df)\n",
    "# predicting churn with cut-off 0.5\n",
    "cut_off_prob=0.5\n",
    "print(\"Train Metrics with probability: {0}\".format(cut_off_prob))\n",
    "y_train_df = predictChurnWithProb(rf,X_train_pca,y_train,cut_off_prob)\n",
    "cut_off_prob=0.58\n",
    "print(\"-\"*50)\n",
    "print(\"Test Metrics with probability: {0}\".format(cut_off_prob))\n",
    "y_test_df= predictChurnWithProb(rf,X_test_pca,y_test,cut_off_prob)"
   ]
  },
  {
   "cell_type": "code",
   "execution_count": 76,
   "metadata": {},
   "outputs": [
    {
     "name": "stdout",
     "output_type": "stream",
     "text": [
      "--------------------------------------------------\n",
      "Train Accuracy : 0.88\n",
      "Train Confusion Matrix: [[15129  1801]\n",
      " [ 2306 14624]]\n",
      "[[15129  1801]\n",
      " [ 2306 14624]]\n",
      "--------------------------------------------------\n",
      "Test Accuracy : 0.87\n",
      "Test Confusion Matrix:\n",
      "[[6422  839]\n",
      " [ 157  465]]\n",
      "--------------------------------------------------\n",
      "AUC Score:\n",
      "0.82\n",
      "--------------------------------------------------\n",
      "Precision Score:\n",
      "0.36\n",
      "--------------------------------------------------\n",
      "Recall/Sensitivity Score:\n",
      "0.75\n",
      "--------------------------------------------------\n",
      "F1 Score:\n",
      "0.48\n",
      "--------------------------------------------------\n",
      "Classification Report:\n",
      "              precision    recall  f1-score   support\n",
      "\n",
      "           0       0.98      0.88      0.93      7261\n",
      "           1       0.36      0.75      0.48       622\n",
      "\n",
      "    accuracy                           0.87      7883\n",
      "   macro avg       0.67      0.82      0.71      7883\n",
      "weighted avg       0.93      0.87      0.89      7883\n",
      "\n"
     ]
    },
    {
     "data": {
      "image/png": "[encoded data removed]",
      "text/plain": [
       "<Figure size 432x432 with 1 Axes>"
      ]
     },
     "metadata": {
      "needs_background": "light"
     },
     "output_type": "display_data"
    },
    {
     "name": "stdout",
     "output_type": "stream",
     "text": [
      "Roc_auc_score : 0.878706438275251\n",
      "Sensitivity/Recall : 0.8637920850561134\n",
      "Specificity: 0.8936207914943887\n",
      "False Positive Rate: 0.10637920850561135\n",
      "Positive predictive value: 0.8903500761035008\n",
      "Negative Predictive value: 0.8677373100086034\n",
      "sklearn precision score value: 0.8903500761035008\n",
      "      prob  accuracy  sensi  speci\n",
      "0.00  0.00      0.50   1.00   0.00\n",
      "0.10  0.10      0.66   1.00   0.32\n",
      "0.20  0.20      0.79   0.99   0.59\n",
      "0.30  0.30      0.85   0.96   0.74\n",
      "0.40  0.40      0.88   0.92   0.83\n",
      "0.50  0.50      0.88   0.86   0.89\n",
      "0.60  0.60      0.86   0.78   0.93\n",
      "0.70  0.70      0.82   0.69   0.96\n",
      "0.80  0.80      0.78   0.58   0.98\n",
      "0.90  0.90      0.70   0.41   0.99\n"
     ]
    },
    {
     "data": {
      "image/png": "[encoded data removed]",
      "text/plain": [
       "<Figure size 432x288 with 1 Axes>"
      ]
     },
     "metadata": {
      "needs_background": "light"
     },
     "output_type": "display_data"
    },
    {
     "name": "stdout",
     "output_type": "stream",
     "text": [
      "Train Metrics with probability: 0.5\n",
      "Roc_auc_score : 0.878706438275251\n",
      "Sensitivity/Recall : 0.8637920850561134\n",
      "Specificity: 0.8936207914943887\n",
      "False Positive Rate: 0.10637920850561135\n",
      "Positive predictive value: 0.8903500761035008\n",
      "Negative Predictive value: 0.8677373100086034\n",
      "sklearn precision score value: 0.8903500761035008\n",
      "--------------------------------------------------\n",
      "Test Metrics with probability: 0.45\n",
      "Roc_auc_score : 0.8209893094898482\n",
      "Sensitivity/Recall : 0.7861736334405145\n",
      "Specificity: 0.8558049855391819\n",
      "False Positive Rate: 0.14419501446081806\n",
      "Positive predictive value: 0.318359375\n",
      "Negative Predictive value: 0.9790452182133291\n",
      "sklearn precision score value: 0.318359375\n"
     ]
    }
   ],
   "source": [
    "# using the best fit parameters\n",
    "rfc_best = RandomForestClassifier(random_state=42, max_depth=40, bootstrap=True, min_samples_leaf=100, \n",
    "                                  min_samples_split=200,\n",
    "                                  max_features=20,\n",
    "                                  n_estimators=100,\n",
    "                                  oob_score = True, n_jobs = -1)\n",
    "rfc_best.fit(X_train_pca, y_train)\n",
    "get_model_metrics_using_predict(\"Random Forest - HyperParameter\", rfc_best, X_train_pca, X_test_pca, y_train, y_test)\n",
    "cut_off_prob = 0.5\n",
    "y_train_df = predictChurnWithProb(rfc_best,X_train_pca,y_train,cut_off_prob)\n",
    "# finding cut-off with the right balance of the metrices\n",
    "findOptimalCutoff(y_train_df)\n",
    "# predicting churn with cut-off 0.5\n",
    "cut_off_prob=0.5\n",
    "print(\"Train Metrics with probability: {0}\".format(cut_off_prob))\n",
    "y_train_df = predictChurnWithProb(rfc_best,X_train_pca,y_train,cut_off_prob)\n",
    "cut_off_prob=0.45\n",
    "print(\"-\"*50)\n",
    "print(\"Test Metrics with probability: {0}\".format(cut_off_prob))\n",
    "y_test_df= predictChurnWithProb(rfc_best,X_test_pca,y_test,cut_off_prob)"
   ]
  },
  {
   "cell_type": "markdown",
   "metadata": {},
   "source": [
    "Summary for Random Forest\n",
    "- Accuracy : The model shows a train accuracy 88% and test accuracy of 87%, which shows the model is better in terms of accuracy compared to logistic regression.\n",
    "- AUC : The AUC score is 82% which is better than Logistic Regression\n",
    "- Recall : The recall is 75% which is lesser than logistic regression, with 0.45 as the cut off threshold the recall can be increased to 78%.\n",
    "Overall Random Forest does not provide impressive results than Logistic Regression with RFE"
   ]
  },
  {
   "cell_type": "markdown",
   "metadata": {},
   "source": [
    "### XGboost"
   ]
  },
  {
   "cell_type": "code",
   "execution_count": 77,
   "metadata": {},
   "outputs": [
    {
     "name": "stdout",
     "output_type": "stream",
     "text": [
      "--------------------------------------------------\n",
      "Train Accuracy : 0.86\n",
      "Train Confusion Matrix: [[14737  2193]\n",
      " [ 2579 14351]]\n",
      "[[14737  2193]\n",
      " [ 2579 14351]]\n",
      "--------------------------------------------------\n",
      "Test Accuracy : 0.86\n",
      "Test Confusion Matrix:\n",
      "[[6281  980]\n",
      " [ 152  470]]\n",
      "--------------------------------------------------\n",
      "AUC Score:\n",
      "0.81\n",
      "--------------------------------------------------\n",
      "Precision Score:\n",
      "0.32\n",
      "--------------------------------------------------\n",
      "Recall/Sensitivity Score:\n",
      "0.76\n",
      "--------------------------------------------------\n",
      "F1 Score:\n",
      "0.45\n",
      "--------------------------------------------------\n",
      "Classification Report:\n",
      "              precision    recall  f1-score   support\n",
      "\n",
      "           0       0.98      0.87      0.92      7261\n",
      "           1       0.32      0.76      0.45       622\n",
      "\n",
      "    accuracy                           0.86      7883\n",
      "   macro avg       0.65      0.81      0.69      7883\n",
      "weighted avg       0.92      0.86      0.88      7883\n",
      "\n"
     ]
    },
    {
     "data": {
      "image/png": "[encoded data removed]",
      "text/plain": [
       "<Figure size 432x432 with 1 Axes>"
      ]
     },
     "metadata": {
      "needs_background": "light"
     },
     "output_type": "display_data"
    },
    {
     "name": "stdout",
     "output_type": "stream",
     "text": [
      "Roc_auc_score : 0.8590667454223273\n",
      "Sensitivity/Recall : 0.8476668635558181\n",
      "Specificity: 0.8704666272888364\n",
      "False Positive Rate: 0.1295333727111636\n",
      "Positive predictive value: 0.8674443907156673\n",
      "Negative Predictive value: 0.851062601062601\n",
      "sklearn precision score value: 0.8674443907156673\n",
      "      prob  accuracy  sensi  speci\n",
      "0.00  0.00      0.50   1.00   0.00\n",
      "0.10  0.10      0.68   0.99   0.36\n",
      "0.20  0.20      0.79   0.97   0.60\n",
      "0.30  0.30      0.83   0.94   0.73\n",
      "0.40  0.40      0.86   0.91   0.81\n",
      "0.50  0.50      0.86   0.85   0.87\n",
      "0.60  0.60      0.85   0.78   0.91\n",
      "0.70  0.70      0.82   0.70   0.94\n",
      "0.80  0.80      0.79   0.62   0.96\n",
      "0.90  0.90      0.71   0.44   0.98\n"
     ]
    },
    {
     "data": {
      "image/png": "[encoded data removed]",
      "text/plain": [
       "<Figure size 432x288 with 1 Axes>"
      ]
     },
     "metadata": {
      "needs_background": "light"
     },
     "output_type": "display_data"
    },
    {
     "name": "stdout",
     "output_type": "stream",
     "text": [
      "Train Metrics with probability: 0.5\n",
      "Roc_auc_score : 0.8590667454223273\n",
      "Sensitivity/Recall : 0.8476668635558181\n",
      "Specificity: 0.8704666272888364\n",
      "False Positive Rate: 0.1295333727111636\n",
      "Positive predictive value: 0.8674443907156673\n",
      "Negative Predictive value: 0.851062601062601\n",
      "sklearn precision score value: 0.8674443907156673\n",
      "--------------------------------------------------\n",
      "Test Metrics with probability: 0.45\n",
      "Roc_auc_score : 0.8161943891760189\n",
      "Sensitivity/Recall : 0.7942122186495176\n",
      "Specificity: 0.8381765597025204\n",
      "False Positive Rate: 0.1618234402974797\n",
      "Positive predictive value: 0.29598562013181545\n",
      "Negative Predictive value: 0.9794013517862891\n",
      "sklearn precision score value: 0.29598562013181545\n"
     ]
    }
   ],
   "source": [
    "# using the best fit parameters\n",
    "import xgboost as xgb\n",
    "xgboost_best = xgb.XGBClassifier(learning_rate=0.2,\n",
    "                                max_depth=3,\n",
    "                                min_child_weight=10,\n",
    "                                n_estimators=30)\n",
    "xgboost_best.fit(X_train_pca, y_train)\n",
    "get_model_metrics_using_predict(\"XGBoost Classifier - HyperParameter\", xgboost_best, X_train_pca, X_test_pca, y_train, y_test)\n",
    "cut_off_prob = 0.5\n",
    "y_train_df = predictChurnWithProb(xgboost_best,X_train_pca,y_train,cut_off_prob)\n",
    "# finding cut-off with the right balance of the metrices\n",
    "findOptimalCutoff(y_train_df)\n",
    "# predicting churn with cut-off 0.5\n",
    "cut_off_prob=0.5\n",
    "print(\"Train Metrics with probability: {0}\".format(cut_off_prob))\n",
    "y_train_df = predictChurnWithProb(xgboost_best,X_train_pca,y_train,cut_off_prob)\n",
    "cut_off_prob=0.45\n",
    "print(\"-\"*50)\n",
    "print(\"Test Metrics with probability: {0}\".format(cut_off_prob))\n",
    "y_test_df= predictChurnWithProb(xgboost_best,X_test_pca,y_test,cut_off_prob)"
   ]
  },
  {
   "cell_type": "markdown",
   "metadata": {},
   "source": [
    "#### Summary of XG Boost With PCA\n",
    "- Accuracy : The model shows a train accuracy 86% and test accuracy of 86%, which shows the model is good.\n",
    "- AUC : The AUC score is 81% which is less than Logistic Regression\n",
    "- Recall : The recall is 76% which is lesser than logistic regression\n",
    "Overall XG Boost does not provide impressive results than Logistic Regression with RFE if AUC and Accuracy are compared and the recall is same."
   ]
  },
  {
   "cell_type": "code",
   "execution_count": 78,
   "metadata": {},
   "outputs": [
    {
     "name": "stdout",
     "output_type": "stream",
     "text": [
      "--------------------------------------------------\n",
      "Train Accuracy : 0.86\n",
      "Train Confusion Matrix: [[14208  2722]\n",
      " [ 1965 14965]]\n",
      "[[14208  2722]\n",
      " [ 1965 14965]]\n",
      "--------------------------------------------------\n",
      "Test Accuracy : 0.83\n",
      "Test Confusion Matrix:\n",
      "[[6087 1174]\n",
      " [ 133  489]]\n",
      "--------------------------------------------------\n",
      "AUC Score:\n",
      "0.81\n",
      "--------------------------------------------------\n",
      "Precision Score:\n",
      "0.29\n",
      "--------------------------------------------------\n",
      "Recall/Sensitivity Score:\n",
      "0.79\n",
      "--------------------------------------------------\n",
      "F1 Score:\n",
      "0.43\n",
      "--------------------------------------------------\n",
      "Classification Report:\n",
      "              precision    recall  f1-score   support\n",
      "\n",
      "           0       0.98      0.84      0.90      7261\n",
      "           1       0.29      0.79      0.43       622\n",
      "\n",
      "    accuracy                           0.83      7883\n",
      "   macro avg       0.64      0.81      0.67      7883\n",
      "weighted avg       0.92      0.83      0.87      7883\n",
      "\n"
     ]
    },
    {
     "data": {
      "image/png": "[encoded data removed]",
      "text/plain": [
       "<Figure size 432x432 with 1 Axes>"
      ]
     },
     "metadata": {
      "needs_background": "light"
     },
     "output_type": "display_data"
    },
    {
     "name": "stdout",
     "output_type": "stream",
     "text": [
      "Roc_auc_score : 0.8615770821027762\n",
      "Sensitivity/Recall : 0.883933845245127\n",
      "Specificity: 0.8392203189604253\n",
      "False Positive Rate: 0.1607796810395747\n",
      "Positive predictive value: 0.8461016565839317\n",
      "Negative Predictive value: 0.8785012057132258\n",
      "sklearn precision score value: 0.8461016565839317\n",
      "      prob  accuracy  sensi  speci\n",
      "0.00  0.00      0.50   1.00   0.00\n",
      "0.10  0.10      0.50   1.00   0.00\n",
      "0.20  0.20      0.50   1.00   0.00\n",
      "0.30  0.30      0.50   1.00   0.00\n",
      "0.40  0.40      0.50   1.00   0.00\n",
      "0.50  0.50      0.86   0.88   0.84\n",
      "0.60  0.60      0.50   0.00   1.00\n",
      "0.70  0.70      0.50   0.00   1.00\n",
      "0.80  0.80      0.50   0.00   1.00\n",
      "0.90  0.90      0.50   0.00   1.00\n"
     ]
    },
    {
     "data": {
      "image/png": "[encoded data removed]",
      "text/plain": [
       "<Figure size 432x288 with 1 Axes>"
      ]
     },
     "metadata": {
      "needs_background": "light"
     },
     "output_type": "display_data"
    },
    {
     "name": "stdout",
     "output_type": "stream",
     "text": [
      "Train Metrics with probability: 0.5\n",
      "Roc_auc_score : 0.8615770821027762\n",
      "Sensitivity/Recall : 0.883933845245127\n",
      "Specificity: 0.8392203189604253\n",
      "False Positive Rate: 0.1607796810395747\n",
      "Positive predictive value: 0.8461016565839317\n",
      "Negative Predictive value: 0.8785012057132258\n",
      "sklearn precision score value: 0.8461016565839317\n",
      "--------------------------------------------------\n",
      "Test Metrics with probability: 0.5\n",
      "Roc_auc_score : 0.8122439576099418\n",
      "Sensitivity/Recall : 0.7861736334405145\n",
      "Specificity: 0.8383142817793693\n",
      "False Positive Rate: 0.16168571822063077\n",
      "Positive predictive value: 0.29404690318701143\n",
      "Negative Predictive value: 0.9786173633440515\n",
      "sklearn precision score value: 0.29404690318701143\n"
     ]
    }
   ],
   "source": [
    "## XG Boost without PCA\n",
    "xgboost_withoutpca = xgb.XGBClassifier(learning_rate=0.001,\n",
    "                                max_depth=3,\n",
    "                                min_child_weight=15,\n",
    "                                n_estimators=20)\n",
    "xgboost_withoutpca.fit(X_train_ns, y_train)\n",
    "get_model_metrics_using_predict(\"XGBoost Classifier - HyperParameter - Without PCA\", xgboost_withoutpca, X_train_ns, X_test_ns,\n",
    "                                y_train, y_test)\n",
    "cut_off_prob = 0.5\n",
    "y_train_df = predictChurnWithProb(xgboost_withoutpca,X_train_ns,y_train,cut_off_prob)\n",
    "# finding cut-off with the right balance of the metrices\n",
    "findOptimalCutoff(y_train_df)\n",
    "# predicting churn with cut-off 0.5\n",
    "cut_off_prob=0.5\n",
    "print(\"Train Metrics with probability: {0}\".format(cut_off_prob))\n",
    "y_train_df = predictChurnWithProb(xgboost_withoutpca,X_train_ns,y_train,cut_off_prob)\n",
    "cut_off_prob=0.5\n",
    "print(\"-\"*50)\n",
    "print(\"Test Metrics with probability: {0}\".format(cut_off_prob))\n",
    "y_test_df= predictChurnWithProb(xgboost_withoutpca,X_test_ns,y_test,cut_off_prob)"
   ]
  },
  {
   "cell_type": "markdown",
   "metadata": {},
   "source": [
    "Summary of XG Boost Without PCA & Scaling, because XGBoost does not need scaling\n",
    "- Accuracy : The model shows a train accuracy 86% and test accuracy of 83%, which shows the model is better without PCA\n",
    "- AUC : The AUC score is 81% which is almost same as Logistic Regression and better than XGBoost with PCA\n",
    "- Recall : The recall is 79% which is same as of logistic regression\n",
    "Overall XG Boost without PCA provide impressive results than with PCA"
   ]
  },
  {
   "cell_type": "markdown",
   "metadata": {},
   "source": [
    "### SVM"
   ]
  },
  {
   "cell_type": "code",
   "execution_count": 79,
   "metadata": {},
   "outputs": [],
   "source": [
    "# instantiate an object of class SVC()\n",
    "# note that we are using cost C=1\n",
    "svm0 = SVC(C = 1)"
   ]
  },
  {
   "cell_type": "code",
   "execution_count": 80,
   "metadata": {},
   "outputs": [
    {
     "name": "stdout",
     "output_type": "stream",
     "text": [
      "Roc_auc_score : 0.9240696987595983\n",
      "Sensitivity/Recall : 0.9459539279385706\n",
      "Specificity: 0.9021854695806261\n",
      "False Positive Rate: 0.0978145304193739\n",
      "Positive predictive value: 0.9062871371173109\n",
      "Negative Predictive value: 0.9434801408363703\n",
      "sklearn precision score value: 0.9062871371173109\n"
     ]
    }
   ],
   "source": [
    "svm0.fit(X_train_pca, y_train)\n",
    "\n",
    "# predict on train\n",
    "y_pred = svm0.predict(X_train_pca)\n",
    "getModelMetrics(y_train,y_pred)"
   ]
  },
  {
   "cell_type": "code",
   "execution_count": 81,
   "metadata": {},
   "outputs": [
    {
     "name": "stdout",
     "output_type": "stream",
     "text": [
      "Roc_auc_score : 0.8167519200273142\n",
      "Sensitivity/Recall : 0.7395498392282959\n",
      "Specificity: 0.8939540008263325\n",
      "False Positive Rate: 0.10604599917366754\n",
      "Positive predictive value: 0.37398373983739835\n",
      "Negative Predictive value: 0.9756500826694724\n",
      "sklearn precision score value: 0.37398373983739835\n"
     ]
    }
   ],
   "source": [
    "# Predict on test\n",
    "y_pred = svm0.predict(X_test_pca)\n",
    "getModelMetrics(y_test,y_pred)"
   ]
  },
  {
   "cell_type": "code",
   "execution_count": 82,
   "metadata": {},
   "outputs": [
    {
     "name": "stdout",
     "output_type": "stream",
     "text": [
      "Fitting 5 folds for each of 5 candidates, totalling 25 fits\n"
     ]
    },
    {
     "name": "stderr",
     "output_type": "stream",
     "text": [
      "[Parallel(n_jobs=4)]: Using backend LokyBackend with 4 concurrent workers.\n",
      "[Parallel(n_jobs=4)]: Done  25 out of  25 | elapsed: 11.3min finished\n"
     ]
    },
    {
     "data": {
      "text/plain": [
       "GridSearchCV(cv=5, estimator=SVC(), n_jobs=4,\n",
       "             param_grid={'C': [0.1, 1, 10, 100, 1000]}, return_train_score=True,\n",
       "             scoring='f1', verbose=1)"
      ]
     },
     "execution_count": 82,
     "metadata": {},
     "output_type": "execute_result"
    }
   ],
   "source": [
    "# Compute intensive - 100 seconds on 32 core machine. \n",
    "\n",
    "# specify range of parameters (C) as a list\n",
    "params = {\"C\": [0.1, 1, 10, 100, 1000]}\n",
    "\n",
    "svm1 = SVC()\n",
    "\n",
    "# set up grid search scheme\n",
    "# note that we are still using the 5 fold CV scheme\n",
    "model_cv = GridSearchCV(estimator = svm1, param_grid = params, \n",
    "                        scoring= 'f1', \n",
    "                        cv = 5, \n",
    "                        verbose = 1,\n",
    "                        n_jobs=4,\n",
    "                       return_train_score=True) \n",
    "model_cv.fit(X_train_pca, y_train)"
   ]
  },
  {
   "cell_type": "code",
   "execution_count": 83,
   "metadata": {},
   "outputs": [
    {
     "name": "stdout",
     "output_type": "stream",
     "text": [
      "--------------------------------------------------\n",
      "Train Accuracy : 0.99\n",
      "Train Confusion Matrix: [[16634   296]\n",
      " [    8 16922]]\n",
      "[[16634   296]\n",
      " [    8 16922]]\n",
      "--------------------------------------------------\n",
      "Test Accuracy : 0.9\n",
      "Test Confusion Matrix:\n",
      "[[6747  514]\n",
      " [ 281  341]]\n",
      "--------------------------------------------------\n",
      "AUC Score:\n",
      "0.74\n",
      "--------------------------------------------------\n",
      "Precision Score:\n",
      "0.4\n",
      "--------------------------------------------------\n",
      "Recall/Sensitivity Score:\n",
      "0.55\n",
      "--------------------------------------------------\n",
      "F1 Score:\n",
      "0.46\n",
      "--------------------------------------------------\n",
      "Classification Report:\n",
      "              precision    recall  f1-score   support\n",
      "\n",
      "           0       0.96      0.93      0.94      7261\n",
      "           1       0.40      0.55      0.46       622\n",
      "\n",
      "    accuracy                           0.90      7883\n",
      "   macro avg       0.68      0.74      0.70      7883\n",
      "weighted avg       0.92      0.90      0.91      7883\n",
      "\n"
     ]
    },
    {
     "data": {
      "image/png": "[encoded data removed]",
      "text/plain": [
       "<Figure size 432x432 with 1 Axes>"
      ]
     },
     "metadata": {
      "needs_background": "light"
     },
     "output_type": "display_data"
    },
    {
     "name": "stdout",
     "output_type": "stream",
     "text": [
      "Roc_auc_score : 0.7387211818768374\n",
      "Sensitivity/Recall : 0.5482315112540193\n",
      "Specificity: 0.9292108524996557\n",
      "False Positive Rate: 0.0707891475003443\n",
      "Positive predictive value: 0.39883040935672515\n",
      "Negative Predictive value: 0.9600170745589073\n",
      "sklearn precision score value: 0.39883040935672515\n"
     ]
    }
   ],
   "source": [
    "svm_final = SVC(C = 1000)\n",
    "# fit\n",
    "svm_final.fit(X_train_pca, y_train)\n",
    "# predict\n",
    "y_pred = svm_final.predict(X_test_pca)\n",
    "get_model_metrics_using_predict(\"SVM Linear\", svm_final, X_train_pca, X_test_pca, y_train, y_test)\n",
    "getModelMetrics(y_test,y_pred)"
   ]
  },
  {
   "cell_type": "code",
   "execution_count": 84,
   "metadata": {},
   "outputs": [
    {
     "name": "stdout",
     "output_type": "stream",
     "text": [
      "--------------------------------------------------\n",
      "Train Accuracy : 0.99\n",
      "Train Confusion Matrix: [[16634   296]\n",
      " [    8 16922]]\n",
      "[[16634   296]\n",
      " [    8 16922]]\n",
      "--------------------------------------------------\n",
      "Test Accuracy : 0.9\n",
      "Test Confusion Matrix:\n",
      "[[6747  514]\n",
      " [ 281  341]]\n",
      "--------------------------------------------------\n",
      "AUC Score:\n",
      "0.74\n",
      "--------------------------------------------------\n",
      "Precision Score:\n",
      "0.4\n",
      "--------------------------------------------------\n",
      "Recall/Sensitivity Score:\n",
      "0.55\n",
      "--------------------------------------------------\n",
      "F1 Score:\n",
      "0.46\n",
      "--------------------------------------------------\n",
      "Classification Report:\n",
      "              precision    recall  f1-score   support\n",
      "\n",
      "           0       0.96      0.93      0.94      7261\n",
      "           1       0.40      0.55      0.46       622\n",
      "\n",
      "    accuracy                           0.90      7883\n",
      "   macro avg       0.68      0.74      0.70      7883\n",
      "weighted avg       0.92      0.90      0.91      7883\n",
      "\n"
     ]
    },
    {
     "data": {
      "image/png": "[encoded data removed]",
      "text/plain": [
       "<Figure size 432x432 with 1 Axes>"
      ]
     },
     "metadata": {
      "needs_background": "light"
     },
     "output_type": "display_data"
    },
    {
     "name": "stdout",
     "output_type": "stream",
     "text": [
      "Roc_auc_score : 0.7387211818768374\n",
      "Sensitivity/Recall : 0.5482315112540193\n",
      "Specificity: 0.9292108524996557\n",
      "False Positive Rate: 0.0707891475003443\n",
      "Positive predictive value: 0.39883040935672515\n",
      "Negative Predictive value: 0.9600170745589073\n",
      "sklearn precision score value: 0.39883040935672515\n"
     ]
    }
   ],
   "source": [
    "svm_k = SVC(C = 1000, kernel='rbf')\n",
    "svm_k.fit(X_train_pca, y_train)\n",
    "y_pred = svm_k.predict(X_test_pca)\n",
    "get_model_metrics_using_predict(\"SVM Non Linear\", svm_k, X_train_pca, X_test_pca, y_train, y_test)\n",
    "getModelMetrics(y_test,y_pred)"
   ]
  },
  {
   "cell_type": "code",
   "execution_count": 85,
   "metadata": {},
   "outputs": [
    {
     "data": {
      "text/html": [
       "<div>\n",
       "<style scoped>\n",
       "    .dataframe tbody tr th:only-of-type {\n",
       "        vertical-align: middle;\n",
       "    }\n",
       "\n",
       "    .dataframe tbody tr th {\n",
       "        vertical-align: top;\n",
       "    }\n",
       "\n",
       "    .dataframe thead th {\n",
       "        text-align: right;\n",
       "    }\n",
       "</style>\n",
       "<table border=\"1\" class=\"dataframe\">\n",
       "  <thead>\n",
       "    <tr style=\"text-align: right;\">\n",
       "      <th></th>\n",
       "      <th>model_name</th>\n",
       "      <th>train_accuracy</th>\n",
       "      <th>test_accuracy</th>\n",
       "      <th>auc</th>\n",
       "      <th>precision</th>\n",
       "      <th>recall</th>\n",
       "      <th>f1</th>\n",
       "      <th>model</th>\n",
       "    </tr>\n",
       "  </thead>\n",
       "  <tbody>\n",
       "    <tr>\n",
       "      <th>0</th>\n",
       "      <td>Logistic Regression</td>\n",
       "      <td>0.84</td>\n",
       "      <td>0.82</td>\n",
       "      <td>0.82</td>\n",
       "      <td>0.29</td>\n",
       "      <td>0.82</td>\n",
       "      <td>0.43</td>\n",
       "      <td>LogisticRegression()</td>\n",
       "    </tr>\n",
       "    <tr>\n",
       "      <th>1</th>\n",
       "      <td>Logistic Regression - HyperParameters</td>\n",
       "      <td>0.84</td>\n",
       "      <td>0.83</td>\n",
       "      <td>0.83</td>\n",
       "      <td>0.29</td>\n",
       "      <td>0.83</td>\n",
       "      <td>0.43</td>\n",
       "      <td>LogisticRegression(C=0.01)</td>\n",
       "    </tr>\n",
       "    <tr>\n",
       "      <th>2</th>\n",
       "      <td>Logistic Regression - RFE</td>\n",
       "      <td>0.84</td>\n",
       "      <td>0.81</td>\n",
       "      <td>0.82</td>\n",
       "      <td>0.27</td>\n",
       "      <td>0.82</td>\n",
       "      <td>0.41</td>\n",
       "      <td>LogisticRegression(C=0.1, random_state=100)</td>\n",
       "    </tr>\n",
       "    <tr>\n",
       "      <th>3</th>\n",
       "      <td>Decision Tree</td>\n",
       "      <td>0.79</td>\n",
       "      <td>0.78</td>\n",
       "      <td>0.75</td>\n",
       "      <td>0.22</td>\n",
       "      <td>0.72</td>\n",
       "      <td>0.34</td>\n",
       "      <td>DecisionTreeClassifier(class_weight='balanced'...</td>\n",
       "    </tr>\n",
       "    <tr>\n",
       "      <th>4</th>\n",
       "      <td>Decision Tree - HyperParameters</td>\n",
       "      <td>0.91</td>\n",
       "      <td>0.84</td>\n",
       "      <td>0.76</td>\n",
       "      <td>0.28</td>\n",
       "      <td>0.67</td>\n",
       "      <td>0.40</td>\n",
       "      <td>DecisionTreeClassifier(class_weight='balanced'...</td>\n",
       "    </tr>\n",
       "    <tr>\n",
       "      <th>5</th>\n",
       "      <td>Random Forest</td>\n",
       "      <td>1.00</td>\n",
       "      <td>0.92</td>\n",
       "      <td>0.76</td>\n",
       "      <td>0.48</td>\n",
       "      <td>0.58</td>\n",
       "      <td>0.52</td>\n",
       "      <td>(DecisionTreeClassifier(max_depth=40, max_feat...</td>\n",
       "    </tr>\n",
       "    <tr>\n",
       "      <th>6</th>\n",
       "      <td>Random Forest - HyperParameter</td>\n",
       "      <td>0.88</td>\n",
       "      <td>0.87</td>\n",
       "      <td>0.82</td>\n",
       "      <td>0.36</td>\n",
       "      <td>0.75</td>\n",
       "      <td>0.48</td>\n",
       "      <td>(DecisionTreeClassifier(max_depth=40, max_feat...</td>\n",
       "    </tr>\n",
       "    <tr>\n",
       "      <th>7</th>\n",
       "      <td>XGBoost Classifier - HyperParameter</td>\n",
       "      <td>0.86</td>\n",
       "      <td>0.86</td>\n",
       "      <td>0.81</td>\n",
       "      <td>0.32</td>\n",
       "      <td>0.76</td>\n",
       "      <td>0.45</td>\n",
       "      <td>XGBClassifier(base_score=0.5, booster='gbtree'...</td>\n",
       "    </tr>\n",
       "    <tr>\n",
       "      <th>8</th>\n",
       "      <td>XGBoost Classifier - HyperParameter - Without PCA</td>\n",
       "      <td>0.86</td>\n",
       "      <td>0.83</td>\n",
       "      <td>0.81</td>\n",
       "      <td>0.29</td>\n",
       "      <td>0.79</td>\n",
       "      <td>0.43</td>\n",
       "      <td>XGBClassifier(base_score=0.5, booster='gbtree'...</td>\n",
       "    </tr>\n",
       "    <tr>\n",
       "      <th>9</th>\n",
       "      <td>SVM Linear</td>\n",
       "      <td>0.99</td>\n",
       "      <td>0.90</td>\n",
       "      <td>0.74</td>\n",
       "      <td>0.40</td>\n",
       "      <td>0.55</td>\n",
       "      <td>0.46</td>\n",
       "      <td>SVC(C=1000)</td>\n",
       "    </tr>\n",
       "    <tr>\n",
       "      <th>10</th>\n",
       "      <td>SVM Non Linear</td>\n",
       "      <td>0.99</td>\n",
       "      <td>0.90</td>\n",
       "      <td>0.74</td>\n",
       "      <td>0.40</td>\n",
       "      <td>0.55</td>\n",
       "      <td>0.46</td>\n",
       "      <td>SVC(C=1000)</td>\n",
       "    </tr>\n",
       "  </tbody>\n",
       "</table>\n",
       "</div>"
      ],
      "text/plain": [
       "                                           model_name  train_accuracy  \\\n",
       "0                                 Logistic Regression            0.84   \n",
       "1               Logistic Regression - HyperParameters            0.84   \n",
       "2                           Logistic Regression - RFE            0.84   \n",
       "3                                       Decision Tree            0.79   \n",
       "4                     Decision Tree - HyperParameters            0.91   \n",
       "5                                       Random Forest            1.00   \n",
       "6                      Random Forest - HyperParameter            0.88   \n",
       "7                 XGBoost Classifier - HyperParameter            0.86   \n",
       "8   XGBoost Classifier - HyperParameter - Without PCA            0.86   \n",
       "9                                          SVM Linear            0.99   \n",
       "10                                     SVM Non Linear            0.99   \n",
       "\n",
       "    test_accuracy  auc  precision  recall   f1  \\\n",
       "0            0.82 0.82       0.29    0.82 0.43   \n",
       "1            0.83 0.83       0.29    0.83 0.43   \n",
       "2            0.81 0.82       0.27    0.82 0.41   \n",
       "3            0.78 0.75       0.22    0.72 0.34   \n",
       "4            0.84 0.76       0.28    0.67 0.40   \n",
       "5            0.92 0.76       0.48    0.58 0.52   \n",
       "6            0.87 0.82       0.36    0.75 0.48   \n",
       "7            0.86 0.81       0.32    0.76 0.45   \n",
       "8            0.83 0.81       0.29    0.79 0.43   \n",
       "9            0.90 0.74       0.40    0.55 0.46   \n",
       "10           0.90 0.74       0.40    0.55 0.46   \n",
       "\n",
       "                                                model  \n",
       "0                                LogisticRegression()  \n",
       "1                          LogisticRegression(C=0.01)  \n",
       "2         LogisticRegression(C=0.1, random_state=100)  \n",
       "3   DecisionTreeClassifier(class_weight='balanced'...  \n",
       "4   DecisionTreeClassifier(class_weight='balanced'...  \n",
       "5   (DecisionTreeClassifier(max_depth=40, max_feat...  \n",
       "6   (DecisionTreeClassifier(max_depth=40, max_feat...  \n",
       "7   XGBClassifier(base_score=0.5, booster='gbtree'...  \n",
       "8   XGBClassifier(base_score=0.5, booster='gbtree'...  \n",
       "9                                         SVC(C=1000)  \n",
       "10                                        SVC(C=1000)  "
      ]
     },
     "execution_count": 85,
     "metadata": {},
     "output_type": "execute_result"
    }
   ],
   "source": [
    "models = pd.DataFrame(model_metrics)\n",
    "models"
   ]
  },
  {
   "cell_type": "markdown",
   "metadata": {},
   "source": [
    "Accordingly\n",
    "\n",
    "1st Best Model name - Logistic Regression - HyperParameters because the high Interpretibility, Linearity, F1 score, recall and test accuracy.\n",
    "2nd Best Model - Logistic Regression - RFE due to interpretibility, simplicity and comparitively good recall.\n",
    "3rd Best Model - XGBoost Classifier - HyperParameter - Without PCA"
   ]
  },
  {
   "cell_type": "code",
   "execution_count": null,
   "metadata": {},
   "outputs": [],
   "source": [
    "final_model_metrics = models.iloc[1,:]\n",
    "final_model_metrics\n",
    "final_model.coef_"
   ]
  },
  {
   "cell_type": "code",
   "execution_count": null,
   "metadata": {},
   "outputs": [],
   "source": [
    "# list of important features by variance in relation to the target variable.\n",
    "col = list(X_train.columns)\n",
    "df_pca = pd.DataFrame({'PC-1':pca_final.components_[0],'PC-2':pca_final.components_[1], 'PC-3':pca_final.components_[2],'Feature':col})\n",
    "df_pca.head(15)\n"
   ]
  },
  {
   "cell_type": "code",
   "execution_count": null,
   "metadata": {},
   "outputs": [],
   "source": [
    "# Columns identified by Logistic Regression with RFE the second best model\n",
    "rfe_cols"
   ]
  },
  {
   "cell_type": "code",
   "execution_count": null,
   "metadata": {},
   "outputs": [],
   "source": [
    "coefficients = pd.concat([pd.DataFrame(X_train.columns),pd.DataFrame(np.transpose(model_rfe.coef_))], axis = 1)\n",
    "coefficients.columns = ['Features', 'Coefficients']\n",
    "coefficients.head(len(rfe_cols)).sort_values(by=\"Coefficients\", ascending=False)"
   ]
  },
  {
   "cell_type": "markdown",
   "metadata": {},
   "source": [
    "#### Churn Indicators\n",
    "Let us use Logistic Regression with RFE to identify some key indicators for churn, since it is our second best model. We may not get the highest recall rate as Logistic Regression with PCA, anything near should give us an understanding of the best features."
   ]
  },
  {
   "cell_type": "code",
   "execution_count": null,
   "metadata": {},
   "outputs": [],
   "source": [
    "# Re-running the model once again \n",
    "\n",
    "from sklearn.feature_selection import RFE\n",
    "logit_rfe = LogisticRegression(random_state=100, C=0.001)\n",
    "rfe = RFE(logit_rfe, 20)\n",
    "rfe = rfe.fit(X_train, y_train)\n",
    "rfe_cols = X_train.columns[rfe.support_]\n",
    "X_train_rfe = X_train[rfe_cols]\n",
    "X_test_rfe = X_test[rfe_cols]\n",
    "model_rfe = logit_rfe.fit(X_train_rfe, y_train)\n",
    "get_model_metrics_using_predict(\"Logistic Regression - RFE\", model_rfe, X_train_rfe, X_test_rfe, y_train, y_test)\n",
    "cut_off_prob = 0.5\n",
    "y_train_df = predictChurnWithProb(model_rfe,X_train_rfe,y_train,cut_off_prob)\n",
    "# finding cut-off with the right balance of the metrices\n",
    "findOptimalCutoff(y_train_df)\n",
    "# predicting churn with cut-off 0.5\n",
    "cut_off_prob=0.5\n",
    "print(\"Train Metrics with probability: {0}\".format(cut_off_prob))\n",
    "y_train_df = predictChurnWithProb(model_rfe,X_train_rfe,y_train,cut_off_prob)\n",
    "cut_off_prob=0.45\n",
    "print(\"-\"*50)\n",
    "print(\"Test Metrics with probability: {0}\".format(cut_off_prob))\n",
    "y_test_df= predictChurnWithProb(model_rfe,X_test_rfe,y_test,cut_off_prob)\n",
    "model_rfe"
   ]
  },
  {
   "cell_type": "code",
   "execution_count": null,
   "metadata": {},
   "outputs": [],
   "source": [
    "from statsmodels.stats.outliers_influence import variance_inflation_factor\n",
    "vif = pd.DataFrame()\n",
    "vif['Features'] = X_train_rfe.columns\n",
    "vif['VIF'] = [variance_inflation_factor(X_train_rfe.values, i) for i in range(X_train_rfe.shape[1])]\n",
    "vif['VIF'] = round(vif['VIF'], 2)\n",
    "vif = vif.sort_values(by = \"VIF\", ascending = False)\n",
    "vif"
   ]
  },
  {
   "cell_type": "code",
   "execution_count": null,
   "metadata": {},
   "outputs": [],
   "source": [
    "#Anything greater than 5 is considered high VIF, no columns below 5 so we are good.\n",
    "coefficients = pd.concat([pd.DataFrame(X_train_rfe.columns),pd.DataFrame(np.transpose(model_rfe.coef_))], axis = 1)\n",
    "coefficients.columns = ['Features', 'Coefficients']\n",
    "coefficients.head(len(rfe_cols)).sort_values(by=\"Coefficients\", ascending=False)\n"
   ]
  },
  {
   "cell_type": "code",
   "execution_count": null,
   "metadata": {},
   "outputs": [],
   "source": [
    "an observation \n",
    "# is in the target class (“1”) given the values of its X variables. \n",
    "# Thus, these log odd coefficients need to be converted to regular odds in order to make sense of them.\n",
    "\n",
    "odds = np.exp(model_rfe.coef_[0])\n",
    "df_coef = pd.DataFrame(odds, X_train_rfe.columns, columns=['coef']).sort_values(by='coef', ascending=False)\n",
    "df_coef"
   ]
  },
  {
   "cell_type": "code",
   "execution_count": null,
   "metadata": {},
   "outputs": [],
   "source": [
    "df_coef.plot.bar()"
   ]
  },
  {
   "cell_type": "markdown",
   "metadata": {},
   "source": [
    "The graph above suggest that the top 20 features ranked in order of importance as produced by our model choosen for analysis. The features that belong to month 8 i.e., the action month. Hence, it is clear that what happens in the action phase has a direct impact on the customer churn of high value customers.\n",
    "\n"
   ]
  },
  {
   "cell_type": "markdown",
   "metadata": {},
   "source": [
    "### recommendations to avoid churn\n",
    "- The Business should watch outgoing roaming calls in the action month, it could be that the customer is planning to be roaming for some more time and may find it helpful if attractive roaming plans are provided.\n",
    "- Monthly recharges fell drastically, so the telecom company should start looking for monthly recharge drops from the beginnning and also in the action month.\n",
    "- The roaming usage of churners is way higher than those of non-churners across all months, People who are making/reciving more roaming calls during their tenure are more likely to churn. This might suggest that the operators roaming tariffs are higher than what are offered by its competitor, thus forming one of the reasons of churn.\n",
    "- The avg. last recharge amount for churners is less than half the amount of that of the non-churners. Suggesting, as the recharge amount reduces for a customer its chances to churn increases.\n",
    "- Monthly recharges fell from 727 to 582 which is 19% and then drastically to 168 which is 70% drop, so the telecom company should start looking for monthly recharge drops from the beginnning and also in the action month.\n",
    "- Sudden drop in incoming STD (same network) noticed for churned customers while it is consistent for non-churned customers.\n",
    "- Age on network - 77% of the users who churned are within 3 years, which means the customers who are loyal i.e > 3 years are less likely to churn.The telecom company should look for options to increase the loyality factor for high value customers, who are with the network for 3 years or less. It can also look for 2 years or less if budget is a factor for providing any perks."
   ]
  }
 ],
 "metadata": {
  "kernelspec": {
   "display_name": "Python 3",
   "language": "python",
   "name": "python3"
  },
  "language_info": {
   "codemirror_mode": {
    "name": "ipython",
    "version": 3
   },
   "file_extension": ".py",
   "mimetype": "text/x-python",
   "name": "python",
   "nbconvert_exporter": "python",
   "pygments_lexer": "ipython3",
   "version": "3.7.3"
  }
 },
 "nbformat": 4,
 "nbformat_minor": 4
}
